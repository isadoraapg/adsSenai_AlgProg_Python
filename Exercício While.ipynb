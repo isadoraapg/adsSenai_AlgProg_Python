{
 "cells": [
  {
   "cell_type": "code",
   "execution_count": null,
   "id": "941c8417",
   "metadata": {},
   "outputs": [],
   "source": [
    "#1) Faça um programa para exibir os números de 1 a 100\n",
    "\n",
    "numero = 1\n",
    "while numero <= 100:\n",
    "    print(numero)\n",
    "    numero = numero + 1"
   ]
  },
  {
   "cell_type": "code",
   "execution_count": null,
   "id": "2329a046",
   "metadata": {},
   "outputs": [],
   "source": [
    "#2) Faça um programa para exibir os números de 50 a 100\n",
    "\n",
    "numero = 50\n",
    "while numero <= 100:\n",
    "    print(numero)\n",
    "    numero = numero + 1"
   ]
  },
  {
   "cell_type": "code",
   "execution_count": 1,
   "id": "2fc8357b",
   "metadata": {},
   "outputs": [
    {
     "name": "stdout",
     "output_type": "stream",
     "text": [
      "10\n",
      "9\n",
      "8\n",
      "7\n",
      "6\n",
      "5\n",
      "4\n",
      "3\n",
      "2\n",
      "1\n",
      "0\n",
      "Fogo!\n"
     ]
    }
   ],
   "source": [
    "#3) Faça um programa para escrever a contagem regressiva do lançamento de um foguete. \n",
    "#O programa deve imprimir 10, 9, 8, …, 1, 0 e Fogo! na tela.\n",
    "\n",
    "numero = 10\n",
    "while numero >= 0:\n",
    "    print(numero)\n",
    "    numero = numero - 1\n",
    "else:\n",
    "    print(\"Fogo!\")"
   ]
  },
  {
   "cell_type": "code",
   "execution_count": 7,
   "id": "93492683",
   "metadata": {},
   "outputs": [
    {
     "name": "stdout",
     "output_type": "stream",
     "text": [
      "Digite um número: 13\n",
      "1\n",
      "3\n",
      "5\n",
      "7\n",
      "9\n",
      "11\n",
      "13\n"
     ]
    }
   ],
   "source": [
    "#4) Faça um programa para imprimir de 1 até o número digitado pelo usuário, mas apenas os números ímpares.\n",
    "\n",
    "numero = int(input(\"Digite um número: \"))\n",
    "n = 1\n",
    "while n <= numero:\n",
    "    while n % 2 != 0:\n",
    "        print(n)\n",
    "        n = n + 1\n",
    "    n = n + 1"
   ]
  },
  {
   "cell_type": "code",
   "execution_count": 11,
   "id": "5cd14371",
   "metadata": {},
   "outputs": [
    {
     "name": "stdout",
     "output_type": "stream",
     "text": [
      "3\n",
      "6\n",
      "9\n",
      "12\n",
      "15\n",
      "18\n",
      "21\n",
      "24\n",
      "27\n",
      "30\n"
     ]
    }
   ],
   "source": [
    "#5) Faça um programa para escrever os 10 primeiros múltiplos de 3\n",
    "\n",
    "numero = 30\n",
    "n = 1\n",
    "while n <= numero:\n",
    "    while n % 3 == 0:\n",
    "        print(n)\n",
    "        n = n + 1\n",
    "    n = n + 1"
   ]
  },
  {
   "cell_type": "code",
   "execution_count": 14,
   "id": "1b96cf42",
   "metadata": {},
   "outputs": [
    {
     "name": "stdout",
     "output_type": "stream",
     "text": [
      "Digite um número: 5\n",
      "5 x 1 = 5\n",
      "5 x 2 = 10\n",
      "5 x 3 = 15\n",
      "5 x 4 = 20\n",
      "5 x 5 = 25\n",
      "5 x 6 = 30\n",
      "5 x 7 = 35\n",
      "5 x 8 = 40\n",
      "5 x 9 = 45\n",
      "5 x 10 = 50\n"
     ]
    }
   ],
   "source": [
    "#6) Faça um programa para exibir os resultados no mesmo formato de uma tabuada de um número fornecido pelo usuário: 2x1 = 2, \n",
    "#2x2 = 4, …\n",
    "\n",
    "numero = int(input(\"Digite um número: \"))\n",
    "n = 1\n",
    "while n <= 10:\n",
    "    print(numero, \"x\", n, \"=\", n*numero)\n",
    "    n = n + 1"
   ]
  },
  {
   "cell_type": "code",
   "execution_count": 15,
   "id": "afbabd58",
   "metadata": {},
   "outputs": [
    {
     "name": "stdout",
     "output_type": "stream",
     "text": [
      "Digite um número: 5\n",
      "Digite o início da tabuada: 2\n",
      "Digite o fim da tabuada: 6\n",
      "5 x 2 = 10\n",
      "5 x 3 = 15\n",
      "5 x 4 = 20\n",
      "5 x 5 = 25\n",
      "5 x 6 = 30\n"
     ]
    }
   ],
   "source": [
    "#7) Modifique o programa anterior de forma que o usuário também digite o início e o fim da tabuada, em vez de começar com 1 e 10\n",
    "\n",
    "numero = int(input(\"Digite um número: \"))\n",
    "i = int(input(\"Digite o início da tabuada: \"))\n",
    "f = int(input(\"Digite o fim da tabuada: \"))\n",
    "while i <= f:\n",
    "    print(numero, \"x\", i, \"=\", i*numero)\n",
    "    i = i + 1"
   ]
  },
  {
   "cell_type": "code",
   "execution_count": 24,
   "id": "f05c9d75",
   "metadata": {},
   "outputs": [
    {
     "name": "stdout",
     "output_type": "stream",
     "text": [
      "Primeiro número: 5\n",
      "Segundo número: 9\n",
      "5 x 9 = 45\n"
     ]
    }
   ],
   "source": [
    "#8) Escreva um programa que leia dois números. Imprima o resultado da multiplicação do primeiro pelo segundo. \n",
    "#Utilize apenas os operadores de soma e subtração para calcular o resultado. Lembre-se de que podemos entender a multiplicação \n",
    "#de dois números como somas sucessivas de um deles. Assim, 4 × 5 = 5 + 5 + 5 + 5 = 4 + 4 + 4 + 4 + 4.\n",
    "\n",
    "n1 = int(input(\"Primeiro número: \"))\n",
    "n2 = int(input(\"Segundo número: \"))\n",
    "x = 1\n",
    "y = 0\n",
    "while x <= n2:\n",
    "    y = y + n1\n",
    "    x = x + 1\n",
    "print(n1, \"x\", n2, \"=\", y)"
   ]
  },
  {
   "cell_type": "code",
   "execution_count": 25,
   "id": "3b77c475",
   "metadata": {},
   "outputs": [
    {
     "name": "stdout",
     "output_type": "stream",
     "text": [
      "Digite o primeiro número: 15\n",
      "Digite o segundo número: 6\n",
      "15 / 6 = 2 \n",
      "Resto =  3\n"
     ]
    }
   ],
   "source": [
    "#9) Escreva um programa que leia dois números. Imprima a divisão inteira do primeiro pelo segundo, assim como o resto da \n",
    "#divisão. Utilize apenas os operadores de soma e subtração para calcular o resultado. Lembre-se de que podemos entender o \n",
    "#quociente da divisão de dois números como a quantidade de vezes que podemos retirar o divisor do dividendo. \n",
    "#Logo, 20 ÷ 4 = 5, uma vez que podemos subtrair 4 cinco vezes de 20.\n",
    "\n",
    "n1 = int(input(\"Digite o primeiro número: \"))\n",
    "n2 = int(input(\"Digite o segundo número: \"))\n",
    "divInt = 0\n",
    "x = n1\n",
    "while x >= n2:\n",
    "    x = x - n2\n",
    "    divInt = divInt + 1\n",
    "resto = x\n",
    "\n",
    "print(n1, \"/\", n2, \"=\", divInt, \"\\nResto = \", resto)"
   ]
  },
  {
   "cell_type": "code",
   "execution_count": 28,
   "id": "d54d79f3",
   "metadata": {},
   "outputs": [
    {
     "name": "stdout",
     "output_type": "stream",
     "text": [
      "Depósito inicial: 1000\n",
      "Taxa de juros (Ex.: 3 para 3%): 10\n",
      "Saldo do mês 1 é de R$1100.00.\n",
      "Saldo do mês 2 é de R$1210.00.\n",
      "Saldo do mês 3 é de R$1331.00.\n",
      "Saldo do mês 4 é de R$1464.10.\n",
      "Saldo do mês 5 é de R$1610.51.\n",
      "Saldo do mês 6 é de R$1771.56.\n",
      "Saldo do mês 7 é de R$1948.72.\n",
      "Saldo do mês 8 é de R$2143.59.\n",
      "Saldo do mês 9 é de R$2357.95.\n",
      "Saldo do mês 10 é de R$2593.74.\n",
      "Saldo do mês 11 é de R$2853.12.\n",
      "Saldo do mês 12 é de R$3138.43.\n",
      "Saldo do mês 13 é de R$3452.27.\n",
      "Saldo do mês 14 é de R$3797.50.\n",
      "Saldo do mês 15 é de R$4177.25.\n",
      "Saldo do mês 16 é de R$4594.97.\n",
      "Saldo do mês 17 é de R$5054.47.\n",
      "Saldo do mês 18 é de R$5559.92.\n",
      "Saldo do mês 19 é de R$6115.91.\n",
      "Saldo do mês 20 é de R$6727.50.\n",
      "Saldo do mês 21 é de R$7400.25.\n",
      "Saldo do mês 22 é de R$8140.27.\n",
      "Saldo do mês 23 é de R$8954.30.\n",
      "Saldo do mês 24 é de R$9849.73.\n",
      "O ganho obtido com os juros foi de R$ 8849.73.\n"
     ]
    }
   ],
   "source": [
    "#10) Escreva um programa que pergunte o depósito inicial e a taxa de juros de uma poupança. Exiba os valores mês a mês para os \n",
    "#24 primeiros meses. Escreva o total ganho com juros no período.\n",
    "\n",
    "deposito = float(input(\"Depósito inicial: \"))\n",
    "taxa = float(input(\"Taxa de juros (Ex.: 3 para 3%): \"))\n",
    "mes = 1\n",
    "saldo = deposito\n",
    "while mes <= 24:\n",
    "    saldo = saldo + (saldo * (taxa / 100))\n",
    "    print(f\"Saldo do mês {mes} é de R${saldo:5.2f}.\")\n",
    "    mes = mes + 1\n",
    "print(f\"O ganho obtido com os juros foi de R${saldo-deposito:8.2f}.\")"
   ]
  }
 ],
 "metadata": {
  "kernelspec": {
   "display_name": "Python 3 (ipykernel)",
   "language": "python",
   "name": "python3"
  },
  "language_info": {
   "codemirror_mode": {
    "name": "ipython",
    "version": 3
   },
   "file_extension": ".py",
   "mimetype": "text/x-python",
   "name": "python",
   "nbconvert_exporter": "python",
   "pygments_lexer": "ipython3",
   "version": "3.11.3"
  }
 },
 "nbformat": 4,
 "nbformat_minor": 5
}
