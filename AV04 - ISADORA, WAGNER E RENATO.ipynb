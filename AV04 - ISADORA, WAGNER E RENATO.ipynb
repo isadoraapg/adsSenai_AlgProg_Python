{
 "cells": [
  {
   "cell_type": "code",
   "execution_count": null,
   "id": "2567fa0d",
   "metadata": {},
   "outputs": [],
   "source": [
    "#LISTAS"
   ]
  },
  {
   "cell_type": "code",
   "execution_count": 1,
   "id": "191a0067",
   "metadata": {},
   "outputs": [
    {
     "name": "stdout",
     "output_type": "stream",
     "text": [
      "Os numeros digitados foram: [1, 2, 3, 4, 5]\n"
     ]
    }
   ],
   "source": [
    "#Faça um Programa que leia um vetor de 5 números inteiros e mostre-os.\n",
    "\n",
    "vetor = []\n",
    "for i in range (5):\n",
    "    num = int(input(\"Digite um numero inteiro \"))\n",
    "    vetor.append(num)\n",
    "print(\"Os numeros digitados foram:\", vetor)"
   ]
  },
  {
   "cell_type": "code",
   "execution_count": null,
   "id": "a829a3b2",
   "metadata": {},
   "outputs": [],
   "source": [
    "#Faça um Programa que leia um vetor de 10 números reais e mostre-os na ordem inversa.\n",
    "\n",
    "for i in range (10):\n",
    "    num = float(input(\"Digite um numero inteiro \"))\n",
    "    vetor.append(num)\n",
    "print(\"Os numeros digitados foram:\", vetor)"
   ]
  },
  {
   "cell_type": "code",
   "execution_count": 22,
   "id": "d4822ce1",
   "metadata": {},
   "outputs": [
    {
     "name": "stdout",
     "output_type": "stream",
     "text": [
      "3\n"
     ]
    }
   ],
   "source": [
    "#Utilizando listas faça um programa que faça 5 perguntas para uma pessoa sobre um crime. As perguntas são:\n",
    "#a.\"Telefonou para a vítima?\"\n",
    "#b.\"Esteve no local do crime?\"\n",
    "#c.\"Mora perto da vítima?\"\n",
    "#d.\"Devia para a vítima?\"\n",
    "#e.\"Já trabalhou com a vítima?\" \n",
    "#O programa deve no final emitir uma classificação sobre a participação da pessoa no crime. \n",
    "#Se a pessoa responder positivamente a 2 questões ela deve ser classificada como \"Suspeita\", entre 3 e \n",
    "#4 como \"Cúmplice\" e 5 como \"Assassino\". Caso contrário, ele será classificado como \"Inocente\".\n",
    "\n",
    "positivos = 0\n",
    "resposta = input(\"Telefonou para a vítima? (S ou N): \")\n",
    "if resposta.upper() == \"S\":\n",
    "    positivos += 1\n",
    "resposta = input(\"Esteve no local do crime? (S ou N): \")\n",
    "if resposta.upper() == \"S\":\n",
    "    positivos += 1\n",
    "resposta = input(\"Mora perto da vítima? (S ou N): \")\n",
    "if resposta.upper() == \"S\":\n",
    "    positivos += 1\n",
    "resposta = input(\"Devia para a vítima? (S ou N): \")\n",
    "if resposta.upper() == \"S\":\n",
    "    positivos += 1\n",
    "resposta = input(\"Já trabalhou com a vítima? (S ou N): \")\n",
    "if resposta.upper() == \"S\":\n",
    "    positivos += 1\n",
    "\n",
    "if positivos < 2:\n",
    "    print(\"Inocente\")\n",
    "elif positivos == 2:\n",
    "    print(\"Suspeita\")\n",
    "elif positivos < 5:\n",
    "    print(\"Cúmplice\")\n",
    "else:\n",
    "    print(\"Assassino\")"
   ]
  },
  {
   "cell_type": "code",
   "execution_count": 9,
   "id": "016f30be",
   "metadata": {},
   "outputs": [
    {
     "name": "stdout",
     "output_type": "stream",
     "text": [
      "Digite a primeira nota: 6.8\n",
      "Digite a segunda nota: 7.2\n",
      "Digite a terceira nota: 8.6\n",
      "Digite a quarta nota: 7.1\n",
      "N1 =  6.8\n",
      "N2 =  7.2\n",
      "N3 =  8.6\n",
      "N4 =  7.1\n",
      "Média =  7.425000000000001\n"
     ]
    }
   ],
   "source": [
    "#Faça um Programa que leia 4 notas, mostre as notas e a média na tela.\n",
    "\n",
    "n1 = float(input(\"Digite a primeira nota: \"))\n",
    "n2 = float(input(\"Digite a segunda nota: \"))\n",
    "n3 = float(input(\"Digite a terceira nota: \"))\n",
    "n4 = float(input(\"Digite a quarta nota: \"))\n",
    "\n",
    "media = (n1 + n2 + n3 + n4)/4\n",
    "\n",
    "print(\"N1 = \", n1)\n",
    "print(\"N2 = \", n2)\n",
    "print(\"N3 = \", n3)\n",
    "print(\"N4 = \", n4)\n",
    "print(\"Média = \", media)"
   ]
  },
  {
   "cell_type": "code",
   "execution_count": null,
   "id": "d1eb2a23",
   "metadata": {},
   "outputs": [],
   "source": [
    "#Faça um Programa que peça a idade e a altura de 5 pessoas, armazene cada informação no seu respectivo vetor. \n",
    "#Imprima a idade e a altura na ordem inversa a ordem lida\n",
    "\n",
    "idades = []\n",
    "alturas = []\n",
    "\n",
    "for i in range(5):\n",
    "    idade = int(input(\"Digite a idade da pessoa \" + str(i+1) + \": \"))\n",
    "    altura = float(input(\"Digite a altura da pessoa \" + str(i+1) + \" em metros: \"))\n",
    "    idades.append(idade)\n",
    "    alturas.append(altura)\n",
    "\n",
    "print(\"Idades e alturas na ordem inversa à lida:\")\n",
    "for i in range(4, -1, -1):\n",
    "    print(\"Pessoa\", i+1, \"- Idade:\", idades[i], \"- Altura:\", alturas[i])"
   ]
  },
  {
   "cell_type": "code",
   "execution_count": null,
   "id": "e5e311e3",
   "metadata": {},
   "outputs": [],
   "source": [
    "#Faça um Programa que leia um vetor de 5 números inteiros, mostre a soma, a multiplicação e os números.\n",
    "\n",
    "numeros = []\n",
    "soma = 0\n",
    "multiplicacao = 1\n",
    "\n",
    "for i in range(5):\n",
    "    numero = int(input(\"Digite o número \" + str(i+1) + \": \"))\n",
    "    numeros.append(numero)\n",
    "    soma += numero\n",
    "    multiplicacao *= numero\n",
    "\n",
    "print(\"Números:\", numeros)\n",
    "print(\"Soma:\", soma)\n",
    "print(\"Multiplicação:\", multiplicacao)"
   ]
  },
  {
   "cell_type": "code",
   "execution_count": null,
   "id": "0ac9a2b9",
   "metadata": {},
   "outputs": [],
   "source": [
    "#Faça um Programa que peça as quatro notas de 10 alunos, calcule e armazene num vetor \n",
    "#a média de cada aluno, imprima o número de alunos com média maior ou igual a 7.0.\n",
    "\n",
    "medias = []\n",
    "alunos_acima_7 = 0\n",
    "\n",
    "for i in range(10):\n",
    "    soma_notas = 0\n",
    "    for j in range(4):\n",
    "        nota = float(input(\"Digite a nota \" + str(j+1) + \" do aluno \" + str(i+1) + \": \"))\n",
    "        soma_notas += nota\n",
    "    media = soma_notas / 4\n",
    "    medias.append(media)\n",
    "    if media >= 7.0:\n",
    "        alunos_acima_7 += 1\n",
    "\n",
    "print(\"Número de alunos com média maior ou igual a 7.0:\", alunos_acima_7)"
   ]
  },
  {
   "cell_type": "code",
   "execution_count": null,
   "id": "7c4570a8",
   "metadata": {},
   "outputs": [],
   "source": [
    "#Faça um Programa que leia 20 números inteiros e armazene-os num vetor. Armazene os números pares no vetor PAR e os números ÍMPARES no vetor ímpar. Imprima os três vetores.\n",
    "\n",
    "numeros = []\n",
    "pares = []\n",
    "impares = []\n",
    "\n",
    "for i in range(20):\n",
    "    numero = int(input(\"Digite o número \" + str(i+1) + \": \"))\n",
    "    numeros.append(numero)\n",
    "    if numero % 2 == 0:\n",
    "        pares.append(numero)\n",
    "    else:\n",
    "        impares.append(numero)\n",
    "\n",
    "print(\"Números:\", numeros)\n",
    "print(\"Pares:\", pares)\n",
    "print(\"Ímpares:\", impares)"
   ]
  },
  {
   "cell_type": "code",
   "execution_count": null,
   "id": "df2adc75",
   "metadata": {},
   "outputs": [],
   "source": [
    "#Faça um Programa que leia um vetor A com 10 números inteiros, calcule e mostre a soma dos quadrados dos elementos do vetor.\n",
    "\n",
    "A = []\n",
    "soma_quadrados = 0\n",
    "\n",
    "for i in range(10):\n",
    "    numero = int(input(\"Digite o número \" + str(i+1) + \": \"))\n",
    "    A.append(numero)\n",
    "    soma_quadrados += numero ** 2\n",
    "\n",
    "print(\"A soma dos quadrados dos elementos do vetor é:\", soma_quadrados)"
   ]
  },
  {
   "cell_type": "code",
   "execution_count": null,
   "id": "13658cd3",
   "metadata": {},
   "outputs": [],
   "source": [
    "#Faça um Programa que leia dois vetores com 10 elementos cada. \n",
    "#Gere um terceiro vetor de 20 elementos, cujos valores deverão ser compostos pelos elementos intercalados dos dois outros vetores.\n",
    "\n",
    "A = []\n",
    "B = []\n",
    "C = []\n",
    "\n",
    "for i in range(10):\n",
    "    numero_A = int(input(\"Digite o número \" + str(i+1) + \" para o vetor A: \"))\n",
    "    A.append(numero_A)\n",
    "    numero_B = int(input(\"Digite o número \" + str(i+1) + \" para o vetor B: \"))\n",
    "    B.append(numero_B)\n",
    "\n",
    "for i in range(10):\n",
    "    C.append(A[i])\n",
    "    C.append(B[i])\n",
    "\n",
    "print(\"Vetor A:\", A)\n",
    "print(\"Vetor B:\", B)\n",
    "print(\"Vetor C (elementos intercalados de A e B):\", C)"
   ]
  },
  {
   "cell_type": "code",
   "execution_count": null,
   "id": "e487c189",
   "metadata": {},
   "outputs": [],
   "source": [
    "#STRINGS"
   ]
  },
  {
   "cell_type": "code",
   "execution_count": 10,
   "id": "d1808b07",
   "metadata": {},
   "outputs": [
    {
     "name": "stdout",
     "output_type": "stream",
     "text": [
      "Digite seu nome: isadora\n",
      "i\n",
      "s\n",
      "a\n",
      "d\n",
      "o\n",
      "r\n",
      "a\n"
     ]
    }
   ],
   "source": [
    "#Faça um programa que solicite o nome do usuário e imprima-o na vertical.\n",
    "\n",
    "nome = input(\"Digite seu nome: \")\n",
    "for letra in nome:\n",
    "    print(letra)"
   ]
  },
  {
   "cell_type": "code",
   "execution_count": 11,
   "id": "f197ba9b",
   "metadata": {},
   "outputs": [
    {
     "name": "stdout",
     "output_type": "stream",
     "text": [
      "Digite seu nome: isadora\n",
      "i\n",
      "is\n",
      "isa\n",
      "isad\n",
      "isado\n",
      "isador\n",
      "isadora\n"
     ]
    }
   ],
   "source": [
    "#Faça um programa que solicite o nome do usuário e imprima-o na vertical.\n",
    "\n",
    "nome = input(\"Digite seu nome: \")\n",
    "for i in range(len(nome)):\n",
    "    print(nome[:i+1])"
   ]
  },
  {
   "cell_type": "code",
   "execution_count": 12,
   "id": "1b016c92",
   "metadata": {},
   "outputs": [
    {
     "name": "stdout",
     "output_type": "stream",
     "text": [
      "Digite seu nome: isadora\n",
      "isadora\n",
      "isador\n",
      "isado\n",
      "isad\n",
      "isa\n",
      "is\n",
      "i\n"
     ]
    }
   ],
   "source": [
    "#Altere o programa anterior de modo que a escada seja invertida.\n",
    "\n",
    "nome = input(\"Digite seu nome: \")\n",
    "for i in range(len(nome), 0, -1):\n",
    "    print(nome[:i])"
   ]
  },
  {
   "cell_type": "code",
   "execution_count": 14,
   "id": "3aa2f9e7",
   "metadata": {},
   "outputs": [
    {
     "name": "stdout",
     "output_type": "stream",
     "text": [
      "_ _ _ _ _ _ _ _ _ _\n",
      "\n",
      "Digite uma letra:\n",
      "a\n",
      "_ _ _ _ _ _ A _ _ _\n",
      "\n",
      "Digite uma letra:\n",
      "c\n",
      "C _ _ _ _ _ A _ _ _\n",
      "\n",
      "Digite uma letra:\n",
      "o\n",
      "C O _ _ _ _ A _ O _\n",
      "\n",
      "Digite uma letra:\n",
      "m\n",
      "C O M _ _ _ A _ O _\n",
      "\n",
      "Digite uma letra:\n",
      "p\n",
      "C O M P _ _ A _ O _\n",
      "\n",
      "Digite uma letra:\n",
      "u\n",
      "C O M P U _ A _ O _\n",
      "\n",
      "Digite uma letra:\n",
      "t\n",
      "C O M P U T A _ O _\n",
      "\n",
      "Digite uma letra:\n",
      "d\n",
      "C O M P U T A D O _\n",
      "\n",
      "Digite uma letra:\n",
      "r\n",
      "Você ganhou!\n",
      "C O M P U T A D O R\n",
      "\n"
     ]
    }
   ],
   "source": [
    "#Desenvolva um jogo da forca. O programa terá uma lista de palavras lidas de um arquivo texto\n",
    "#e escolherá uma aleatoriamente. O jogador poderá errar 6 vezes antes de ser enforcado.\n",
    "\n",
    "import random\n",
    "\n",
    "\n",
    "def JogoDaForca(forca):\n",
    "    print(' '.join(forca).upper())\n",
    "    print('')\n",
    "\n",
    "\n",
    "palavras = ['desenvolvimento', 'análise', 'python', 'computador', 'java', 'paralelepipedo']\n",
    "palavra = random.choice(palavras)\n",
    "forca = ['_' for i in range(len(palavra))]\n",
    "erros = 0\n",
    "ganhou = False\n",
    "\n",
    "while erros < 6 and not ganhou:\n",
    "    JogoDaForca(forca)\n",
    "    print('Digite uma letra:')\n",
    "    chute = str(input()).lower()\n",
    "\n",
    "    if chute not in palavra:\n",
    "        erros += 1\n",
    "        print(f'Você errou pela {erros}a vez. Tente de novo!')\n",
    "        continue\n",
    "\n",
    "    for index, letra in enumerate(palavra):\n",
    "        if letra == chute:\n",
    "            forca[index] = chute\n",
    "\n",
    "    if '_' not in forca:\n",
    "        ganhou = True\n",
    "\n",
    "if ganhou:\n",
    "    print(\"Você ganhou!\")\n",
    "else:\n",
    "    print(\"Você perdeu :(\")\n",
    "JogoDaForca(forca)"
   ]
  },
  {
   "cell_type": "code",
   "execution_count": 16,
   "id": "6893eaa2",
   "metadata": {},
   "outputs": [
    {
     "name": "stdout",
     "output_type": "stream",
     "text": [
      "Digite a sua data de nascimento (dd/mm/aaaa): 01/05/1994\n",
      "01 de maio de 1994\n"
     ]
    }
   ],
   "source": [
    "#Faça um programa que solicite a data de nascimento (dd/mm/aaaa) do usuário e imprima a data com o nome do mês por extenso.\n",
    "\n",
    "from datetime import datetime\n",
    "import locale\n",
    "locale.setlocale(locale.LC_TIME,'pt_BR.utf8')\n",
    "\n",
    "dataNascimento = input(\"Digite a sua data de nascimento (dd/mm/aaaa): \")\n",
    "dataFormatada = datetime.strptime(dataNascimento, \"%d/%m/%Y\")\n",
    "mesExtenso = dataFormatada.strftime(\"%d de %B de %Y\")\n",
    "\n",
    "print(mesExtenso)"
   ]
  },
  {
   "cell_type": "code",
   "execution_count": 17,
   "id": "1fd72277",
   "metadata": {},
   "outputs": [
    {
     "name": "stdout",
     "output_type": "stream",
     "text": [
      "Valida e corrige número de telefone:\n",
      "Telefone:\n",
      "228-3095\n",
      "Telefone possui 7 dígitos. Vou acrescentar o digito três na frente.\n",
      "Telefone corrigido sem formatação: 32283095\n",
      "Telefone possui 7 dígitos. Vou acrescentar o digito três na frente.\n",
      "Telefone corrigido com formatação: 3228-3095\n"
     ]
    }
   ],
   "source": [
    "#Faça um programa que leia um número de telefone, e corrija o número no caso deste conter somente 7 dígitos, acrescentando o '3' na frente. \n",
    "#O usuário pode informar o número com ou sem o traço separador.\n",
    "\n",
    "def corrigirTelefone(telefone, formatar=True):\n",
    "    telefone_sem_hifen = telefone.replace('-', '')\n",
    "    qtd_caracteres = len(telefone_sem_hifen)\n",
    "    telefoneCorrigido = telefone_sem_hifen\n",
    "\n",
    "    if qtd_caracteres < 8:\n",
    "        print(f'Telefone possui {qtd_caracteres} dígitos. Vou acrescentar o digito três na frente.')\n",
    "        caracteresFaltantes = 8 - qtd_caracteres\n",
    "        telefoneCorrigido = caracteresFaltantes * '3' + telefone_sem_hifen\n",
    "\n",
    "    if formatar:\n",
    "        telefoneCorrigido = telefoneCorrigido[0:4] + '-' + telefoneCorrigido[4:8]\n",
    "\n",
    "    return telefoneCorrigido\n",
    "\n",
    "\n",
    "if __name__ == '__main__':\n",
    "    print('Valida e corrige número de telefone:')\n",
    "    print('Telefone:')\n",
    "    telefone = str(input())\n",
    "\n",
    "    print('Telefone corrigido sem formatação:', corrigirTelefone(telefone, formatar=False))\n",
    "    print('Telefone corrigido com formatação:', corrigirTelefone(telefone))"
   ]
  },
  {
   "cell_type": "code",
   "execution_count": null,
   "id": "12646afb",
   "metadata": {},
   "outputs": [],
   "source": [
    "#Jogo da palavra embaralhada. Desenvolva um jogo em que o usuário tenha que adivinhar uma palavra que será mostrada \n",
    "#com as letras embaralhadas. O programa terá uma lista de palavras lidas de um arquivo texto e escolherá uma aleatoriamente.\n",
    "#O jogador terá seis tentativas para adivinhar a palavra. Ao final a palavra deve ser mostrada na tela, informando se o usuário\n",
    "#ganhou ou perdeu o jogo.\n",
    "\n",
    "import random\n",
    "\n",
    "def embaralha_palavra(palavra):\n",
    "    palavra_embaralhada = random.sample(palavra, len(palavra))\n",
    "    return ''.join(palavra_embaralhada)\n",
    "\n",
    "def jogo_palavra_embaralhada():\n",
    "    palavras = ['python', 'jogo', 'palavra', 'embaralhada', 'aleatoriamente']\n",
    "    palavra_escolhida = random.choice(palavras)\n",
    "    palavra_embaralhada = embaralha_palavra(palavra_escolhida)\n",
    "\n",
    "    print(\"Adivinhe a palavra: \", palavra_embaralhada)\n",
    "    for tentativa in range(6):\n",
    "        palpite = input(\"Digite seu palpite: \")\n",
    "        if palpite == palavra_escolhida:\n",
    "            print(\"Parabéns, você ganhou o jogo!\")\n",
    "            return\n",
    "        else:\n",
    "            print(\"Palpite incorreto. Tente novamente.\")\n",
    "    \n",
    "    print(\"Você perdeu o jogo. A palavra era: \", palavra_escolhida)\n",
    "\n",
    "jogo_palavra_embaralhada()"
   ]
  },
  {
   "cell_type": "code",
   "execution_count": null,
   "id": "20673be0",
   "metadata": {},
   "outputs": [],
   "source": [
    "#Verificação de CPF. Desenvolva um programa que solicite a digitação de um número de CPF no formato xxx.xxx.xxx-xx e \n",
    "#indique se é um número válido ou inválido através da validação dos dígitos verificadores edos caracteres de formatação.\n",
    "\n",
    "cpf = str(input('DIgite o CPF no seguinte formato: [xxx.xxx.xxx-xx]: '))\n",
    "\n",
    "while cpf[3] != '.' or cpf[7] != '.' or cpf[11] != '-':\n",
    "    print('CPF digitado incorretamente.')\n",
    "    cpf = str(input('DIgite o CPF no seguinte formato: [xxx.xxx.xxx-xx]'))\n",
    "print('CPF digitado corretamente.')"
   ]
  },
  {
   "cell_type": "code",
   "execution_count": null,
   "id": "f1b87363",
   "metadata": {},
   "outputs": [],
   "source": [
    "#Tamanho de strings. Faça um programa que leia 2 strings e informe o conteúdo delas seguido do seu comprimento. \n",
    "#Informe também se as duas strings possuem o mesmo comprimento e são iguais ou diferentes no conteúdo.\n",
    "\n",
    "string1 = str(input('Digite a primeira string: '))\n",
    "string2 = str(input('Digite a segunda string: '))\n",
    "print('\\n')\n",
    "print(f'String 1: {string1}')\n",
    "print(f'String 2: {string2}')\n",
    "print('\\n')\n",
    "print(f'Tamanho de \"{string1}\":{len(string1)}')\n",
    "print(f'Tamanho de \"{string2}\":{len(string2)}')\n",
    "print('\\n')\n",
    "if string1 == string2:\n",
    "    print('As duas strings são identicas.')\n",
    "else:\n",
    "    print('As duas strings são diferentes.')\n",
    "if len(string1) == len(string2):\n",
    "    print('As duas strings tem o mesmo tamanho.')\n",
    "else:\n",
    "    print('As duas strings tem tamanhos diferentes.')"
   ]
  },
  {
   "cell_type": "code",
   "execution_count": null,
   "id": "96522b55",
   "metadata": {},
   "outputs": [],
   "source": [
    "#14.\tLeet spek generator. Leet é uma forma de se escrever o alfabeto latino usando outros símbolos em lugar das \n",
    "#letras, como números por exemplo.\n",
    "\n",
    "leet_dict = {\n",
    "    'A': '4',\n",
    "    'E': '3',\n",
    "    'G': '6',\n",
    "    'I': '1',\n",
    "    'O': '0',\n",
    "    'S': '5',\n",
    "    'T': '7'\n",
    "}\n",
    "\n",
    "texto = input('Digite o texto: ').upper()\n",
    "\n",
    "texto_leet = ''\n",
    "for letra in texto:\n",
    "    if letra in leet_dict:\n",
    "        texto_leet += leet_dict[letra]\n",
    "    else:\n",
    "        texto_leet += letra\n",
    "\n",
    "print('Texto em Leet Speak:', texto_leet)"
   ]
  }
 ],
 "metadata": {
  "kernelspec": {
   "display_name": "Python 3 (ipykernel)",
   "language": "python",
   "name": "python3"
  },
  "language_info": {
   "codemirror_mode": {
    "name": "ipython",
    "version": 3
   },
   "file_extension": ".py",
   "mimetype": "text/x-python",
   "name": "python",
   "nbconvert_exporter": "python",
   "pygments_lexer": "ipython3",
   "version": "3.11.3"
  }
 },
 "nbformat": 4,
 "nbformat_minor": 5
}
