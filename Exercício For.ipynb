{
 "cells": [
  {
   "cell_type": "code",
   "execution_count": 1,
   "id": "4a562563",
   "metadata": {},
   "outputs": [
    {
     "name": "stdout",
     "output_type": "stream",
     "text": [
      "0\n",
      "1\n",
      "2\n",
      "3\n",
      "4\n",
      "5\n",
      "6\n",
      "7\n",
      "8\n",
      "9\n"
     ]
    }
   ],
   "source": [
    "#1) Faça um programa para imprimir os números de 0 a 9.\n",
    "\n",
    "for numero in range (10):\n",
    "    print(numero)"
   ]
  },
  {
   "cell_type": "code",
   "execution_count": 3,
   "id": "c27e03b4",
   "metadata": {},
   "outputs": [
    {
     "name": "stdout",
     "output_type": "stream",
     "text": [
      "1\n",
      "2\n",
      "3\n",
      "4\n",
      "5\n",
      "6\n",
      "7\n",
      "8\n",
      "9\n",
      "10\n"
     ]
    }
   ],
   "source": [
    "#2) Faça um programa para imprimir os números de 1 a 10.\n",
    "\n",
    "for numero in range (1, 11):\n",
    "    print(numero)"
   ]
  },
  {
   "cell_type": "code",
   "execution_count": 4,
   "id": "48c2b09b",
   "metadata": {},
   "outputs": [
    {
     "name": "stdout",
     "output_type": "stream",
     "text": [
      "1\n",
      "2\n",
      "3\n",
      "4\n",
      "5\n"
     ]
    }
   ],
   "source": [
    "#3) Faça um programa para imprimir os elementos de uma lista.\n",
    "\n",
    "lista = [1, 2, 3, 4, 5]\n",
    "for numero in lista:\n",
    "    print(numero)"
   ]
  },
  {
   "cell_type": "code",
   "execution_count": 43,
   "id": "ed8a38f7",
   "metadata": {},
   "outputs": [
    {
     "name": "stdout",
     "output_type": "stream",
     "text": [
      "c\n",
      "a\n",
      "c\n",
      "h\n",
      "o\n",
      "r\n",
      "r\n",
      "o\n"
     ]
    }
   ],
   "source": [
    "#4) Faça um programa para imprimir os caracteres de uma string.\n",
    "\n",
    "s = \"cachorro\"\n",
    "\n",
    "for c in s:\n",
    "    print(c)"
   ]
  },
  {
   "cell_type": "code",
   "execution_count": 5,
   "id": "47f7e5cb",
   "metadata": {},
   "outputs": [
    {
     "name": "stdout",
     "output_type": "stream",
     "text": [
      "0\n",
      "2\n",
      "4\n",
      "6\n",
      "8\n"
     ]
    }
   ],
   "source": [
    "#5) Faça um programa para imprimir os números pares de 0 a 10.\n",
    "\n",
    "for numero in range(0, 10, 2):\n",
    "    print(numero)"
   ]
  },
  {
   "cell_type": "code",
   "execution_count": 7,
   "id": "fc5c7131",
   "metadata": {},
   "outputs": [
    {
     "name": "stdout",
     "output_type": "stream",
     "text": [
      "1\n",
      "3\n",
      "5\n",
      "7\n",
      "9\n"
     ]
    }
   ],
   "source": [
    "#6) Faça um programa para imprimir os números ímpares de 1 a 10.\n",
    "for numero in range(1, 10):\n",
    "    if numero %2 != 0:\n",
    "        print(numero)"
   ]
  },
  {
   "cell_type": "code",
   "execution_count": 22,
   "id": "8a36d956",
   "metadata": {},
   "outputs": [
    {
     "name": "stdout",
     "output_type": "stream",
     "text": [
      "5\n",
      "4\n",
      "3\n",
      "2\n",
      "1\n",
      "0\n"
     ]
    }
   ],
   "source": [
    "#7) Imprimir os valores de uma lista de trás para frente.\n",
    "\n",
    "lista = range(6)\n",
    "for numero in lista[::-1]:\n",
    "    print(numero)"
   ]
  },
  {
   "cell_type": "code",
   "execution_count": 49,
   "id": "a9b41ba2",
   "metadata": {},
   "outputs": [
    {
     "name": "stdout",
     "output_type": "stream",
     "text": [
      "Lista:\n",
      "['macaco', 'abelha', 'cachorro', 'leão']\n",
      "\n",
      "Em ordem alfabética:\n",
      "['abelha', 'cachorro', 'leão', 'macaco']\n"
     ]
    }
   ],
   "source": [
    "#8) Imprimir os valores de uma lista em ordem alfabética.\n",
    "\n",
    "lista = [\"macaco\", \"abelha\", \"cachorro\", \"leão\"]\n",
    "\n",
    "print(\"Lista:\")\n",
    "print (lista)\n",
    "\n",
    "print(\"\\nEm ordem alfabética:\")\n",
    "\n",
    "lista.sort()\n",
    "print (lista)"
   ]
  },
  {
   "cell_type": "code",
   "execution_count": 37,
   "id": "88355941",
   "metadata": {},
   "outputs": [
    {
     "name": "stdout",
     "output_type": "stream",
     "text": [
      "[2, 4, 6, 8, 10]\n",
      "[1, 3, 5, 7, 9]\n"
     ]
    }
   ],
   "source": [
    "#Anotações:\n",
    "\n",
    "lista = [1, 2, 3, 4, 5, 6, 7, 8, 9, 10]\n",
    "\n",
    "#Para imprimir par:\n",
    "print (lista[1::2])\n",
    "\n",
    "#Para imprimir impar:\n",
    "print (lista[::2])"
   ]
  }
 ],
 "metadata": {
  "kernelspec": {
   "display_name": "Python 3 (ipykernel)",
   "language": "python",
   "name": "python3"
  },
  "language_info": {
   "codemirror_mode": {
    "name": "ipython",
    "version": 3
   },
   "file_extension": ".py",
   "mimetype": "text/x-python",
   "name": "python",
   "nbconvert_exporter": "python",
   "pygments_lexer": "ipython3",
   "version": "3.11.3"
  }
 },
 "nbformat": 4,
 "nbformat_minor": 5
}
