{
 "cells": [
  {
   "cell_type": "code",
   "execution_count": 1,
   "id": "685d4251",
   "metadata": {},
   "outputs": [],
   "source": [
    "import matplotlib.pyplot as plt"
   ]
  },
  {
   "cell_type": "code",
   "execution_count": 2,
   "id": "3e54259e",
   "metadata": {},
   "outputs": [],
   "source": [
    "import ipywidgets as widgets"
   ]
  },
  {
   "cell_type": "code",
   "execution_count": 3,
   "id": "68c6e78e",
   "metadata": {},
   "outputs": [
    {
     "name": "stdout",
     "output_type": "stream",
     "text": [
      "DADOS PESSOAIS: \n",
      "---------------\n",
      "\n",
      "Nome completo:\n"
     ]
    },
    {
     "data": {
      "application/vnd.jupyter.widget-view+json": {
       "model_id": "3552b4d674494e3ebca3766497b04126",
       "version_major": 2,
       "version_minor": 0
      },
      "text/plain": [
       "Text(value='')"
      ]
     },
     "metadata": {},
     "output_type": "display_data"
    },
    {
     "name": "stdout",
     "output_type": "stream",
     "text": [
      "Data de Nascimento: \n"
     ]
    },
    {
     "data": {
      "application/vnd.jupyter.widget-view+json": {
       "model_id": "7d71709ba1fc44d2961e15cc4846275e",
       "version_major": 2,
       "version_minor": 0
      },
      "text/plain": [
       "DatePicker(value=None, step=1)"
      ]
     },
     "metadata": {},
     "output_type": "display_data"
    },
    {
     "name": "stdout",
     "output_type": "stream",
     "text": [
      "CPF/CNPJ: \n"
     ]
    },
    {
     "data": {
      "application/vnd.jupyter.widget-view+json": {
       "model_id": "39adbe5fc17e451e9dec7e4e59bf7c76",
       "version_major": 2,
       "version_minor": 0
      },
      "text/plain": [
       "Text(value='')"
      ]
     },
     "metadata": {},
     "output_type": "display_data"
    },
    {
     "name": "stdout",
     "output_type": "stream",
     "text": [
      "Gênero: \n"
     ]
    },
    {
     "data": {
      "application/vnd.jupyter.widget-view+json": {
       "model_id": "db72f0d0ab1e4f0492d063bbfa88a8c7",
       "version_major": 2,
       "version_minor": 0
      },
      "text/plain": [
       "Dropdown(options=(('Selecione', 0), ('Masculino', 1), ('Feminino', 2), ('Outro', 3)), value=0)"
      ]
     },
     "metadata": {},
     "output_type": "display_data"
    },
    {
     "name": "stdout",
     "output_type": "stream",
     "text": [
      "Origem: \n"
     ]
    },
    {
     "data": {
      "application/vnd.jupyter.widget-view+json": {
       "model_id": "e51fbf6e20e64b539bc49409bfd1dbdb",
       "version_major": 2,
       "version_minor": 0
      },
      "text/plain": [
       "Dropdown(options=(('Selecione', 0), ('Convênio', 1), ('Facebook', 2), ('Google', 3), ('Indicação', 4)), value=…"
      ]
     },
     "metadata": {},
     "output_type": "display_data"
    },
    {
     "name": "stdout",
     "output_type": "stream",
     "text": [
      "\n",
      "CONTATO: \n",
      "---------------\n",
      "\n",
      "Telefone/WhatsApp:\n"
     ]
    },
    {
     "data": {
      "application/vnd.jupyter.widget-view+json": {
       "model_id": "753230e21b614d7d9fca524c4a8bbc8f",
       "version_major": 2,
       "version_minor": 0
      },
      "text/plain": [
       "Text(value='')"
      ]
     },
     "metadata": {},
     "output_type": "display_data"
    },
    {
     "name": "stdout",
     "output_type": "stream",
     "text": [
      "E-mail Principal:\n"
     ]
    },
    {
     "data": {
      "application/vnd.jupyter.widget-view+json": {
       "model_id": "ba7be7dc3ca44663803dc289555974f2",
       "version_major": 2,
       "version_minor": 0
      },
      "text/plain": [
       "Text(value='')"
      ]
     },
     "metadata": {},
     "output_type": "display_data"
    },
    {
     "name": "stdout",
     "output_type": "stream",
     "text": [
      "\n"
     ]
    },
    {
     "data": {
      "application/vnd.jupyter.widget-view+json": {
       "model_id": "9be758cf093741acb6f8cad098ead7c2",
       "version_major": 2,
       "version_minor": 0
      },
      "text/plain": [
       "Checkbox(value=False, description='Aceito os termos do contrato.')"
      ]
     },
     "metadata": {},
     "output_type": "display_data"
    },
    {
     "name": "stdout",
     "output_type": "stream",
     "text": [
      "\n",
      "ENDEREÇO: \n",
      "---------------\n",
      "\n",
      "Tipo Endereço: \n"
     ]
    },
    {
     "data": {
      "application/vnd.jupyter.widget-view+json": {
       "model_id": "80e2e06a7b974129b56946e2f4ffcbaa",
       "version_major": 2,
       "version_minor": 0
      },
      "text/plain": [
       "Dropdown(options=(('Selecione', 0), ('Casa - Comercial', 1), ('Casa - Residencial', 2), ('Condomínio Comercial…"
      ]
     },
     "metadata": {},
     "output_type": "display_data"
    },
    {
     "name": "stdout",
     "output_type": "stream",
     "text": [
      "CEP:\n"
     ]
    },
    {
     "data": {
      "application/vnd.jupyter.widget-view+json": {
       "model_id": "65b20be37ce24b7193d0ca31ad0382da",
       "version_major": 2,
       "version_minor": 0
      },
      "text/plain": [
       "Text(value='')"
      ]
     },
     "metadata": {},
     "output_type": "display_data"
    },
    {
     "name": "stdout",
     "output_type": "stream",
     "text": [
      "UF: \n"
     ]
    },
    {
     "data": {
      "application/vnd.jupyter.widget-view+json": {
       "model_id": "414ae1b5676b4a26be242ebd65400c98",
       "version_major": 2,
       "version_minor": 0
      },
      "text/plain": [
       "Dropdown(options=(('Selecione', 0),), value=0)"
      ]
     },
     "metadata": {},
     "output_type": "display_data"
    },
    {
     "name": "stdout",
     "output_type": "stream",
     "text": [
      "Bairro:\n"
     ]
    },
    {
     "data": {
      "application/vnd.jupyter.widget-view+json": {
       "model_id": "525e35602c504dfc8d6fa37e814ee974",
       "version_major": 2,
       "version_minor": 0
      },
      "text/plain": [
       "Text(value='')"
      ]
     },
     "metadata": {},
     "output_type": "display_data"
    },
    {
     "name": "stdout",
     "output_type": "stream",
     "text": [
      "Logradouro:\n"
     ]
    },
    {
     "data": {
      "application/vnd.jupyter.widget-view+json": {
       "model_id": "50d809b45b55428d94c7238247b652fa",
       "version_major": 2,
       "version_minor": 0
      },
      "text/plain": [
       "Text(value='')"
      ]
     },
     "metadata": {},
     "output_type": "display_data"
    },
    {
     "name": "stdout",
     "output_type": "stream",
     "text": [
      "Número:\n"
     ]
    },
    {
     "data": {
      "application/vnd.jupyter.widget-view+json": {
       "model_id": "5839907a6b3b4aaead86b45b8f2aaac7",
       "version_major": 2,
       "version_minor": 0
      },
      "text/plain": [
       "Text(value='')"
      ]
     },
     "metadata": {},
     "output_type": "display_data"
    },
    {
     "name": "stdout",
     "output_type": "stream",
     "text": [
      "Cidade:\n"
     ]
    },
    {
     "data": {
      "application/vnd.jupyter.widget-view+json": {
       "model_id": "f2db1fa13cca45a0951d82722e7871de",
       "version_major": 2,
       "version_minor": 0
      },
      "text/plain": [
       "Text(value='')"
      ]
     },
     "metadata": {},
     "output_type": "display_data"
    },
    {
     "name": "stdout",
     "output_type": "stream",
     "text": [
      "\n"
     ]
    },
    {
     "data": {
      "application/vnd.jupyter.widget-view+json": {
       "model_id": "f1b0a3e4f9c249aca4262f2ff1a8e46d",
       "version_major": 2,
       "version_minor": 0
      },
      "text/plain": [
       "Checkbox(value=False, description='Incluir segundo endereço')"
      ]
     },
     "metadata": {},
     "output_type": "display_data"
    },
    {
     "name": "stdout",
     "output_type": "stream",
     "text": [
      "\n"
     ]
    },
    {
     "data": {
      "application/vnd.jupyter.widget-view+json": {
       "model_id": "bf43a09b4221493b9723417d4423e1f0",
       "version_major": 2,
       "version_minor": 0
      },
      "text/plain": [
       "Button(description='Próximo', style=ButtonStyle())"
      ]
     },
     "metadata": {},
     "output_type": "display_data"
    },
    {
     "data": {
      "application/vnd.jupyter.widget-view+json": {
       "model_id": "d10d8ce2db324d918860eece22ec59a6",
       "version_major": 2,
       "version_minor": 0
      },
      "text/plain": [
       "Output()"
      ]
     },
     "metadata": {},
     "output_type": "display_data"
    }
   ],
   "source": [
    "print(\"DADOS PESSOAIS: \")\n",
    "print(\"---------------\")\n",
    "print(\"\")\n",
    "\n",
    "wid_text = widgets.Text(\n",
    ")\n",
    "print(\"Nome completo:\")\n",
    "display(wid_text)\n",
    "\n",
    "wid_datapicker = widgets.DatePicker(\n",
    ")\n",
    "\n",
    "print(\"Data de Nascimento: \")\n",
    "display(wid_datapicker)\n",
    "\n",
    "wid_text_cpf = widgets.Text(\n",
    ")\n",
    "print(\"CPF/CNPJ: \")\n",
    "display(wid_text_cpf)\n",
    "\n",
    "wid_dropdown = widgets.Dropdown(\n",
    "    options=[('Selecione', 0), ('Masculino',1), ('Feminino',2), ('Outro',3)],\n",
    "    value=0,\n",
    ")\n",
    "print(\"Gênero: \")\n",
    "display(wid_dropdown)\n",
    "\n",
    "wid_dropdown_origem = widgets.Dropdown(\n",
    "    options=[('Selecione', 0), ('Convênio',1), ('Facebook',2), ('Google',3), ('Indicação',4)],\n",
    "    value=0,\n",
    ")\n",
    "print(\"Origem: \")\n",
    "display(wid_dropdown_origem)\n",
    "\n",
    "print(\"\")\n",
    "print(\"CONTATO: \")\n",
    "print(\"---------------\")\n",
    "print(\"\")\n",
    "\n",
    "wid_text_telefone = widgets.Text(\n",
    ")\n",
    "print(\"Telefone/WhatsApp:\")\n",
    "display(wid_text_telefone)\n",
    "\n",
    "wid_text_email = widgets.Text(\n",
    ")\n",
    "print(\"E-mail Principal:\")\n",
    "display(wid_text_email)\n",
    "\n",
    "print(\"\")\n",
    "\n",
    "wid_checkbox = widgets.Checkbox(\n",
    "    description='Aceito os termos do contrato.'\n",
    ")\n",
    "display(wid_checkbox)\n",
    "\n",
    "print(\"\")\n",
    "print(\"ENDEREÇO: \")\n",
    "print(\"---------------\")\n",
    "print(\"\")\n",
    "\n",
    "wid_dropdown_endereço = widgets.Dropdown(\n",
    "    options=[('Selecione', 0), ('Casa - Comercial',1), ('Casa - Residencial',2), ('Condomínio Comercial',3), ('Condomínio Residencial',4), ('Empresa',5)],\n",
    "    value=0,\n",
    ")\n",
    "print(\"Tipo Endereço: \")\n",
    "display(wid_dropdown_endereço)\n",
    "\n",
    "wid_text_cep = widgets.Text(\n",
    ")\n",
    "print(\"CEP:\")\n",
    "display(wid_text_cep)\n",
    "\n",
    "wid_dropdown_uf = widgets.Dropdown(\n",
    "    options=[('Selecione', 0)],\n",
    "    value=0,\n",
    ")\n",
    "print(\"UF: \")\n",
    "display(wid_dropdown_uf)\n",
    "\n",
    "wid_text_bairro = widgets.Text(\n",
    ")\n",
    "print(\"Bairro:\")\n",
    "display(wid_text_bairro)\n",
    "\n",
    "wid_text_logradouro = widgets.Text(\n",
    ")\n",
    "print(\"Logradouro:\")\n",
    "display(wid_text_logradouro)\n",
    "\n",
    "wid_text_numero = widgets.Text(\n",
    ")\n",
    "print(\"Número:\")\n",
    "display(wid_text_numero)\n",
    "\n",
    "wid_text_cidade = widgets.Text(\n",
    ")\n",
    "print(\"Cidade:\")\n",
    "display(wid_text_cidade)\n",
    "\n",
    "print(\"\")\n",
    "wid_checkbox_endereco = widgets.Checkbox(\n",
    "    description='Incluir segundo endereço'\n",
    ")\n",
    "display(wid_checkbox_endereco)\n",
    "\n",
    "print(\"\")\n",
    "\n",
    "wid_button = widgets.Button(description=\"Próximo\")\n",
    "wid_output = widgets.Output()\n",
    "\n",
    "def on_button_clicked(b):\n",
    "    with wid_output:\n",
    "        print(\"Aguarde...\")\n",
    "        \n",
    "wid_button.on_click(on_button_clicked)\n",
    "\n",
    "display(wid_button, wid_output)"
   ]
  },
  {
   "cell_type": "code",
   "execution_count": null,
   "id": "b6b3cd9d",
   "metadata": {},
   "outputs": [],
   "source": []
  }
 ],
 "metadata": {
  "kernelspec": {
   "display_name": "Python 3 (ipykernel)",
   "language": "python",
   "name": "python3"
  },
  "language_info": {
   "codemirror_mode": {
    "name": "ipython",
    "version": 3
   },
   "file_extension": ".py",
   "mimetype": "text/x-python",
   "name": "python",
   "nbconvert_exporter": "python",
   "pygments_lexer": "ipython3",
   "version": "3.11.3"
  }
 },
 "nbformat": 4,
 "nbformat_minor": 5
}
