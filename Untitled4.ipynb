{
 "cells": [
  {
   "cell_type": "code",
   "execution_count": 1,
   "id": "d309be98",
   "metadata": {},
   "outputs": [
    {
     "data": {
      "text/plain": [
       "25"
      ]
     },
     "execution_count": 1,
     "metadata": {},
     "output_type": "execute_result"
    }
   ],
   "source": [
    "def quadrado(x):\n",
    "    return x * x\n",
    "quadrado (5)"
   ]
  },
  {
   "cell_type": "code",
   "execution_count": 2,
   "id": "9cc49bb7",
   "metadata": {},
   "outputs": [
    {
     "data": {
      "text/plain": [
       "25"
      ]
     },
     "execution_count": 2,
     "metadata": {},
     "output_type": "execute_result"
    }
   ],
   "source": [
    "def quadrado(x):\n",
    "    valor = x*x\n",
    "    return valor\n",
    "quadrado(5)"
   ]
  },
  {
   "cell_type": "code",
   "execution_count": 3,
   "id": "5800926e",
   "metadata": {},
   "outputs": [
    {
     "data": {
      "text/plain": [
       "7"
      ]
     },
     "execution_count": 3,
     "metadata": {},
     "output_type": "execute_result"
    }
   ],
   "source": [
    "def soma(n1, n2):\n",
    "    resultado = n1 + n2\n",
    "    return resultado\n",
    "soma(2,5)"
   ]
  },
  {
   "cell_type": "code",
   "execution_count": 6,
   "id": "e1191906",
   "metadata": {},
   "outputs": [],
   "source": [
    "def soma(n1, n2):\n",
    "    resultado = n1+n2\n",
    "    return resultado"
   ]
  },
  {
   "cell_type": "code",
   "execution_count": 8,
   "id": "313ac10b",
   "metadata": {},
   "outputs": [
    {
     "name": "stdout",
     "output_type": "stream",
     "text": [
      "A soma é:  8\n",
      "A soma é:  8\n"
     ]
    }
   ],
   "source": [
    "r = soma(3, 5)\n",
    "print(\"A soma é: \", r)\n",
    "print(\"A soma é: \", soma(3,5))"
   ]
  },
  {
   "cell_type": "code",
   "execution_count": 10,
   "id": "58863d28",
   "metadata": {},
   "outputs": [],
   "source": [
    "def leNumeroInt():\n",
    "    numero = input(\"Digite um numero inteiro: \")\n",
    "    return int(numero)"
   ]
  },
  {
   "cell_type": "code",
   "execution_count": 11,
   "id": "2b75ac1d",
   "metadata": {},
   "outputs": [
    {
     "name": "stdout",
     "output_type": "stream",
     "text": [
      "Digite um numero inteiro: 10\n",
      "Número digitado:  10\n"
     ]
    }
   ],
   "source": [
    "n = leNumeroInt()\n",
    "print(\"Número digitado: \", n)"
   ]
  },
  {
   "cell_type": "code",
   "execution_count": null,
   "id": "87272b90",
   "metadata": {},
   "outputs": [],
   "source": []
  },
  {
   "cell_type": "code",
   "execution_count": null,
   "id": "835b5d03",
   "metadata": {},
   "outputs": [],
   "source": []
  },
  {
   "cell_type": "code",
   "execution_count": null,
   "id": "2ba89142",
   "metadata": {},
   "outputs": [],
   "source": []
  }
 ],
 "metadata": {
  "kernelspec": {
   "display_name": "Python 3 (ipykernel)",
   "language": "python",
   "name": "python3"
  },
  "language_info": {
   "codemirror_mode": {
    "name": "ipython",
    "version": 3
   },
   "file_extension": ".py",
   "mimetype": "text/x-python",
   "name": "python",
   "nbconvert_exporter": "python",
   "pygments_lexer": "ipython3",
   "version": "3.11.3"
  }
 },
 "nbformat": 4,
 "nbformat_minor": 5
}
