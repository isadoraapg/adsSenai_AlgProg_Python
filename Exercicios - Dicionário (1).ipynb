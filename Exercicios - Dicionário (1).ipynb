{
 "cells": [
  {
   "cell_type": "code",
   "execution_count": 1,
   "id": "f978143d",
   "metadata": {},
   "outputs": [],
   "source": [
    "dicionaro = {}"
   ]
  },
  {
   "cell_type": "code",
   "execution_count": 2,
   "id": "ea539b96",
   "metadata": {},
   "outputs": [],
   "source": [
    "dicionario = {\n",
    "    \"Nome\": \"Isadora\",\n",
    "    \"Idade\": \"29\",\n",
    "    \"Email\": \"isadora@email.com\"\n",
    "}"
   ]
  },
  {
   "cell_type": "code",
   "execution_count": 3,
   "id": "5c4a1f36",
   "metadata": {},
   "outputs": [
    {
     "data": {
      "text/plain": [
       "'Isadora'"
      ]
     },
     "execution_count": 3,
     "metadata": {},
     "output_type": "execute_result"
    }
   ],
   "source": [
    "dicionario[\"Nome\"]"
   ]
  },
  {
   "cell_type": "code",
   "execution_count": 4,
   "id": "c2213636",
   "metadata": {},
   "outputs": [],
   "source": [
    "dicionario[\"Cidade\"]=\"Florianópolis\""
   ]
  },
  {
   "cell_type": "code",
   "execution_count": 5,
   "id": "65aab04a",
   "metadata": {},
   "outputs": [
    {
     "data": {
      "text/plain": [
       "{'Nome': 'Isadora',\n",
       " 'Idade': '29',\n",
       " 'Email': 'isadora@email.com',\n",
       " 'Cidade': 'Florianópolis'}"
      ]
     },
     "execution_count": 5,
     "metadata": {},
     "output_type": "execute_result"
    }
   ],
   "source": [
    "dicionario"
   ]
  },
  {
   "cell_type": "code",
   "execution_count": 6,
   "id": "ce8500bc",
   "metadata": {},
   "outputs": [],
   "source": [
    "dicionario['Email']=\"isadorapg@email.com\""
   ]
  },
  {
   "cell_type": "code",
   "execution_count": 7,
   "id": "44defb1f",
   "metadata": {},
   "outputs": [
    {
     "data": {
      "text/plain": [
       "{'Nome': 'Isadora',\n",
       " 'Idade': '29',\n",
       " 'Email': 'isadorapg@email.com',\n",
       " 'Cidade': 'Florianópolis'}"
      ]
     },
     "execution_count": 7,
     "metadata": {},
     "output_type": "execute_result"
    }
   ],
   "source": [
    "dicionario"
   ]
  },
  {
   "cell_type": "code",
   "execution_count": 8,
   "id": "b3752cfd",
   "metadata": {},
   "outputs": [],
   "source": [
    "del dicionario[\"Email\"]"
   ]
  },
  {
   "cell_type": "code",
   "execution_count": 9,
   "id": "bd25ab63",
   "metadata": {},
   "outputs": [
    {
     "data": {
      "text/plain": [
       "{'Nome': 'Isadora', 'Idade': '29', 'Cidade': 'Florianópolis'}"
      ]
     },
     "execution_count": 9,
     "metadata": {},
     "output_type": "execute_result"
    }
   ],
   "source": [
    "dicionario"
   ]
  },
  {
   "cell_type": "code",
   "execution_count": 16,
   "id": "3d6f8eab",
   "metadata": {},
   "outputs": [
    {
     "data": {
      "text/plain": [
       "True"
      ]
     },
     "execution_count": 16,
     "metadata": {},
     "output_type": "execute_result"
    }
   ],
   "source": [
    "\"Nome\" in dicionario"
   ]
  },
  {
   "cell_type": "code",
   "execution_count": 17,
   "id": "398c4346",
   "metadata": {},
   "outputs": [
    {
     "data": {
      "text/plain": [
       "dict_keys(['Nome', 'Idade', 'Cidade'])"
      ]
     },
     "execution_count": 17,
     "metadata": {},
     "output_type": "execute_result"
    }
   ],
   "source": [
    "dicionario.keys()"
   ]
  },
  {
   "cell_type": "code",
   "execution_count": 18,
   "id": "c46dc47f",
   "metadata": {},
   "outputs": [
    {
     "data": {
      "text/plain": [
       "dict_values(['Isadora', '29', 'Florianópolis'])"
      ]
     },
     "execution_count": 18,
     "metadata": {},
     "output_type": "execute_result"
    }
   ],
   "source": [
    "dicionario.values()"
   ]
  },
  {
   "cell_type": "code",
   "execution_count": 21,
   "id": "0e5b9ac5",
   "metadata": {},
   "outputs": [
    {
     "data": {
      "text/plain": [
       "4"
      ]
     },
     "execution_count": 21,
     "metadata": {},
     "output_type": "execute_result"
    }
   ],
   "source": [
    "len(dicionario)"
   ]
  },
  {
   "cell_type": "code",
   "execution_count": 40,
   "id": "e38d9c75",
   "metadata": {},
   "outputs": [
    {
     "data": {
      "text/plain": [
       "{'isadora': {'Nome': 'Isadora P.', 'Idade': '29'},\n",
       " 'fulano': {'Nome': 'Fulano de Tal', 'Idade': '25'}}"
      ]
     },
     "execution_count": 40,
     "metadata": {},
     "output_type": "execute_result"
    }
   ],
   "source": [
    "isadora={\"Nome\": \"Isadora P.\", \"Idade\": \"29\"}\n",
    "fulano={\"Nome\": \"Fulano de Tal\", \"Idade\": \"25\"}\n",
    "\n",
    "clientes={}\n",
    "\n",
    "clientes['isadora']= isadora\n",
    "clientes['fulano']= fulano\n",
    "\n",
    "clientes"
   ]
  },
  {
   "cell_type": "code",
   "execution_count": 32,
   "id": "4c747a69",
   "metadata": {},
   "outputs": [
    {
     "data": {
      "text/plain": [
       "{'Nome': 'Isadora P.', 'Idade': '29'}"
      ]
     },
     "execution_count": 32,
     "metadata": {},
     "output_type": "execute_result"
    }
   ],
   "source": [
    "clientes['isadora']"
   ]
  },
  {
   "cell_type": "code",
   "execution_count": 36,
   "id": "6acaf1bf",
   "metadata": {},
   "outputs": [],
   "source": [
    "clientes['isadora']['Cidade']=\"Florianópolis\""
   ]
  },
  {
   "cell_type": "code",
   "execution_count": 41,
   "id": "729701d3",
   "metadata": {},
   "outputs": [
    {
     "data": {
      "text/plain": [
       "{'isadora': {'Nome': 'Isadora P.', 'Idade': '29'},\n",
       " 'fulano': {'Nome': 'Fulano de Tal', 'Idade': '25'}}"
      ]
     },
     "execution_count": 41,
     "metadata": {},
     "output_type": "execute_result"
    }
   ],
   "source": [
    "clientes"
   ]
  },
  {
   "cell_type": "code",
   "execution_count": 38,
   "id": "dc3414fa",
   "metadata": {},
   "outputs": [],
   "source": [
    "del clientes['isadora']['Cidade']"
   ]
  },
  {
   "cell_type": "code",
   "execution_count": 42,
   "id": "4093c436",
   "metadata": {},
   "outputs": [
    {
     "data": {
      "text/plain": [
       "{'isadora': {'Nome': 'Isadora P.', 'Idade': '29'},\n",
       " 'fulano': {'Nome': 'Fulano de Tal', 'Idade': '25'}}"
      ]
     },
     "execution_count": 42,
     "metadata": {},
     "output_type": "execute_result"
    }
   ],
   "source": [
    "clientes"
   ]
  },
  {
   "cell_type": "code",
   "execution_count": 44,
   "id": "c3321b42",
   "metadata": {},
   "outputs": [
    {
     "data": {
      "text/plain": [
       "True"
      ]
     },
     "execution_count": 44,
     "metadata": {},
     "output_type": "execute_result"
    }
   ],
   "source": [
    "'isadora' in clientes"
   ]
  },
  {
   "cell_type": "code",
   "execution_count": 45,
   "id": "4a9e102b",
   "metadata": {},
   "outputs": [
    {
     "data": {
      "text/plain": [
       "dict_keys(['Nome', 'Idade'])"
      ]
     },
     "execution_count": 45,
     "metadata": {},
     "output_type": "execute_result"
    }
   ],
   "source": [
    "isadora.keys()"
   ]
  },
  {
   "cell_type": "code",
   "execution_count": 46,
   "id": "7bb7a480",
   "metadata": {},
   "outputs": [
    {
     "data": {
      "text/plain": [
       "dict_values(['Isadora P.', '29'])"
      ]
     },
     "execution_count": 46,
     "metadata": {},
     "output_type": "execute_result"
    }
   ],
   "source": [
    "isadora.values()"
   ]
  },
  {
   "cell_type": "code",
   "execution_count": 47,
   "id": "723bc618",
   "metadata": {},
   "outputs": [
    {
     "data": {
      "text/plain": [
       "dict_values([{'Nome': 'Isadora P.', 'Idade': '29'}, {'Nome': 'Fulano de Tal', 'Idade': '25'}])"
      ]
     },
     "execution_count": 47,
     "metadata": {},
     "output_type": "execute_result"
    }
   ],
   "source": [
    "clientes.values()"
   ]
  },
  {
   "cell_type": "code",
   "execution_count": 48,
   "id": "8b3992e9",
   "metadata": {},
   "outputs": [
    {
     "data": {
      "text/plain": [
       "2"
      ]
     },
     "execution_count": 48,
     "metadata": {},
     "output_type": "execute_result"
    }
   ],
   "source": [
    "len(clientes)"
   ]
  },
  {
   "cell_type": "code",
   "execution_count": 58,
   "id": "74beda43",
   "metadata": {},
   "outputs": [
    {
     "name": "stdout",
     "output_type": "stream",
     "text": [
      "Digite o valor de início: 2\n",
      "Digite o valor de fim: 5\n",
      "Chave: 2, Valor: 4\n",
      "Chave: 3, Valor: 8\n",
      "Chave: 4, Valor: 16\n",
      "Chave: 5, Valor: 32\n"
     ]
    }
   ],
   "source": [
    "def criarDicionarioPotencias(inicio, fim):\n",
    "    dicionarioPotencias = {}\n",
    "    dicionarioPotencias = {}\n",
    "    \n",
    "\n",
    "    \n",
    "    for num in range(inicio, fim + 1):\n",
    "        dicionarioPotencias[num] = 2 ** num\n",
    "\n",
    "    return dicionarioPotencias\n",
    "\n",
    "\n",
    "def exibirDicionario(dicionario):\n",
    "    for chave, valor in dicionario.items():\n",
    "        print(f'Chave: {chave}, Valor: {valor}')\n",
    "\n",
    "\n",
    "inicio = int(input(\"Digite o valor de início: \"))\n",
    "fim = int(input(\"Digite o valor de fim: \"))\n",
    "\n",
    "\n",
    "potenciasDict = criarDicionarioPotencias(inicio, fim)\n",
    "\n",
    "\n",
    "exibirDicionario(potenciasDict)"
   ]
  },
  {
   "cell_type": "code",
   "execution_count": 60,
   "id": "695d2b62",
   "metadata": {},
   "outputs": [
    {
     "data": {
      "text/plain": [
       "'Isadora'"
      ]
     },
     "execution_count": 60,
     "metadata": {},
     "output_type": "execute_result"
    }
   ],
   "source": [
    "d = {\n",
    "    \"Nome\": \"Isadora\",\n",
    "    \"Idade\": \"29\",\n",
    "    \"Telefone\": \"(48)999999999\",\n",
    "    \"Endereço\": \"Rua X, 25\"\n",
    "}\n",
    "\n",
    "d[\"Nome\"]"
   ]
  },
  {
   "cell_type": "code",
   "execution_count": 62,
   "id": "7447937c",
   "metadata": {},
   "outputs": [
    {
     "name": "stdout",
     "output_type": "stream",
     "text": [
      "Digite o nome: Fulano\n",
      "Digite a idade: 34\n",
      "Digite o telefone: (48)999999991\n",
      "Digite o endereço: Rua y, 10\n",
      "----------\n",
      "Endereço: Rua y, 10\n",
      "Idade: 34\n",
      "Nome: Fulano\n",
      "Telefone: (48)999999991\n"
     ]
    }
   ],
   "source": [
    "\n",
    "d = {}\n",
    "\n",
    "nome = input(\"Digite o nome: \")\n",
    "idade = input(\"Digite a idade: \")\n",
    "telefone = input(\"Digite o telefone: \")\n",
    "endereco = input(\"Digite o endereço: \")\n",
    "print(\"----------\")\n",
    "\n",
    "d['Nome'] = nome\n",
    "d['Idade'] = idade\n",
    "d['Telefone'] = telefone\n",
    "d['Endereço'] = endereco\n",
    "\n",
    "for chave, valor in sorted(d.items()):\n",
    "    print(f'{chave}: {valor}')"
   ]
  },
  {
   "cell_type": "code",
   "execution_count": null,
   "id": "80a46069",
   "metadata": {},
   "outputs": [],
   "source": []
  }
 ],
 "metadata": {
  "kernelspec": {
   "display_name": "Python 3 (ipykernel)",
   "language": "python",
   "name": "python3"
  },
  "language_info": {
   "codemirror_mode": {
    "name": "ipython",
    "version": 3
   },
   "file_extension": ".py",
   "mimetype": "text/x-python",
   "name": "python",
   "nbconvert_exporter": "python",
   "pygments_lexer": "ipython3",
   "version": "3.11.3"
  }
 },
 "nbformat": 4,
 "nbformat_minor": 5
}
