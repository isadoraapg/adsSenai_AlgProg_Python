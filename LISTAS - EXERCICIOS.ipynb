{
 "cells": [
  {
   "cell_type": "code",
   "execution_count": 8,
   "id": "a197710c",
   "metadata": {},
   "outputs": [
    {
     "name": "stdout",
     "output_type": "stream",
     "text": [
      "A lista de números aleatórios é: [44, 86, 61, 87, 10, 34, 60, 100, 23, 19]\n",
      "O maior número da lista é: 100\n"
     ]
    }
   ],
   "source": [
    "#1  Faça um programa que cria uma lista de números aleatórios e encontra o maior número.\n",
    "\n",
    "import random\n",
    "quantidade_numeros = 10\n",
    "numeros = [random.randint(1, 100) for _ in range(quantidade_numeros)]\n",
    "maior_numero = max(numeros)\n",
    "\n",
    "print(f\"A lista de números aleatórios é: {numeros}\")\n",
    "print(f\"O maior número da lista é: {maior_numero}\")"
   ]
  },
  {
   "cell_type": "code",
   "execution_count": 13,
   "id": "f3b20be8",
   "metadata": {},
   "outputs": [
    {
     "name": "stdout",
     "output_type": "stream",
     "text": [
      "Digite uma lista de números inteiros separados com espaço: 1 2 3 4 5\n",
      "Lista de números:  [1, 2, 3, 4, 5]\n",
      "Menor número:  1\n"
     ]
    }
   ],
   "source": [
    "#2 Faça um programa que recebe uma lista de números do usuário e encontra o menor número.\n",
    "\n",
    "lista = input(\"Digite uma lista de números inteiros separados com espaço: \")\n",
    "lista = [int(num) for num in lista.split()]\n",
    "menorNumero = min(lista)\n",
    "\n",
    "print(\"Lista de números: \", lista)\n",
    "print(\"Menor número: \", menorNumero)"
   ]
  },
  {
   "cell_type": "code",
   "execution_count": 14,
   "id": "86fe1e5e",
   "metadata": {},
   "outputs": [
    {
     "name": "stdout",
     "output_type": "stream",
     "text": [
      "[0, 2, 4, 6, 8, 10, 12, 14, 16, 18, 20]\n"
     ]
    }
   ],
   "source": [
    "#3 Faça um programa que cria uma lista de números pares de 0 a 20.\n",
    "\n",
    "lista = [x for x in range(0, 21) if x % 2 == 0]\n",
    "print(lista)"
   ]
  },
  {
   "cell_type": "code",
   "execution_count": 18,
   "id": "278170de",
   "metadata": {},
   "outputs": [
    {
     "name": "stdout",
     "output_type": "stream",
     "text": [
      "Digite alguns nomes separados com espaço: ana julia beatriz roger wagner amanda amelia\n",
      "ana\n",
      "amanda\n",
      "amelia\n"
     ]
    }
   ],
   "source": [
    "#4 Faça um programa que recebe uma lista de nomes e imprime todos os nomes que começam com a letra \"A\"\n",
    "\n",
    "lista = input(\"Digite alguns nomes separados com espaço: \")\n",
    "lista = [nome for nome in lista.split()]\n",
    "\n",
    "for nome in lista:\n",
    "    if nome[0].lower() == 'a':\n",
    "        print(nome)"
   ]
  },
  {
   "cell_type": "code",
   "execution_count": 24,
   "id": "12b2ada3",
   "metadata": {},
   "outputs": [
    {
     "name": "stdout",
     "output_type": "stream",
     "text": [
      "Digite a lista de números desejados separados por espaço: 1 2 3 4 5 6 7 8 9 10\n",
      "[2, 4, 6, 8, 10]\n"
     ]
    }
   ],
   "source": [
    "#5 Faça um programa que recebe uma lista de números e retorna uma nova lista contendo apenas os números pares.\n",
    "\n",
    "lista1 = input(\"Digite a lista de números desejados separados por espaço: \")\n",
    "lista1 = [int(num) for num in lista1.split()]\n",
    "\n",
    "lista2 = []\n",
    "\n",
    "for valor in lista1:\n",
    "    if valor % 2 == 0:\n",
    "        lista2.append(valor)\n",
    "\n",
    "print(lista2)"
   ]
  },
  {
   "cell_type": "code",
   "execution_count": 31,
   "id": "efb816f5",
   "metadata": {},
   "outputs": [
    {
     "name": "stdout",
     "output_type": "stream",
     "text": [
      "Digite a lista de nomes desejados separados por espaço: ana julia beatriz\n",
      "['ana', 'beatriz', 'julia']\n"
     ]
    }
   ],
   "source": [
    "#6 Faça um programa que recebe uma lista de strings e retorna uma nova lista com as strings em ordem alfabética.\n",
    "\n",
    "lista1 = input(\"Digite a lista de nomes desejados separados por espaço: \")\n",
    "lista1 = lista1.split()\n",
    "\n",
    "lista2 = sorted(lista1)\n",
    "print(lista2)"
   ]
  },
  {
   "cell_type": "code",
   "execution_count": 2,
   "id": "4ef31a60",
   "metadata": {},
   "outputs": [
    {
     "name": "stdout",
     "output_type": "stream",
     "text": [
      "Digite quantos números deseja digitar:3\n",
      "Digite um número: 7\n",
      "Digite um número: 8\n",
      "Digite um número: 5\n",
      "[7.0, 8.0, 5.0]\n",
      "20.0\n"
     ]
    }
   ],
   "source": [
    "#7 Faça um programa que recebe uma lista de números e retorna a soma de todos os números.\n",
    "\n",
    "n = int(input(\"Digite quantos números deseja digitar:\"))\n",
    "notas = []\n",
    "for i in range(n):\n",
    "    dado = float(input(\"Digite um número: \"))\n",
    "    notas.append(dado)\n",
    "print(notas)\n",
    "\n",
    "soma = 0\n",
    "for i in range(len(notas)):\n",
    "    soma = soma + notas[i]\n",
    "print(format(soma, \".1f\"))"
   ]
  },
  {
   "cell_type": "code",
   "execution_count": 3,
   "id": "538a895f",
   "metadata": {},
   "outputs": [
    {
     "name": "stdout",
     "output_type": "stream",
     "text": [
      "O número 3 está presente na lista.\n"
     ]
    }
   ],
   "source": [
    "#8 Faça um programa que recebe uma lista de números e verifica se um determinado número está presente na lista.\n",
    "\n",
    "def verificar_numero(lista, numero):\n",
    "    if numero in lista:\n",
    "        return True\n",
    "    else:\n",
    "        return False\n",
    "\n",
    "lista_numeros = [1, 2, 3, 4, 5]\n",
    "numero_verificar = 3\n",
    "\n",
    "if verificar_numero(lista_numeros, numero_verificar):\n",
    "    print(\"O número \",numero_verificar,\" está presente na lista.\")\n",
    "else:\n",
    "    print(\"O número \",numero_verificar,\" não está presente na lista.\")"
   ]
  },
  {
   "cell_type": "code",
   "execution_count": null,
   "id": "9974e6d2",
   "metadata": {},
   "outputs": [],
   "source": [
    "#9 Faça um programa que recebe uma lista de números e retorna uma nova lista com os números elevados ao quadrado.\n",
    "\n",
    "def quadrados(lista):\n",
    "    nova_lista = []\n",
    "    for numero in lista:\n",
    "        novo_numero = numero ** 2\n",
    "        nova_lista.append(novo_numero)\n",
    "    return nova_lista\n",
    "\n",
    "\n",
    "numeros = [1, 2, 3, 4, 5]\n",
    "resultado = quadrados(numeros)\n",
    "print(resultado)"
   ]
  },
  {
   "cell_type": "code",
   "execution_count": 6,
   "id": "68e88e7a",
   "metadata": {},
   "outputs": [
    {
     "name": "stdout",
     "output_type": "stream",
     "text": [
      "3\n",
      "5\n",
      "9\n",
      "7\n",
      "[5, 9, 7]\n",
      "7.0\n"
     ]
    }
   ],
   "source": [
    "#10 Faça um programa que recebe uma lista de números e retorna a média dos números.\n",
    "\n",
    "n = int(input())\n",
    "notas = []\n",
    "for i in range(n):\n",
    "    dado = int(input())\n",
    "    notas.append(dado)\n",
    "print(notas)\n",
    "\n",
    "soma = 0\n",
    "for i in range(len(notas)):\n",
    "    soma = soma + notas[i]\n",
    "media = soma/n\n",
    "print(format(media, \".1f\"))\n"
   ]
  }
 ],
 "metadata": {
  "kernelspec": {
   "display_name": "Python 3 (ipykernel)",
   "language": "python",
   "name": "python3"
  },
  "language_info": {
   "codemirror_mode": {
    "name": "ipython",
    "version": 3
   },
   "file_extension": ".py",
   "mimetype": "text/x-python",
   "name": "python",
   "nbconvert_exporter": "python",
   "pygments_lexer": "ipython3",
   "version": "3.11.3"
  }
 },
 "nbformat": 4,
 "nbformat_minor": 5
}
