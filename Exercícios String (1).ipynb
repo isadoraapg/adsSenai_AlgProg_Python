{
 "cells": [
  {
   "cell_type": "code",
   "execution_count": 7,
   "id": "f5fab137",
   "metadata": {},
   "outputs": [
    {
     "name": "stdout",
     "output_type": "stream",
     "text": [
      "BE encontrada na posicao 3 de AABBEFAATT.\n"
     ]
    }
   ],
   "source": [
    "#1) Escreva um programa que leia duas strings. Verifique se a segunda ocorre dentro da primeira e\n",
    "#imprima a posição de início. 1ª string: AABBEFAATT 2ª string: BE Resultado: BE encontrado na\n",
    "#posição 3 de AABBEFAATT\n",
    "\n",
    "def encontrarPosicao(string1, string2):\n",
    "    posicao = string1.find(string2)\n",
    "    if posicao != -1:\n",
    "        return f\"{string2} encontrada na posicao {posicao} de {string1}.\"\n",
    "    else:\n",
    "        return f\"{string2} não encontrada em {string1}.\"\n",
    "primeiraString = \"AABBEFAATT\"\n",
    "segundaString = \"BE\"\n",
    "\n",
    "resultado = encontrarPosicao(primeiraString, segundaString)\n",
    "print(resultado)"
   ]
  },
  {
   "cell_type": "code",
   "execution_count": 8,
   "id": "2a966398",
   "metadata": {},
   "outputs": [
    {
     "name": "stdout",
     "output_type": "stream",
     "text": [
      "BCT\n"
     ]
    }
   ],
   "source": [
    "#2) Escreva um programa que leia duas strings e gere uma terceira com os caracteres comuns às duas\n",
    "#strings lidas. 1ª string: AAACTBF 2ª string: CBT Resultado: CBT A ordem dos caracteres da string\n",
    "#gerada não é importante, mas deve conter todas as letras comuns a ambas\n",
    "\n",
    "def caracteresComuns(string1, string2):\n",
    "    set1 = set(string1)\n",
    "    set2 = set(string2)\n",
    "    caracteresComuns = set1.intersection(set2)\n",
    "    return ''.join(caracteresComuns)\n",
    "\n",
    "string1 = \"AAACTBF\"\n",
    "string2 = \"CBT\"\n",
    "\n",
    "resultado = caracteresComuns(string1, string2)\n",
    "print(resultado)"
   ]
  },
  {
   "cell_type": "code",
   "execution_count": 9,
   "id": "96b91761",
   "metadata": {},
   "outputs": [
    {
     "name": "stdout",
     "output_type": "stream",
     "text": [
      "BT\n"
     ]
    }
   ],
   "source": [
    "#3) Escreva um programa que leia duas strings e gere uma terceira apenas com os caracteres que\n",
    "#aparecem em uma delas. 1ª string: CTA 2ª string: ABC 3ª string: BT A ordem dos caracteres da\n",
    "#terceira string não é importante.\n",
    "\n",
    "def caracteresAparecem(string1, string2):\n",
    "    set1 = set(string1)\n",
    "    set2 = set(string2)\n",
    "    caracteresAparecem = set1.symmetric_difference(set2)\n",
    "    return ''.join(caracteresAparecem)\n",
    "\n",
    "string1 = \"CTA\"\n",
    "string2 = \"ABC\"\n",
    "\n",
    "resultado = caracteresAparecem(string1, string2)\n",
    "print(resultado)"
   ]
  },
  {
   "cell_type": "code",
   "execution_count": 10,
   "id": "02b800cb",
   "metadata": {},
   "outputs": [
    {
     "name": "stdout",
     "output_type": "stream",
     "text": [
      "AAAA\n"
     ]
    }
   ],
   "source": [
    "#4) Escreva um programa que leia duas strings e gere uma terceira, na qual os caracteres da segunda\n",
    "#foram retirados da primeira. 1ª string: AATTGGAA 2ª string: TG 3ª string: AAAA\n",
    "\n",
    "def retirarCaracteres(string1, string2):\n",
    "    for char in string2:\n",
    "        string1 = string1.replace(char, '')\n",
    "    return string1\n",
    "\n",
    "string1 = \"AATTGGAA\"\n",
    "string2 = \"TG\"\n",
    "\n",
    "resultado = retirarCaracteres(string1, string2)\n",
    "print(resultado)"
   ]
  }
 ],
 "metadata": {
  "kernelspec": {
   "display_name": "Python 3 (ipykernel)",
   "language": "python",
   "name": "python3"
  },
  "language_info": {
   "codemirror_mode": {
    "name": "ipython",
    "version": 3
   },
   "file_extension": ".py",
   "mimetype": "text/x-python",
   "name": "python",
   "nbconvert_exporter": "python",
   "pygments_lexer": "ipython3",
   "version": "3.11.3"
  }
 },
 "nbformat": 4,
 "nbformat_minor": 5
}
