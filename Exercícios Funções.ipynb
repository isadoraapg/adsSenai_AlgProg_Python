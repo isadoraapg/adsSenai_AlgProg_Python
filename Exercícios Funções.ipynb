{
 "cells": [
  {
   "cell_type": "code",
   "execution_count": 9,
   "id": "5226b996",
   "metadata": {},
   "outputs": [
    {
     "name": "stdout",
     "output_type": "stream",
     "text": [
      "Digite o valor de n: 5\n",
      "1 \n",
      "2 2 \n",
      "3 3 3 \n",
      "4 4 4 4 \n",
      "5 5 5 5 5 \n"
     ]
    }
   ],
   "source": [
    "def imprimir(n):\n",
    "    for i in range(1, n+1):\n",
    "        linha = ''\n",
    "        for j in range (i):\n",
    "            linha += str(i) + ' '\n",
    "        print(linha)\n",
    "    \n",
    "n = int(input(\"Digite o valor de n: \"))\n",
    "imprimir(n)"
   ]
  },
  {
   "cell_type": "code",
   "execution_count": 13,
   "id": "c8622bf3",
   "metadata": {},
   "outputs": [
    {
     "name": "stdout",
     "output_type": "stream",
     "text": [
      "Digite o valor de n: 5\n",
      "1 \n",
      "1 2 \n",
      "1 2 3 \n",
      "1 2 3 4 \n",
      "1 2 3 4 5 \n"
     ]
    }
   ],
   "source": [
    "def imprimir(n):\n",
    "    for i in range(1, n+1):\n",
    "        linha = ''\n",
    "        for j in range(1, i+1):\n",
    "            linha += str(j) + ' '\n",
    "        print(linha)\n",
    "    \n",
    "n = int(input(\"Digite o valor de n: \"))\n",
    "imprimir(n)    "
   ]
  },
  {
   "cell_type": "code",
   "execution_count": 14,
   "id": "115d06a7",
   "metadata": {},
   "outputs": [
    {
     "name": "stdout",
     "output_type": "stream",
     "text": [
      "12\n"
     ]
    }
   ],
   "source": [
    "def argumentos(num1, num2, num3):\n",
    "    soma = num1 + num2 + num3\n",
    "    return soma\n",
    "\n",
    "resultado = argumentos(2, 4, 6)\n",
    "print(resultado)"
   ]
  },
  {
   "cell_type": "code",
   "execution_count": 18,
   "id": "7b4efd58",
   "metadata": {},
   "outputs": [
    {
     "name": "stdout",
     "output_type": "stream",
     "text": [
      "P\n",
      "N\n"
     ]
    }
   ],
   "source": [
    "def neg_pos(num):\n",
    "    if num > 0:\n",
    "        return 'P'\n",
    "    else:\n",
    "        return 'N'\n",
    "\n",
    "resultado = neg_pos(16)\n",
    "print(resultado)\n",
    "\n",
    "resultado = neg_pos(-7)\n",
    "print(resultado)"
   ]
  },
  {
   "cell_type": "code",
   "execution_count": 19,
   "id": "4dc9f5cc",
   "metadata": {},
   "outputs": [
    {
     "name": "stdout",
     "output_type": "stream",
     "text": [
      "Digite a taxa de imposto sobre vendas: 5\n",
      "Digite o custo do item antes do imposto: 100\n",
      "O novo custo do item, incluindo o imposto sobre vendas, é R$ 105.0\n"
     ]
    }
   ],
   "source": [
    "def somaImposto(taxaImposto, custo):\n",
    "    imposto = taxaImposto/100 * custo\n",
    "    custo += imposto\n",
    "    return custo\n",
    "\n",
    "taxaImposto = float(input(\"Digite a taxa de imposto sobre vendas: \"))\n",
    "custo = float(input(\"Digite o custo do item antes do imposto: \"))\n",
    "\n",
    "novoCusto = somaImposto(taxaImposto, custo)\n",
    "print(\"O novo custo do item, incluindo o imposto sobre vendas, é R$\", novoCusto)"
   ]
  },
  {
   "cell_type": "code",
   "execution_count": 20,
   "id": "a0eecedc",
   "metadata": {},
   "outputs": [
    {
     "name": "stdout",
     "output_type": "stream",
     "text": [
      "Digite a hora (formato de 24 horas): 22\n",
      "Digite os minutos: 30\n",
      "A nova notação é: 10:30 P.M.\n",
      "Deseja converter outro valor? (S/N): n\n"
     ]
    }
   ],
   "source": [
    "def converter_notacao(hora, minuto):\n",
    "    if hora == 0:\n",
    "        hora_12 = 12\n",
    "        periodo = 'A.M.'\n",
    "    elif hora < 12:\n",
    "        hora_12 = hora\n",
    "        periodo = 'A.M.'\n",
    "    elif hora == 12:\n",
    "        hora_12 = 12\n",
    "        periodo = 'P.M.'\n",
    "    else:\n",
    "        hora_12 = hora - 12\n",
    "        periodo = 'P.M.'\n",
    "    \n",
    "    return hora_12, minuto, periodo\n",
    "\n",
    "while True:\n",
    "    hora = int(input(\"Digite a hora (formato de 24 horas): \"))\n",
    "    minuto = int(input(\"Digite os minutos: \"))\n",
    "\n",
    "    nova_hora, novo_minuto, periodo = converter_notacao(hora, minuto)\n",
    "\n",
    "    print(f\"A nova notação é: {nova_hora}:{novo_minuto:02d} {periodo}\")\n",
    "\n",
    "    opcao = input(\"Deseja converter outro valor? (S/N): \")\n",
    "    if opcao.lower() != 's':\n",
    "        break"
   ]
  },
  {
   "cell_type": "code",
   "execution_count": 22,
   "id": "8f3454cd",
   "metadata": {},
   "outputs": [
    {
     "name": "stdout",
     "output_type": "stream",
     "text": [
      "Digite o valor da prestação (ou 0 para sair): 389.90\n",
      "Digite o número de dias em atraso: 5\n",
      "Valor a ser pago: R$ 403.55\n",
      "Digite o valor da prestação (ou 0 para sair): 0\n",
      "\n",
      "Relatório do dia:\n",
      "Quantidade de prestações pagas: 1\n",
      "Valor total das prestações pagas: R$ 403.55\n"
     ]
    }
   ],
   "source": [
    "def valorPagamento(valor_prestacao, dias_atraso):\n",
    "    if dias_atraso == 0:\n",
    "        return valor_prestacao\n",
    "    else:\n",
    "        multa = valor_prestacao * 0.03\n",
    "        juros = valor_prestacao * (0.001 * dias_atraso)\n",
    "        valor_total = valor_prestacao + multa + juros\n",
    "        return valor_total\n",
    "\n",
    "relatorio = {\n",
    "    'quantidade_prestacoes': 0,\n",
    "    'valor_total': 0\n",
    "}\n",
    "\n",
    "while True:\n",
    "    valor_prestacao = float(input(\"Digite o valor da prestação (ou 0 para sair): \"))\n",
    "    if valor_prestacao == 0:\n",
    "        break\n",
    "\n",
    "    dias_atraso = int(input(\"Digite o número de dias em atraso: \"))\n",
    "\n",
    "    valor_a_pagar = valorPagamento(valor_prestacao, dias_atraso)\n",
    "\n",
    "    print(f\"Valor a ser pago: R$ {valor_a_pagar:.2f}\")\n",
    "\n",
    "    relatorio['quantidade_prestacoes'] += 1\n",
    "    relatorio['valor_total'] += valor_a_pagar\n",
    "\n",
    "print(\"\\nRelatório do dia:\")\n",
    "print(f\"Quantidade de prestações pagas: {relatorio['quantidade_prestacoes']}\")\n",
    "print(f\"Valor total das prestações pagas: R$ {relatorio['valor_total']:.2f}\")\n",
    "\n"
   ]
  },
  {
   "cell_type": "code",
   "execution_count": 24,
   "id": "d8f76c37",
   "metadata": {},
   "outputs": [
    {
     "name": "stdout",
     "output_type": "stream",
     "text": [
      "Digite um número inteiro: 369\n",
      "A quantidade de dígitos do número 369 é: 3\n"
     ]
    }
   ],
   "source": [
    "def contar_digitos(numero):\n",
    "    numero_str = str(numero)\n",
    "    quantidade_digitos = len(numero_str)\n",
    "    return quantidade_digitos\n",
    "\n",
    "numero = int(input(\"Digite um número inteiro: \"))\n",
    "quantidade_digitos = contar_digitos(numero)\n",
    "print(f\"A quantidade de dígitos do número {numero} é: {quantidade_digitos}\")\n"
   ]
  },
  {
   "cell_type": "code",
   "execution_count": 25,
   "id": "76aceb2e",
   "metadata": {},
   "outputs": [
    {
     "name": "stdout",
     "output_type": "stream",
     "text": [
      "Digite um número inteiro: 64\n",
      "O reverso do número 64 é: 46\n"
     ]
    }
   ],
   "source": [
    "def reverso_numero(numero):\n",
    "    numero_str = str(numero)\n",
    "    reverso_str = numero_str[::-1]\n",
    "    reverso = int(reverso_str)\n",
    "    return reverso\n",
    "\n",
    "numero = int(input(\"Digite um número inteiro: \"))\n",
    "reverso = reverso_numero(numero)\n",
    "print(f\"O reverso do número {numero} é: {reverso}\")"
   ]
  },
  {
   "cell_type": "code",
   "execution_count": 28,
   "id": "f9f21616",
   "metadata": {},
   "outputs": [
    {
     "name": "stdout",
     "output_type": "stream",
     "text": [
      "Você tirou 7! Você ganhou!\n"
     ]
    }
   ],
   "source": [
    "import random\n",
    "\n",
    "def jogar_craps():\n",
    "    dado1 = random.randint(1, 6)\n",
    "    dado2 = random.randint(1, 6)\n",
    "    soma_dados = dado1 + dado2\n",
    "\n",
    "    if soma_dados == 7 or soma_dados == 11:\n",
    "        print(f\"Você tirou {soma_dados}! Você ganhou!\")\n",
    "        return\n",
    "    elif soma_dados == 2 or soma_dados == 3 or soma_dados == 12:\n",
    "        print(f\"Você tirou {soma_dados}! Você perdeu!\")\n",
    "        return\n",
    "    else:\n",
    "        print(f\"Você tirou {soma_dados}! Seu ponto é {soma_dados}.\")\n",
    "\n",
    "    while True:\n",
    "        dado1 = random.randint(1, 6)\n",
    "        dado2 = random.randint(1, 6)\n",
    "        nova_soma = dado1 + dado2\n",
    "\n",
    "        if nova_soma == soma_dados:\n",
    "            print(f\"Você tirou {nova_soma}! Você ganhou!\")\n",
    "            return\n",
    "        elif nova_soma == 7:\n",
    "            print(f\"Você tirou {nova_soma}! Você perdeu!\")\n",
    "            return\n",
    "\n",
    "jogar_craps()"
   ]
  },
  {
   "cell_type": "code",
   "execution_count": 29,
   "id": "54181948",
   "metadata": {},
   "outputs": [
    {
     "name": "stdout",
     "output_type": "stream",
     "text": [
      "Digite uma data no formato DD/MM/AAAA: 01/05/1994\n",
      "1 de maio de 1994\n"
     ]
    }
   ],
   "source": [
    "def data_por_extenso(data):\n",
    "\n",
    "    dia, mes, ano = data.split('/')\n",
    "\n",
    "    if len(dia) != 2 or len(mes) != 2 or len(ano) != 4:\n",
    "        return None\n",
    "\n",
    "    try:\n",
    "        dia = int(dia)\n",
    "        mes = int(mes)\n",
    "        ano = int(ano)\n",
    "    except ValueError:\n",
    "        return None\n",
    "\n",
    "    if mes < 1 or mes > 12 or dia < 1 or dia > 31:\n",
    "        return None\n",
    "\n",
    "    meses = [\n",
    "        'janeiro', 'fevereiro', 'março', 'abril', 'maio', 'junho',\n",
    "        'julho', 'agosto', 'setembro', 'outubro', 'novembro', 'dezembro'\n",
    "    ]\n",
    "\n",
    "    data_por_extenso = f\"{dia} de {meses[mes - 1]} de {ano}\"\n",
    "    return data_por_extenso\n",
    "\n",
    "data = input(\"Digite uma data no formato DD/MM/AAAA: \")\n",
    "data_extenso = data_por_extenso(data)\n",
    "\n",
    "if data_extenso is None:\n",
    "    print(\"Data inválida!\")\n",
    "else:\n",
    "    print(data_extenso)"
   ]
  },
  {
   "cell_type": "code",
   "execution_count": 30,
   "id": "a332af87",
   "metadata": {},
   "outputs": [
    {
     "name": "stdout",
     "output_type": "stream",
     "text": [
      "Digite uma palavra: cachorro\n",
      "OCRCRAOH\n"
     ]
    }
   ],
   "source": [
    "import random\n",
    "\n",
    "def embaralhar_palavra(palavra):\n",
    "\n",
    "    palavra = palavra.lower()\n",
    "\n",
    "    caracteres = list(palavra)\n",
    "\n",
    "    random.shuffle(caracteres)\n",
    "\n",
    "    palavra_embaralhada = ''.join(caracteres)\n",
    "\n",
    "    return palavra_embaralhada.upper()\n",
    "\n",
    "palavra = input(\"Digite uma palavra: \")\n",
    "palavra_embaralhada = embaralhar_palavra(palavra)\n",
    "print(palavra_embaralhada)"
   ]
  },
  {
   "cell_type": "code",
   "execution_count": 38,
   "id": "e8916d5a",
   "metadata": {},
   "outputs": [
    {
     "name": "stdout",
     "output_type": "stream",
     "text": [
      "+--------+\n",
      "|        |\n",
      "|        |\n",
      "|        |\n",
      "+--------+\n"
     ]
    }
   ],
   "source": [
    "def desenhar_retangulo(linhas=1, colunas=1):\n",
    "\n",
    "    linhas = max(1, min(linhas, 20))\n",
    "    colunas = max(1, min(colunas, 20))\n",
    "\n",
    "    for i in range(linhas):\n",
    "        if i == 0 or i == linhas - 1:\n",
    "            print('+' + '-' * (colunas - 2) + '+')\n",
    "        else:\n",
    "            print('|' + ' ' * (colunas - 2) + '|')\n",
    "\n",
    "desenhar_retangulo(5, 10)"
   ]
  },
  {
   "cell_type": "code",
   "execution_count": 37,
   "id": "b2ffc12f",
   "metadata": {},
   "outputs": [
    {
     "name": "stdout",
     "output_type": "stream",
     "text": [
      "2 7 6\n",
      "9 5 1\n",
      "4 3 8\n",
      "\n",
      "2 9 4\n",
      "7 5 3\n",
      "6 1 8\n",
      "\n",
      "4 3 8\n",
      "9 5 1\n",
      "2 7 6\n",
      "\n",
      "4 9 2\n",
      "3 5 7\n",
      "8 1 6\n",
      "\n",
      "6 1 8\n",
      "7 5 3\n",
      "2 9 4\n",
      "\n",
      "6 7 2\n",
      "1 5 9\n",
      "8 3 4\n",
      "\n",
      "8 1 6\n",
      "3 5 7\n",
      "4 9 2\n",
      "\n",
      "8 3 4\n",
      "1 5 9\n",
      "6 7 2\n",
      "\n"
     ]
    }
   ],
   "source": [
    "import itertools\n",
    "\n",
    "def verificarQuadradoMagico(quadrado):\n",
    "    \n",
    "    soma = sum(quadrado[:3])\n",
    "    for i in range(1, 3):\n",
    "        if sum(quadrado[i*3:(i+1)*3]) != soma:\n",
    "            return False\n",
    "        if sum(quadrado[i::3]) != soma:\n",
    "            return False\n",
    "    if quadrado[0] + quadrado[4] + quadrado[8] != soma:\n",
    "        return False\n",
    "    if quadrado[2] + quadrado[4] + quadrado[6] != soma:\n",
    "        return False\n",
    "    return True\n",
    "\n",
    "def encontrarQuadradosMagicos():\n",
    "    numeros = list(range(1, 10))\n",
    "    combinacoes = itertools.permutations(numeros)\n",
    "    for combinacao in combinacoes:\n",
    "        if verificar_quadrado_magico(combinacao):\n",
    "            print(f'{combinacao[0]} {combinacao[1]} {combinacao[2]}')\n",
    "            print(f'{combinacao[3]} {combinacao[4]} {combinacao[5]}')\n",
    "            print(f'{combinacao[6]} {combinacao[7]} {combinacao[8]}')\n",
    "            print()\n",
    "\n",
    "encontrarQuadradosMagicos()"
   ]
  }
 ],
 "metadata": {
  "kernelspec": {
   "display_name": "Python 3 (ipykernel)",
   "language": "python",
   "name": "python3"
  },
  "language_info": {
   "codemirror_mode": {
    "name": "ipython",
    "version": 3
   },
   "file_extension": ".py",
   "mimetype": "text/x-python",
   "name": "python",
   "nbconvert_exporter": "python",
   "pygments_lexer": "ipython3",
   "version": "3.11.3"
  }
 },
 "nbformat": 4,
 "nbformat_minor": 5
}
