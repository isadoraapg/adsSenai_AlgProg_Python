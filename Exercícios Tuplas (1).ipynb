{
 "cells": [
  {
   "cell_type": "code",
   "execution_count": 1,
   "id": "ea244476",
   "metadata": {},
   "outputs": [
    {
     "name": "stdout",
     "output_type": "stream",
     "text": [
      "Março\n"
     ]
    }
   ],
   "source": [
    "#1 Crie uma tupla com os meses do ano. Acesse e imprima o terceiro mês.\n",
    "\n",
    "meses_do_ano = ('Janeiro', 'Fevereiro', 'Março', 'Abril', 'Maio', 'Junho', 'Julho', 'Agosto', 'Setembro', 'Outubro', 'Novembro', 'Dezembro')\n",
    "terceiro_mes = meses_do_ano[2]\n",
    "print(terceiro_mes)"
   ]
  },
  {
   "cell_type": "code",
   "execution_count": 2,
   "id": "a1e6f89c",
   "metadata": {},
   "outputs": [
    {
     "name": "stdout",
     "output_type": "stream",
     "text": [
      "A soma dos elementos é: 15\n"
     ]
    }
   ],
   "source": [
    "#2 Crie uma tupla com números inteiros. Calcule e imprima a soma de todos os elementos.\n",
    "\n",
    "numeros = (1, 2, 3, 4, 5)\n",
    "soma = sum(numeros)\n",
    "print(\"A soma dos elementos é:\", soma)"
   ]
  },
  {
   "cell_type": "code",
   "execution_count": 3,
   "id": "8cfce23d",
   "metadata": {},
   "outputs": [
    {
     "name": "stdout",
     "output_type": "stream",
     "text": [
      "Digite o nome de uma fruta: uva\n",
      "A fruta está presente na tupla!\n"
     ]
    }
   ],
   "source": [
    "#3 Crie uma tupla com nomes de frutas. Verifique se uma determinada fruta está presente na tupla.\n",
    "\n",
    "frutas = (\"maçã\", \"banana\", \"laranja\", \"uva\")\n",
    "\n",
    "fruta_escolhida = input(\"Digite o nome de uma fruta: \")\n",
    "\n",
    "if fruta_escolhida in frutas:\n",
    "    print(\"A fruta está presente na tupla!\")\n",
    "else:\n",
    "    print(\"A fruta não está presente na tupla.\")"
   ]
  },
  {
   "cell_type": "code",
   "execution_count": 4,
   "id": "4957ea85",
   "metadata": {},
   "outputs": [
    {
     "name": "stdout",
     "output_type": "stream",
     "text": [
      "A distância entre os pontos é: 5.0\n"
     ]
    }
   ],
   "source": [
    "#4 Crie duas tuplas com coordenadas x e y de pontos em um plano cartesiano. Calcule e imprima a distância entre eles.\n",
    "\n",
    "import math\n",
    "\n",
    "ponto_x = (1, 2)\n",
    "ponto_y = (4, 6)\n",
    "\n",
    "diferenca_x = ponto_y[0] - ponto_x[0]\n",
    "diferenca_y = ponto_y[1] - ponto_x[1]\n",
    "\n",
    "distancia = math.sqrt(diferenca_x**2 + diferenca_y**2)\n",
    "\n",
    "print(\"A distância entre os pontos é:\", distancia)"
   ]
  },
  {
   "cell_type": "code",
   "execution_count": 6,
   "id": "9377e141",
   "metadata": {},
   "outputs": [
    {
     "name": "stdout",
     "output_type": "stream",
     "text": [
      "28 °C equivale a  82.4 °F\n",
      "32 °C equivale a  89.6 °F\n",
      "13 °C equivale a  55.4 °F\n",
      "21 °C equivale a  69.8 °F\n",
      "8 °C equivale a  46.4 °F\n"
     ]
    }
   ],
   "source": [
    "#5 Crie uma tupla com valores de temperatura em graus Celsius. Converta cada valor para Fahrenheit e armazene-os em \n",
    "#uma nova tupla.\n",
    "\n",
    "temperaturas_celsius = (28, 32, 13, 21, 8)\n",
    "\n",
    "def celsius_para_fahrenheit(celsius):\n",
    "    fahrenheit = celsius * 9/5 + 32\n",
    "    return fahrenheit\n",
    "\n",
    "temperaturas_fahrenheit = tuple(celsius_para_fahrenheit(temp) for temp in temperaturas_celsius)\n",
    "\n",
    "for i in range(len(temperaturas_celsius)):\n",
    "    print(temperaturas_celsius[i], \"°C equivale a \", temperaturas_fahrenheit[i], \"°F\")"
   ]
  },
  {
   "cell_type": "code",
   "execution_count": 7,
   "id": "472a3903",
   "metadata": {},
   "outputs": [
    {
     "name": "stdout",
     "output_type": "stream",
     "text": [
      "['Curitiba', 'Florianópolis', 'Porto Alegre', 'Rio de Janeiro', 'São Paulo']\n"
     ]
    }
   ],
   "source": [
    "#6 Crie uma tupla com nomes de cidades. Ordene a tupla em ordem alfabética e imprima-a.\n",
    "\n",
    "cidades = ('Rio de Janeiro', 'São Paulo', 'Florianópolis', 'Curitiba', 'Porto Alegre')\n",
    "\n",
    "ordem_alfabetica = sorted(cidades)\n",
    "\n",
    "print(ordem_alfabetica)"
   ]
  },
  {
   "cell_type": "code",
   "execution_count": 8,
   "id": "563b0a98",
   "metadata": {},
   "outputs": [
    {
     "name": "stdout",
     "output_type": "stream",
     "text": [
      "Maior valor da tupla: 37\n",
      "Menor valor da tupla: 3\n"
     ]
    }
   ],
   "source": [
    "#7 Crie uma tupla com números inteiros. Imprima o maior e o menor valor da tupla.\n",
    "\n",
    "tupla = (37, 5, 8, 15, 20, 3)\n",
    "\n",
    "maior_valor = max(tupla)\n",
    "print(\"Maior valor da tupla:\", maior_valor)\n",
    "\n",
    "menor_valor = min(tupla)\n",
    "print(\"Menor valor da tupla:\", menor_valor)"
   ]
  },
  {
   "cell_type": "code",
   "execution_count": 9,
   "id": "7e95468a",
   "metadata": {},
   "outputs": [
    {
     "name": "stdout",
     "output_type": "stream",
     "text": [
      "O país Brasil aparece 4 vezes na tupla.\n"
     ]
    }
   ],
   "source": [
    "#8 Crie uma tupla com nomes de países. Conte quantas vezes um determinado país aparece na tupla.\n",
    "\n",
    "paises = (\"Brasil\", \"Brasil\", \"Brasil\", \"Estados Unidos\", \"Canadá\", \"Brasil\")\n",
    "\n",
    "pais_desejado = \"Brasil\"\n",
    "quantidade = paises.count(pais_desejado)\n",
    "\n",
    "print(f'O país {pais_desejado} aparece {quantidade} vezes na tupla.')"
   ]
  },
  {
   "cell_type": "code",
   "execution_count": 10,
   "id": "08defc9a",
   "metadata": {},
   "outputs": [
    {
     "name": "stdout",
     "output_type": "stream",
     "text": [
      "(2, 4, 6, 8, 10)\n"
     ]
    }
   ],
   "source": [
    "#9 Crie uma tupla com valores inteiros. Crie uma nova tupla com os valores pares da primeira tupla.\n",
    "\n",
    "tupla1 = (1, 2, 3, 4, 5, 6, 7, 8, 9, 10)\n",
    "tupla2 = tuple(filter(lambda x: x % 2 == 0, tupla1))\n",
    "\n",
    "print(tupla2)"
   ]
  },
  {
   "cell_type": "code",
   "execution_count": 11,
   "id": "17e59df8",
   "metadata": {},
   "outputs": [
    {
     "name": "stdout",
     "output_type": "stream",
     "text": [
      "A média das notas dos alunos é 8.02\n"
     ]
    }
   ],
   "source": [
    "#10 Crie uma tupla com notas de alunos. Calcule a média das notas e imprima-a.\n",
    "\n",
    "notas_alunos = (7.1, 8.2, 9.0, 6.3, 9.5)\n",
    "\n",
    "soma_notas = sum(notas_alunos)\n",
    "qtd_notas = len(notas_alunos)\n",
    "\n",
    "media_notas = soma_notas / qtd_notas\n",
    "\n",
    "print(f\"A média das notas dos alunos é {media_notas:.2f}\")"
   ]
  }
 ],
 "metadata": {
  "kernelspec": {
   "display_name": "Python 3 (ipykernel)",
   "language": "python",
   "name": "python3"
  },
  "language_info": {
   "codemirror_mode": {
    "name": "ipython",
    "version": 3
   },
   "file_extension": ".py",
   "mimetype": "text/x-python",
   "name": "python",
   "nbconvert_exporter": "python",
   "pygments_lexer": "ipython3",
   "version": "3.11.3"
  }
 },
 "nbformat": 4,
 "nbformat_minor": 5
}
