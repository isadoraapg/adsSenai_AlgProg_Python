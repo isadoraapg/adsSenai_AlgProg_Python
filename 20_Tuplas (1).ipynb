{
 "cells": [
  {
   "cell_type": "markdown",
   "id": "fe474443",
   "metadata": {
    "slideshow": {
     "slide_type": "slide"
    }
   },
   "source": [
    "<div style=\"text-align: center\"> <h2> \n",
    "Tuplas\n",
    "    </h2> </div>"
   ]
  },
  {
   "cell_type": "markdown",
   "id": "cf3cc30d",
   "metadata": {
    "slideshow": {
     "slide_type": "subslide"
    }
   },
   "source": [
    "Vamos apresentar mais um tipo integrado, a tupla, e descrever como as listas, os\n",
    "dicionários e as tuplas trabalham juntos.\n",
    "Uma observação: não há consenso sobre como pronunciar “tuple” (em inglês). Algumas\n",
    "pessoas dizem “tuhple”, que rima com “supple”. Porém, no contexto da programação, a\n",
    "maioria das pessoas diz “too-ple”, que rima com “quadruple”."
   ]
  },
  {
   "cell_type": "markdown",
   "id": "dd31400c",
   "metadata": {
    "slideshow": {
     "slide_type": "slide"
    }
   },
   "source": [
    "<div style=\"text-align: center\"> <h2> \n",
    "Tuplas são imutáveis\n",
    "    </h2> </div>"
   ]
  },
  {
   "cell_type": "markdown",
   "id": "1295c746",
   "metadata": {
    "slideshow": {
     "slide_type": "subslide"
    }
   },
   "source": [
    "Uma tupla é uma sequência de valores. Os valores podem ser de qualquer tipo, e podem\n",
    "ser indexados por números inteiros, portanto, nesse sentido, as tuplas são muito parecidas\n",
    "com as listas. A diferença importante é que as tuplas são imutáveis."
   ]
  },
  {
   "cell_type": "code",
   "execution_count": null,
   "id": "7140ff19",
   "metadata": {
    "slideshow": {
     "slide_type": "fragment"
    }
   },
   "outputs": [],
   "source": [
    "\"\"\"Sintaticamente, uma tupla é uma lista de valores separados por vírgulas:\n",
    "\"\"\"\n",
    "t = 'a','b','c','d','e'"
   ]
  },
  {
   "cell_type": "code",
   "execution_count": null,
   "id": "0362f187",
   "metadata": {
    "slideshow": {
     "slide_type": "fragment"
    }
   },
   "outputs": [],
   "source": [
    "\"\"\"Embora não seja sempre necessário, é comum colocar tuplas entre parênteses::\n",
    "\"\"\"\n",
    "t = ('a','b','c','d','e')"
   ]
  },
  {
   "cell_type": "code",
   "execution_count": null,
   "id": "a9d99e8f",
   "metadata": {
    "slideshow": {
     "slide_type": "fragment"
    }
   },
   "outputs": [],
   "source": [
    "\"\"\"Para criar uma tupla com um único elemento, é preciso incluir uma vírgula final:\"\"\"\n",
    "t1 = 'a',\n",
    "type(t1)"
   ]
  },
  {
   "cell_type": "code",
   "execution_count": null,
   "id": "9014edbd",
   "metadata": {
    "slideshow": {
     "slide_type": "fragment"
    }
   },
   "outputs": [],
   "source": [
    "\"\"\"Um único valor entre parênteses não é uma tupla:\"\"\"\n",
    "t2 = ('a')\n",
    "type(t2)"
   ]
  },
  {
   "cell_type": "code",
   "execution_count": null,
   "id": "68093472",
   "metadata": {
    "slideshow": {
     "slide_type": "fragment"
    }
   },
   "outputs": [],
   "source": [
    "\"\"\"Outra forma de criar uma tupla é com a função integrada tuple. Sem argumentos, cria\n",
    "uma tupla vazia:\"\"\"\n",
    "t = tuple()\n",
    "t"
   ]
  },
  {
   "cell_type": "code",
   "execution_count": null,
   "id": "45aae3a3",
   "metadata": {
    "slideshow": {
     "slide_type": "fragment"
    }
   },
   "outputs": [],
   "source": [
    "\"\"\"Se os argumentos forem uma sequência (string, lista ou tupla), o resultado é uma tupla\n",
    "com os elementos da sequência:\"\"\"\n",
    "t = tuple('lupins')\n",
    "t"
   ]
  },
  {
   "cell_type": "markdown",
   "id": "ebe0f88e",
   "metadata": {
    "slideshow": {
     "slide_type": "slide"
    }
   },
   "source": [
    "Como tuple é o nome de uma função integrada, você deve evitar usá-lo como nome de\n",
    "variável."
   ]
  },
  {
   "cell_type": "code",
   "execution_count": null,
   "id": "dabb1aeb",
   "metadata": {
    "slideshow": {
     "slide_type": "fragment"
    }
   },
   "outputs": [],
   "source": [
    "\"\"\"A maior parte dos operadores de lista também funciona em tuplas. O operador de\n",
    "colchetes indexa um elemento:\"\"\"\n",
    "t = ('a','b','c','d','e')\n",
    "t[0]\n"
   ]
  },
  {
   "cell_type": "code",
   "execution_count": null,
   "id": "c1bad558",
   "metadata": {
    "scrolled": true,
    "slideshow": {
     "slide_type": "fragment"
    }
   },
   "outputs": [],
   "source": [
    "\"\"\"E o operador de fatia seleciona vários elementos:\"\"\"\n",
    "t[1:3]"
   ]
  },
  {
   "cell_type": "code",
   "execution_count": null,
   "id": "839fcc43",
   "metadata": {
    "slideshow": {
     "slide_type": "fragment"
    }
   },
   "outputs": [],
   "source": [
    "\"\"\"Entretanto, se tentar alterar um dos elementos da tupla, vai receber um erro:\"\"\"\n",
    "t[0] = 'A'"
   ]
  },
  {
   "cell_type": "code",
   "execution_count": null,
   "id": "af82513d",
   "metadata": {
    "slideshow": {
     "slide_type": "fragment"
    }
   },
   "outputs": [],
   "source": [
    "\"\"\"Como tuplas são imutáveis, você não pode alterar os elementos, mas pode substituir uma\n",
    "tupla por outra:\"\"\"\n",
    "t = ('A',) + t[1:]\n",
    "t\n",
    "#Essa instrução faz uma nova tupla e então a atribui a t."
   ]
  },
  {
   "cell_type": "markdown",
   "id": "7747b5c1",
   "metadata": {
    "slideshow": {
     "slide_type": "slide"
    }
   },
   "source": [
    "Os operadores relacionais funcionam com tuplas e outras sequências; o Python começa\n",
    "comparando o primeiro elemento de cada sequência. Se forem iguais, vai para os\n",
    "próximos elementos, e assim por diante, até que encontre elementos que sejam diferentes.\n",
    "Os elementos subsequentes não são considerados (mesmo se forem muito grandes)."
   ]
  },
  {
   "cell_type": "code",
   "execution_count": null,
   "id": "160aa1bd",
   "metadata": {
    "slideshow": {
     "slide_type": "fragment"
    }
   },
   "outputs": [],
   "source": [
    "(0,1,2)<(0,3,4)"
   ]
  },
  {
   "cell_type": "code",
   "execution_count": null,
   "id": "aac0a9dd",
   "metadata": {
    "slideshow": {
     "slide_type": "fragment"
    }
   },
   "outputs": [],
   "source": [
    "(0,1,200000)<(0,3,4)"
   ]
  },
  {
   "cell_type": "markdown",
   "id": "0c027e6a",
   "metadata": {
    "slideshow": {
     "slide_type": "slide"
    }
   },
   "source": [
    "<div style=\"text-align: center\"> <h2> \n",
    "Tuplas como valores de retorno\n",
    "    </h2> </div>"
   ]
  },
  {
   "cell_type": "markdown",
   "id": "0d99887f",
   "metadata": {
    "slideshow": {
     "slide_type": "subslide"
    }
   },
   "source": [
    "Falando estritamente, uma função só pode retornar um valor, mas se o valor for uma tupla,\n",
    "o efeito é o mesmo que retornar valores múltiplos. Por exemplo, se você quiser dividir\n",
    "dois números inteiros e calcular o quociente e resto, não é eficiente calcular x/y e depois\n",
    "x%y. É melhor calcular ambos ao mesmo tempo."
   ]
  },
  {
   "cell_type": "code",
   "execution_count": null,
   "id": "448dc15b",
   "metadata": {
    "slideshow": {
     "slide_type": "fragment"
    }
   },
   "outputs": [],
   "source": [
    "\"\"\"A função integrada divmod toma dois argumentos e devolve uma tupla de dois valores: o\n",
    "quociente e o resto. Você pode guardar o resultado como uma tupla:\"\"\"\n",
    "t = divmod(7,3)\n",
    "t"
   ]
  },
  {
   "cell_type": "code",
   "execution_count": null,
   "id": "2566d991",
   "metadata": {
    "slideshow": {
     "slide_type": "fragment"
    }
   },
   "outputs": [],
   "source": [
    "\"\"\"Ou usar a atribuição de tuplas para guardar os elementos separadamente:\"\"\"\n",
    "quot, rem = divmod(7,3)\n",
    "quot"
   ]
  },
  {
   "cell_type": "code",
   "execution_count": null,
   "id": "c2a8eab5",
   "metadata": {
    "slideshow": {
     "slide_type": "fragment"
    }
   },
   "outputs": [],
   "source": [
    "rem"
   ]
  },
  {
   "cell_type": "code",
   "execution_count": null,
   "id": "e0d3d7f8",
   "metadata": {
    "slideshow": {
     "slide_type": "fragment"
    }
   },
   "outputs": [],
   "source": [
    "\"\"\"Aqui está um exemplo de função que retorna uma tupla:\"\"\"\n",
    "def min_max(t):\n",
    "    return min(t), max(t)"
   ]
  },
  {
   "cell_type": "markdown",
   "id": "a4e2fa33",
   "metadata": {
    "slideshow": {
     "slide_type": "slide"
    }
   },
   "source": [
    "max e min são funções integradas que encontram os maiores e menores elementos de uma\n",
    "sequência. min_max calcula ambos e retorna uma tupla de dois valores."
   ]
  },
  {
   "cell_type": "code",
   "execution_count": null,
   "id": "43876b34",
   "metadata": {
    "slideshow": {
     "slide_type": "fragment"
    }
   },
   "outputs": [],
   "source": [
    "a = (2,1)\n",
    "min_max(a)"
   ]
  },
  {
   "cell_type": "markdown",
   "id": "73aab666",
   "metadata": {
    "slideshow": {
     "slide_type": "slide"
    }
   },
   "source": [
    "<div style=\"text-align: center\"> <h2> \n",
    "Listas e tuplas\n",
    "    </h2> </div>"
   ]
  },
  {
   "cell_type": "markdown",
   "id": "7971e817",
   "metadata": {
    "slideshow": {
     "slide_type": "fragment"
    }
   },
   "source": [
    "zip é uma função integrada que recebe duas ou mais sequências e devolve uma lista de\n",
    "tuplas onde cada tupla contém um elemento de cada sequência. O nome da função tem a\n",
    "ver com o zíper, que se junta e encaixa duas carreiras de dentes."
   ]
  },
  {
   "cell_type": "code",
   "execution_count": null,
   "id": "f0a15181",
   "metadata": {
    "slideshow": {
     "slide_type": "fragment"
    }
   },
   "outputs": [],
   "source": [
    "\"\"\"Este exemplo encaixa uma string e uma lista:\"\"\"\n",
    "s = 'abc'\n",
    "t = [0,1,2]\n",
    "zip(s,t)"
   ]
  },
  {
   "cell_type": "code",
   "execution_count": null,
   "id": "c5242125",
   "metadata": {
    "slideshow": {
     "slide_type": "fragment"
    }
   },
   "outputs": [],
   "source": [
    "\"\"\"O resultado é um objeto zip que sabe como percorrer os pares. O uso mais comum de zip\n",
    "é em um loop for:\"\"\"\n",
    "for pair in zip(s,t):\n",
    "    print(pair)"
   ]
  },
  {
   "cell_type": "markdown",
   "id": "3bccc1ae",
   "metadata": {
    "slideshow": {
     "slide_type": "slide"
    }
   },
   "source": [
    "Um objeto zip é um tipo de iterador, ou seja, qualquer objeto que percorre ou itera sobre\n",
    "uma sequência. Iteradores são semelhantes a listas em alguns aspectos, mas, ao contrário\n",
    "de listas, não é possível usar um índice para selecionar um elemento de um iterador."
   ]
  },
  {
   "cell_type": "code",
   "execution_count": null,
   "id": "c7686c67",
   "metadata": {
    "slideshow": {
     "slide_type": "fragment"
    }
   },
   "outputs": [],
   "source": [
    "\"\"\"Se quiser usar operadores e métodos de lista, você pode usar um objeto zip para fazer uma\n",
    "lista:\"\"\"\n",
    "\n",
    "list(zip(s,t))"
   ]
  },
  {
   "cell_type": "markdown",
   "id": "f8241529",
   "metadata": {
    "slideshow": {
     "slide_type": "fragment"
    }
   },
   "source": [
    "O resultado é uma lista de tuplas; neste exemplo, cada tupla contém um caractere da string\n",
    "e o elemento correspondente da lista."
   ]
  },
  {
   "cell_type": "code",
   "execution_count": null,
   "id": "3d0b42f9",
   "metadata": {
    "slideshow": {
     "slide_type": "fragment"
    }
   },
   "outputs": [],
   "source": [
    "\"\"\"Se as sequências não forem do mesmo comprimento, o resultado tem o comprimento da\n",
    "mais curta:\"\"\"\n",
    "list(zip('Anne','Elk'))"
   ]
  },
  {
   "cell_type": "markdown",
   "id": "833d8ba1",
   "metadata": {
    "slideshow": {
     "slide_type": "slide"
    }
   },
   "source": [
    "Você pode usar a atribuição de tuplas em um loop for para atravessar uma lista de tuplas:"
   ]
  },
  {
   "cell_type": "code",
   "execution_count": null,
   "id": "002342dd",
   "metadata": {
    "slideshow": {
     "slide_type": "fragment"
    }
   },
   "outputs": [],
   "source": [
    "t = [('a', 0), ('b', 1), ('c', 2)]\n",
    "for letter, number in t:\n",
    "    print(number, letter)"
   ]
  },
  {
   "cell_type": "markdown",
   "id": "db53f874",
   "metadata": {
    "slideshow": {
     "slide_type": "fragment"
    }
   },
   "source": [
    "Cada vez que o programa passa pelo loop, o Python seleciona a próxima tupla na lista e\n",
    "atribui os elementos letter e number."
   ]
  },
  {
   "cell_type": "markdown",
   "id": "8afac1f7",
   "metadata": {
    "slideshow": {
     "slide_type": "slide"
    }
   },
   "source": [
    "<div style=\"text-align: center\"> <h2> \n",
    "Dicionários e tuplas\n",
    "    </h2> </div>"
   ]
  },
  {
   "cell_type": "code",
   "execution_count": null,
   "id": "53ab25cd",
   "metadata": {
    "slideshow": {
     "slide_type": "fragment"
    }
   },
   "outputs": [],
   "source": [
    "\"\"\"Os dicionários têm um método chamado items que devolve uma sequência de tuplas,\n",
    "onde cada tupla é um par chave-valor:\"\"\"\n",
    "d = {'a':0, 'b':1, 'c':2}\n",
    "t = d.items()\n",
    "t"
   ]
  },
  {
   "cell_type": "code",
   "execution_count": null,
   "id": "e3db4dea",
   "metadata": {
    "slideshow": {
     "slide_type": "fragment"
    }
   },
   "outputs": [],
   "source": [
    "\"\"\"O resultado é um objeto dict_items, que é um iterador que percorre os pares chave-valor.\n",
    "Você pode usá-lo em um loop for, desta forma:\"\"\"\n",
    "for key, value in d.items():\n",
    "    print(key,value)"
   ]
  },
  {
   "cell_type": "markdown",
   "id": "fbb6b25f",
   "metadata": {
    "slideshow": {
     "slide_type": "fragment"
    }
   },
   "source": [
    "Como se poderia esperar de um dicionário, os itens não estão em nenhuma ordem em\n",
    "particular."
   ]
  },
  {
   "cell_type": "code",
   "execution_count": null,
   "id": "eedea768",
   "metadata": {
    "slideshow": {
     "slide_type": "fragment"
    }
   },
   "outputs": [],
   "source": [
    "\"\"\"Indo em outra direção, você pode usar uma lista de tuplas para inicializar um novo\n",
    "dicionário:\"\"\"\n",
    "t = [('a', 0), ('c', 2), ('b', 1)]\n",
    "d = dict(t)\n",
    "d"
   ]
  },
  {
   "cell_type": "code",
   "execution_count": null,
   "id": "08c4cb29",
   "metadata": {
    "slideshow": {
     "slide_type": "fragment"
    }
   },
   "outputs": [],
   "source": [
    "\"\"\"Combinar dict com zip produz uma forma concisa de criar um dicionário:\"\"\"\n",
    "d = dict(zip('abc',range(3)))\n",
    "d"
   ]
  },
  {
   "cell_type": "markdown",
   "id": "be604165",
   "metadata": {},
   "source": [
    "Exemplos do slide e diversos:"
   ]
  },
  {
   "cell_type": "code",
   "execution_count": null,
   "id": "a2820d0c",
   "metadata": {},
   "outputs": [],
   "source": [
    "x, y = (18, 20)"
   ]
  },
  {
   "cell_type": "code",
   "execution_count": null,
   "id": "26749ba4",
   "metadata": {},
   "outputs": [],
   "source": [
    "x"
   ]
  },
  {
   "cell_type": "code",
   "execution_count": null,
   "id": "628e4b4a",
   "metadata": {},
   "outputs": [],
   "source": [
    "y"
   ]
  },
  {
   "cell_type": "code",
   "execution_count": null,
   "id": "3191c9a6",
   "metadata": {},
   "outputs": [],
   "source": [
    "18, 20"
   ]
  },
  {
   "cell_type": "code",
   "execution_count": null,
   "id": "cfb21d29",
   "metadata": {},
   "outputs": [],
   "source": [
    "nome, sobrenome, turma = input().split()"
   ]
  },
  {
   "cell_type": "code",
   "execution_count": null,
   "id": "c28feb08",
   "metadata": {},
   "outputs": [],
   "source": [
    "nome, sobrenome, turma"
   ]
  },
  {
   "cell_type": "markdown",
   "id": "9ba68538",
   "metadata": {},
   "source": [
    "Além disso, é possível se converter listas em tuplas. Para isso, mostra-se o exemplo abaixo."
   ]
  },
  {
   "cell_type": "code",
   "execution_count": null,
   "id": "e82b6c00",
   "metadata": {},
   "outputs": [],
   "source": [
    "lista = [0,1,2,3]\n",
    "tupla = (4,5,6,7)"
   ]
  },
  {
   "cell_type": "code",
   "execution_count": null,
   "id": "809d8bdd",
   "metadata": {},
   "outputs": [],
   "source": [
    "lista"
   ]
  },
  {
   "cell_type": "code",
   "execution_count": null,
   "id": "6ad6a413",
   "metadata": {},
   "outputs": [],
   "source": [
    "tupla"
   ]
  },
  {
   "cell_type": "code",
   "execution_count": null,
   "id": "2dfcd717",
   "metadata": {},
   "outputs": [],
   "source": [
    "tupla = tuple(lista)"
   ]
  },
  {
   "cell_type": "code",
   "execution_count": null,
   "id": "dcc511ff",
   "metadata": {},
   "outputs": [],
   "source": [
    "tupla"
   ]
  },
  {
   "cell_type": "code",
   "execution_count": null,
   "id": "feb2c5d5",
   "metadata": {},
   "outputs": [],
   "source": [
    "lista = list (tupla)"
   ]
  },
  {
   "cell_type": "code",
   "execution_count": null,
   "id": "136a1e2d",
   "metadata": {},
   "outputs": [],
   "source": [
    "lista"
   ]
  },
  {
   "cell_type": "markdown",
   "id": "84c122dc",
   "metadata": {},
   "source": [
    "Um exemplo de utilização de uma tupla pode ser para se separar endereços de log-in dos seus respectivos domínios (Hotmail, outlook, etc). Abaixo é ilustrada essa operação."
   ]
  },
  {
   "cell_type": "code",
   "execution_count": null,
   "id": "cf2cb3b1",
   "metadata": {},
   "outputs": [],
   "source": [
    "email = 'fulano@empresa.com'"
   ]
  },
  {
   "cell_type": "code",
   "execution_count": null,
   "id": "1b255110",
   "metadata": {},
   "outputs": [],
   "source": [
    "nome, dominio = email.split('@')"
   ]
  },
  {
   "cell_type": "code",
   "execution_count": null,
   "id": "57f8f651",
   "metadata": {},
   "outputs": [],
   "source": [
    "nome, dominio"
   ]
  },
  {
   "cell_type": "code",
   "execution_count": null,
   "id": "24f15ca8",
   "metadata": {},
   "outputs": [],
   "source": [
    "print ('\\nNome do usuário:', nome, '\\nNome do domínio', dominio)"
   ]
  },
  {
   "cell_type": "markdown",
   "id": "06777428",
   "metadata": {},
   "source": [
    "Embora uma Tupla seja imutável, essa pode ser formada por elementos mutáveis (como listas) e então esses elementos podem ser atualizados, desde que se respeite o formado da Tupla. O exemplo presente abaixo ilustra esse caso."
   ]
  },
  {
   "cell_type": "code",
   "execution_count": null,
   "id": "811a3453",
   "metadata": {},
   "outputs": [],
   "source": [
    "tupla = [0, 1], 'a', 'b'"
   ]
  },
  {
   "cell_type": "code",
   "execution_count": null,
   "id": "22f10f63",
   "metadata": {},
   "outputs": [],
   "source": [
    "tupla[0].append(2)"
   ]
  },
  {
   "cell_type": "code",
   "execution_count": null,
   "id": "a1b33993",
   "metadata": {},
   "outputs": [],
   "source": [
    "tupla"
   ]
  }
 ],
 "metadata": {
  "celltoolbar": "Slideshow",
  "kernelspec": {
   "display_name": "Python 3 (ipykernel)",
   "language": "python",
   "name": "python3"
  },
  "language_info": {
   "codemirror_mode": {
    "name": "ipython",
    "version": 3
   },
   "file_extension": ".py",
   "mimetype": "text/x-python",
   "name": "python",
   "nbconvert_exporter": "python",
   "pygments_lexer": "ipython3",
   "version": "3.11.3"
  }
 },
 "nbformat": 4,
 "nbformat_minor": 5
}
