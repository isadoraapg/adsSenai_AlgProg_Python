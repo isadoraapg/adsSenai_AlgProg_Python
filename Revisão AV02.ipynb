{
 "cells": [
  {
   "cell_type": "code",
   "execution_count": 1,
   "id": "2a5d697f",
   "metadata": {},
   "outputs": [
    {
     "name": "stdout",
     "output_type": "stream",
     "text": [
      "53\n"
     ]
    }
   ],
   "source": [
    "#Questão 01:\n",
    "#Alternativa b\n",
    "\n",
    "print(int(53.785))"
   ]
  },
  {
   "cell_type": "code",
   "execution_count": 2,
   "id": "647d4583",
   "metadata": {},
   "outputs": [
    {
     "name": "stdout",
     "output_type": "stream",
     "text": [
      "19\n"
     ]
    }
   ],
   "source": [
    "#Questão 02:\n",
    "#Alternativa d\n",
    "\n",
    "dia = \"sexta-feira\"\n",
    "dia = 32.5\n",
    "dia = 19\n",
    "print(dia)"
   ]
  },
  {
   "cell_type": "code",
   "execution_count": 3,
   "id": "e58a1a9f",
   "metadata": {},
   "outputs": [
    {
     "name": "stdout",
     "output_type": "stream",
     "text": [
      "4.5 4 2\n"
     ]
    }
   ],
   "source": [
    "#Questão 03:\n",
    "#Alternativa c\n",
    "\n",
    "print(18/4, 18//4, 18%4)"
   ]
  },
  {
   "cell_type": "code",
   "execution_count": 5,
   "id": "e9257829",
   "metadata": {},
   "outputs": [
    {
     "name": "stdout",
     "output_type": "stream",
     "text": [
      "Por favor, digite a sua idade: 18\n",
      "<class 'str'>\n"
     ]
    }
   ],
   "source": [
    "#Questão 04:\n",
    "#Alternativa a\n",
    "\n",
    "idade = (input(\"Por favor, digite a sua idade: \"))\n",
    "print(type(idade))"
   ]
  },
  {
   "cell_type": "code",
   "execution_count": 6,
   "id": "0a3a91ff",
   "metadata": {},
   "outputs": [
    {
     "name": "stdout",
     "output_type": "stream",
     "text": [
      "14\n"
     ]
    }
   ],
   "source": [
    "#Questão 05:\n",
    "#Alternativa c\n",
    "\n",
    "print(16 - 2 * 5 // 3 + 1)"
   ]
  },
  {
   "cell_type": "code",
   "execution_count": 7,
   "id": "6fc273bc",
   "metadata": {},
   "outputs": [
    {
     "name": "stdout",
     "output_type": "stream",
     "text": [
      "22 15\n"
     ]
    }
   ],
   "source": [
    "#Questão 06: \n",
    "#Alternativa d\n",
    "\n",
    "x = 15\n",
    "y = x\n",
    "x = 22\n",
    "print(x, y)"
   ]
  },
  {
   "cell_type": "code",
   "execution_count": 8,
   "id": "b40b4856",
   "metadata": {},
   "outputs": [
    {
     "ename": "NameError",
     "evalue": "name 'a' is not defined",
     "output_type": "error",
     "traceback": [
      "\u001b[1;31m---------------------------------------------------------------------------\u001b[0m",
      "\u001b[1;31mNameError\u001b[0m                                 Traceback (most recent call last)",
      "Cell \u001b[1;32mIn[8], line 8\u001b[0m\n\u001b[0;32m      6\u001b[0m b \u001b[38;5;241m=\u001b[39m \u001b[38;5;241m4\u001b[39m\n\u001b[0;32m      7\u001b[0m d \u001b[38;5;241m=\u001b[39m c \u001b[38;5;241m+\u001b[39m b\n\u001b[1;32m----> 8\u001b[0m a \u001b[38;5;241m=\u001b[39m a \u001b[38;5;241m+\u001b[39m \u001b[38;5;241m1\u001b[39m\n\u001b[0;32m      9\u001b[0m \u001b[38;5;28mprint\u001b[39m (a)\n",
      "\u001b[1;31mNameError\u001b[0m: name 'a' is not defined"
     ]
    }
   ],
   "source": [
    "#Questão 07:\n",
    "#Alternativa d\n",
    "\n",
    "d = 3\n",
    "c = 2\n",
    "b = 4\n",
    "d = c + b\n",
    "a = a + 1\n",
    "print (a)"
   ]
  },
  {
   "cell_type": "code",
   "execution_count": 9,
   "id": "f0a44c81",
   "metadata": {},
   "outputs": [
    {
     "name": "stdout",
     "output_type": "stream",
     "text": [
      "Falso\n"
     ]
    }
   ],
   "source": [
    "#Questão 08:\n",
    "#Alternativa b\n",
    "\n",
    "if (4 + 5 == 10):\n",
    "    print (\"Verdadeiro\")\n",
    "else:\n",
    "    print(\"Falso\")"
   ]
  },
  {
   "cell_type": "code",
   "execution_count": 10,
   "id": "c0b6d381",
   "metadata": {},
   "outputs": [
    {
     "name": "stdout",
     "output_type": "stream",
     "text": [
      "Falso\n",
      "Verdadeiro\n"
     ]
    }
   ],
   "source": [
    "#Questão 09:\n",
    "#Alternativa d\n",
    "\n",
    "if (4 + 5 == 10):\n",
    "    print (\"Verdadeiro\")\n",
    "else:\n",
    "    print(\"Falso\")\n",
    "print(\"Verdadeiro\")"
   ]
  },
  {
   "cell_type": "code",
   "execution_count": 11,
   "id": "c733fc30",
   "metadata": {},
   "outputs": [
    {
     "name": "stdout",
     "output_type": "stream",
     "text": [
      "c\n"
     ]
    }
   ],
   "source": [
    "#Questão 10:\n",
    "#Alternativa c\n",
    "\n",
    "x = 3\n",
    "y = 5\n",
    "z = 2\n",
    "if x < y and x < z :\n",
    "    print(\"a\")\n",
    "elif y < x and y < z :\n",
    "    print (\"b\")\n",
    "else :\n",
    "    print(\"c\")"
   ]
  },
  {
   "cell_type": "code",
   "execution_count": 12,
   "id": "92d2e8c7",
   "metadata": {},
   "outputs": [
    {
     "name": "stdout",
     "output_type": "stream",
     "text": [
      "IlovePython\n"
     ]
    }
   ],
   "source": [
    "#Questão 11:\n",
    "#Alternativa c\n",
    "\n",
    "a = \"I\"\n",
    "b = \"love\"\n",
    "c = \"Python\"\n",
    "print (a + b + c)"
   ]
  },
  {
   "cell_type": "code",
   "execution_count": 13,
   "id": "0e8f5d40",
   "metadata": {},
   "outputs": [
    {
     "name": "stdout",
     "output_type": "stream",
     "text": [
      "python!!!\n"
     ]
    }
   ],
   "source": [
    "#Quesstão 12:\n",
    "#Alternativa c\n",
    "\n",
    "a = \"python\"\n",
    "b = \"!\"\n",
    "print(a + b * 3)"
   ]
  },
  {
   "cell_type": "code",
   "execution_count": 15,
   "id": "250f0899",
   "metadata": {},
   "outputs": [
    {
     "name": "stdout",
     "output_type": "stream",
     "text": [
      "Digite o primeiro número: 3\n",
      "Digite o segundo número: 2\n",
      "Digite o terceiro número: 1\n",
      "O maior é o número:  3\n"
     ]
    }
   ],
   "source": [
    "#Questão 13:\n",
    "\n",
    "numero1 = int(input(\"Digite o primeiro número: \"))\n",
    "numero2 = int(input(\"Digite o segundo número: \"))\n",
    "numero3 = int(input(\"Digite o terceiro número: \"))\n",
    "\n",
    "maior = numero1\n",
    "if numero2 > maior :\n",
    "    maior = numero2\n",
    "if numero3 > maior :\n",
    "    maior = numero3\n",
    "print(\"O maior é o número: \", maior)"
   ]
  },
  {
   "cell_type": "code",
   "execution_count": 16,
   "id": "32cb7546",
   "metadata": {},
   "outputs": [
    {
     "name": "stdout",
     "output_type": "stream",
     "text": [
      "Digite o primeiro número: 10\n",
      "Digite o segundo número: 30\n",
      "Digite o terceiro número: 5\n",
      "Em ordem decrescente: 30, 10, 5.\n"
     ]
    }
   ],
   "source": [
    "#Questão 14:\n",
    "\n",
    "numero1 = int(input(\"Digite o primeiro número: \"))\n",
    "numero2 = int(input(\"Digite o segundo número: \"))\n",
    "numero3 = int(input(\"Digite o terceiro número: \"))\n",
    "\n",
    "maior = max(numero1, numero2, numero3)\n",
    "menor = min(numero1, numero2, numero3)\n",
    "meio = (numero1 + numero2 + numero3) - maior - menor\n",
    "\n",
    "print(f\"Em ordem decrescente: {maior}, {meio}, {menor}.\")"
   ]
  },
  {
   "cell_type": "code",
   "execution_count": 19,
   "id": "cfa36e92",
   "metadata": {},
   "outputs": [
    {
     "name": "stdout",
     "output_type": "stream",
     "text": [
      "Jogador 01: \n",
      "1 - Pedra\n",
      "2 - Papel\n",
      "3 - Tesoura\n",
      "Digite o número correspondente à opção desejada: 1\n",
      "\n",
      "Jogador 02: \n",
      "1 - Pedra\n",
      "2 - Papel\n",
      "3 - Tesoura\n",
      "Digite o número correspondente à opção desejada: 2\n",
      "Vence Jogador 2!\n"
     ]
    }
   ],
   "source": [
    "#Questão 15:\n",
    "\n",
    "print(\"Jogador 01: \")\n",
    "print(\"1 - Pedra\")\n",
    "print(\"2 - Papel\")\n",
    "print(\"3 - Tesoura\")\n",
    "jogador1 = int(input(\"Digite o número correspondente à opção desejada: \"))\n",
    "\n",
    "print(\"\\nJogador 02: \")\n",
    "print(\"1 - Pedra\")\n",
    "print(\"2 - Papel\")\n",
    "print(\"3 - Tesoura\")\n",
    "jogador2 = int(input(\"Digite o número correspondente à opção desejada: \"))\n",
    "\n",
    "if jogador1 == jogador2 :\n",
    "    print(\"Empatou!\")\n",
    "    \n",
    "elif jogador1 == 1 :\n",
    "    if jogador2 == 3 :\n",
    "        print(\"Vence Jogador 1!\")\n",
    "    else :\n",
    "        print(\"Vence Jogador 2!\")\n",
    "elif jogador1 == 2 :\n",
    "    if jogador2 == 1 :\n",
    "        print(\"Vence Jogador 1!\")\n",
    "    else :\n",
    "        print(\"Vence Jogador 2!\")\n",
    "elif jogador1 == 3 :\n",
    "    if jogador2 == 2 :\n",
    "        print(\"Vence Jogador 1!\")\n",
    "    else :\n",
    "        print(\"Vence Jogador 2!\")\n",
    "else :\n",
    "    print(\"Opção inválida.\")\n",
    "        "
   ]
  }
 ],
 "metadata": {
  "kernelspec": {
   "display_name": "Python 3 (ipykernel)",
   "language": "python",
   "name": "python3"
  },
  "language_info": {
   "codemirror_mode": {
    "name": "ipython",
    "version": 3
   },
   "file_extension": ".py",
   "mimetype": "text/x-python",
   "name": "python",
   "nbconvert_exporter": "python",
   "pygments_lexer": "ipython3",
   "version": "3.11.3"
  }
 },
 "nbformat": 4,
 "nbformat_minor": 5
}
