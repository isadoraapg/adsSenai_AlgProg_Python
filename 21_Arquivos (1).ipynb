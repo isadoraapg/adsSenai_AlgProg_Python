{
 "cells": [
  {
   "cell_type": "markdown",
   "id": "fe474443",
   "metadata": {},
   "source": [
    "<div style=\"text-align: center\"> <h2> \n",
    "Arquivos\n",
    "    </h2> </div>"
   ]
  },
  {
   "cell_type": "markdown",
   "id": "cf3cc30d",
   "metadata": {},
   "source": [
    "Vamos apresentar a ideia de programas “persistentes”, que mantêm dados em\n",
    "armazenamento permanente, e mostra como usar tipos diferentes de armazenamento\n",
    "permanente, como arquivos e bancos de dados."
   ]
  },
  {
   "cell_type": "markdown",
   "id": "dd31400c",
   "metadata": {},
   "source": [
    "<div style=\"text-align: center\"> <h2> \n",
    "Persistência\n",
    "    </h2> </div>"
   ]
  },
  {
   "cell_type": "markdown",
   "id": "1295c746",
   "metadata": {},
   "source": [
    "A maioria dos programas que vimos até agora são transitórios, porque são executados por\n",
    "algum tempo e produzem alguma saída, mas, quando terminam, seus dados desaparecem.\n",
    "Se executar o programa novamente, ele começa novamente do zero.\n",
    "\n",
    "Outros programas são persistentes: rodam por muito tempo (ou todo o tempo); mantêm\n",
    "pelo menos alguns dos seus dados em armazenamento permanente (uma unidade de disco\n",
    "rígido, por exemplo); e se são desligados e reiniciados, continuam de onde pararam.\n",
    "\n",
    "Exemplos de programas persistentes são sistemas operacionais, que rodam praticamente\n",
    "durante todo o tempo em que um computador está ligado, e servidores web, que rodam\n",
    "todo o tempo, esperando pedidos de entrada na rede.\n",
    "\n",
    "Uma das formas mais simples para programas manterem seus dados é lendo e escrevendo\n",
    "arquivos de texto. Já vimos programas que leem arquivos de texto; neste capítulo veremos\n",
    "programas que os escrevem.\n",
    "\n",
    "Uma alternativa é armazenar o estado do programa em um banco de dados. Neste capítulo\n",
    "apresentarei um banco de dados simples e um módulo, pickle, que facilita o\n",
    "armazenamento de dados de programas."
   ]
  },
  {
   "cell_type": "markdown",
   "id": "66d39a4f",
   "metadata": {},
   "source": [
    "<div style=\"text-align: center\"> <h2> \n",
    "Leitura e escrita\n",
    "    </h2> </div>"
   ]
  },
  {
   "cell_type": "markdown",
   "id": "41f83794",
   "metadata": {},
   "source": [
    "Um arquivo de texto é uma sequência de caracteres armazenados em um meio permanente\n",
    "como uma unidade de disco rígido, pendrive ou CD-ROM. "
   ]
  },
  {
   "cell_type": "code",
   "execution_count": 7,
   "id": "ba277d27",
   "metadata": {},
   "outputs": [],
   "source": [
    "\"\"\"Para escrever um arquivo texto, é preciso abri-lo com o modo 'w' como segundo\n",
    "parâmetro:\"\"\"\n",
    "\n",
    "fout = open('output.txt', 'w')"
   ]
  },
  {
   "cell_type": "markdown",
   "id": "e5beab80",
   "metadata": {},
   "source": [
    "Se o arquivo já existe, abri-lo em modo de escrita elimina os dados antigos e começa tudo\n",
    "de novo, então tenha cuidado! Se o arquivo não existir, é criado um arquivo novo."
   ]
  },
  {
   "cell_type": "code",
   "execution_count": 8,
   "id": "3bd536c9",
   "metadata": {},
   "outputs": [
    {
     "data": {
      "text/plain": [
       "19"
      ]
     },
     "execution_count": 8,
     "metadata": {},
     "output_type": "execute_result"
    }
   ],
   "source": [
    "\"\"\"open retorna um objeto de arquivo que fornece métodos para trabalhar com o arquivo. O\n",
    "método write põe dados no arquivo:\"\"\"\n",
    "\n",
    "line1 = \"Aqui está a água, \\n\"\n",
    "fout.write(line1)"
   ]
  },
  {
   "cell_type": "code",
   "execution_count": 9,
   "id": "5a243fe2",
   "metadata": {},
   "outputs": [
    {
     "data": {
      "text/plain": [
       "25"
      ]
     },
     "execution_count": 9,
     "metadata": {},
     "output_type": "execute_result"
    }
   ],
   "source": [
    "\"\"\"O valor devolvido é o número de caracteres que foram escritos. O objeto de arquivo\n",
    "monitora a posição em que está, então se você chamar write novamente, os novos dados\n",
    "são acrescentados ao fim do arquivo:\"\"\"\n",
    "line2 = \"O emblema da sua terra. \\n\"\n",
    "fout.write(line2)"
   ]
  },
  {
   "cell_type": "code",
   "execution_count": 10,
   "id": "e3cb4bdb",
   "metadata": {},
   "outputs": [],
   "source": [
    "\"\"\"Ao terminar de escrever, você deve fechar o arquivo:\"\"\"\n",
    "fout.close()"
   ]
  },
  {
   "cell_type": "markdown",
   "id": "f8466ade",
   "metadata": {},
   "source": [
    "Se não fechar o arquivo, ele é fechado para você quando o programa termina."
   ]
  },
  {
   "cell_type": "markdown",
   "id": "0636a801",
   "metadata": {},
   "source": [
    "<div style=\"text-align: center\"> <h2> \n",
    "Operador de formatação\n",
    "    </h2> </div>"
   ]
  },
  {
   "cell_type": "code",
   "execution_count": 11,
   "id": "18a90c4a",
   "metadata": {},
   "outputs": [
    {
     "data": {
      "text/plain": [
       "2"
      ]
     },
     "execution_count": 11,
     "metadata": {},
     "output_type": "execute_result"
    }
   ],
   "source": [
    "\"\"\"O argumento de write tem que ser uma string, então, se quisermos inserir outros valores\n",
    "em um arquivo, precisamos convertê-los em strings. O modo mais fácil de fazer isso é\n",
    "com str:\"\"\"\n",
    "fout = open('output.txt', 'w')\n",
    "x = 52\n",
    "fout.write(str(x))"
   ]
  },
  {
   "cell_type": "markdown",
   "id": "1dedd424",
   "metadata": {},
   "source": [
    "Uma alternativa é usar o operador de formatação, %. Quando aplicado a números inteiros,\n",
    "% é o operador de módulo. No entanto, quando o primeiro operando é uma string, % é o\n",
    "operador de formatação.\n",
    "\n",
    "O primeiro operando é a string de formatação, que contém uma ou várias sequências de\n",
    "formatação que especificam como o segundo operando deve ser formatado. O resultado é\n",
    "uma string."
   ]
  },
  {
   "cell_type": "code",
   "execution_count": 12,
   "id": "0c8c7f94",
   "metadata": {},
   "outputs": [
    {
     "data": {
      "text/plain": [
       "'42'"
      ]
     },
     "execution_count": 12,
     "metadata": {},
     "output_type": "execute_result"
    }
   ],
   "source": [
    "\"\"\"Por exemplo, a sequência de formatação ‘%d’ significa que o segundo operando deve ser\n",
    "formatado como um número inteiro decimal:\"\"\"\n",
    "camels = 42\n",
    "'%d'% camels"
   ]
  },
  {
   "cell_type": "markdown",
   "id": "e2c3271e",
   "metadata": {},
   "source": [
    "O resultado é a string '42', que não deve ser confundida com o valor inteiro 42."
   ]
  },
  {
   "cell_type": "code",
   "execution_count": 13,
   "id": "646f1790",
   "metadata": {},
   "outputs": [
    {
     "data": {
      "text/plain": [
       "'I have spotted 42 camels.'"
      ]
     },
     "execution_count": 13,
     "metadata": {},
     "output_type": "execute_result"
    }
   ],
   "source": [
    "\"\"\"Uma sequência de formatação pode aparecer em qualquer lugar na string, então você pode\n",
    "embutir um valor em uma sentença:\"\"\"\n",
    "'I have spotted %d camels.' % camels"
   ]
  },
  {
   "cell_type": "markdown",
   "id": "5133a9ad",
   "metadata": {},
   "source": [
    "Se houver mais de uma sequência de formatação na string, o segundo argumento tem que\n",
    "ser uma tupla. Cada sequência de formatação é combinada com um elemento da tupla,\n",
    "nesta ordem."
   ]
  },
  {
   "cell_type": "code",
   "execution_count": 14,
   "id": "80039ff9",
   "metadata": {},
   "outputs": [
    {
     "data": {
      "text/plain": [
       "'In 3 years I have spotted 0.1 camels.'"
      ]
     },
     "execution_count": 14,
     "metadata": {},
     "output_type": "execute_result"
    }
   ],
   "source": [
    "\"\"\"O seguinte exemplo usa '%d' para formatar um número inteiro, '%g' para formatar um\n",
    "número de ponto flutuante e '%s' para formatar qualquer objeto como uma string:\"\"\"\n",
    "'In %d years I have spotted %g %s.' % (3, 0.1, 'camels')"
   ]
  },
  {
   "cell_type": "code",
   "execution_count": 15,
   "id": "240d20a9",
   "metadata": {},
   "outputs": [
    {
     "ename": "TypeError",
     "evalue": "not enough arguments for format string",
     "output_type": "error",
     "traceback": [
      "\u001b[1;31m---------------------------------------------------------------------------\u001b[0m",
      "\u001b[1;31mTypeError\u001b[0m                                 Traceback (most recent call last)",
      "Cell \u001b[1;32mIn[15], line 5\u001b[0m\n\u001b[0;32m      1\u001b[0m \u001b[38;5;124;03m\"\"\"O número de elementos na tupla tem de corresponder ao número de sequências de\u001b[39;00m\n\u001b[0;32m      2\u001b[0m \u001b[38;5;124;03mformatação na string. Além disso, os tipos dos elementos têm de corresponder às\u001b[39;00m\n\u001b[0;32m      3\u001b[0m \u001b[38;5;124;03msequências de formatação:\"\"\"\u001b[39;00m\n\u001b[1;32m----> 5\u001b[0m \u001b[38;5;124m'\u001b[39m\u001b[38;5;132;01m%d\u001b[39;00m\u001b[38;5;124m \u001b[39m\u001b[38;5;132;01m%d\u001b[39;00m\u001b[38;5;124m \u001b[39m\u001b[38;5;132;01m%d\u001b[39;00m\u001b[38;5;124m'\u001b[39m \u001b[38;5;241m%\u001b[39m (\u001b[38;5;241m1\u001b[39m, \u001b[38;5;241m2\u001b[39m)\n",
      "\u001b[1;31mTypeError\u001b[0m: not enough arguments for format string"
     ]
    }
   ],
   "source": [
    "\"\"\"O número de elementos na tupla tem de corresponder ao número de sequências de\n",
    "formatação na string. Além disso, os tipos dos elementos têm de corresponder às\n",
    "sequências de formatação:\"\"\"\n",
    "\n",
    "'%d %d %d' % (1, 2)"
   ]
  },
  {
   "cell_type": "code",
   "execution_count": null,
   "id": "08269f36",
   "metadata": {},
   "outputs": [],
   "source": [
    "'%d' % 'dollars'"
   ]
  },
  {
   "cell_type": "markdown",
   "id": "430fc75f",
   "metadata": {},
   "source": [
    "No primeiro exemplo não há elementos suficientes; no segundo, o elemento é do tipo\n",
    "incorreto."
   ]
  },
  {
   "cell_type": "markdown",
   "id": "e4f44c05",
   "metadata": {},
   "source": [
    "<div style=\"text-align: center\"> <h2> \n",
    "Nomes de arquivo e caminhos\n",
    "    </h2> </div>"
   ]
  },
  {
   "cell_type": "markdown",
   "id": "f1ec3549",
   "metadata": {},
   "source": [
    "Os arquivos são organizados em diretórios (também chamados de “pastas”). Cada\n",
    "programa em execução tem um “diretório atual”, que é o diretório-padrão da maior parte\n",
    "das operações. Por exemplo, quando você abre um arquivo de leitura, Python o procura no\n",
    "diretório atual."
   ]
  },
  {
   "cell_type": "code",
   "execution_count": 16,
   "id": "f9eda9df",
   "metadata": {},
   "outputs": [
    {
     "data": {
      "text/plain": [
       "'C:\\\\Users\\\\isado'"
      ]
     },
     "execution_count": 16,
     "metadata": {},
     "output_type": "execute_result"
    }
   ],
   "source": [
    "\"\"\"O módulo os fornece funções para trabalhar com arquivos e diretórios (“os” é a\n",
    "abreviação de “sistema operacional” em inglês). os.getcwd devolve o nome do diretório\n",
    "atual:\"\"\"\n",
    "\n",
    "import os\n",
    "cwb = os.getcwd()\n",
    "cwb"
   ]
  },
  {
   "cell_type": "markdown",
   "id": "e47732b6",
   "metadata": {},
   "source": [
    "cwd é a abreviação de “diretório de trabalho atual” em inglês. O resultado neste exemplo é\n",
    "'\\Users\\\\usuario', que é o diretório-padrão de um usuário chamado “usuario”."
   ]
  },
  {
   "cell_type": "markdown",
   "id": "fb5e59b0",
   "metadata": {},
   "source": [
    "Uma string como '\\Users\\\\usuario', que identifica um arquivo ou diretório, é chamada\n",
    "de caminho (path)."
   ]
  },
  {
   "cell_type": "markdown",
   "id": "a4a1d96f",
   "metadata": {},
   "source": [
    "Um nome de arquivo simples, como words.txt, também é considerado um caminho, mas é\n",
    "um caminho relativo, porque se relaciona ao diretório atual. Se o diretório atual é\n",
    "\\Users\\\\usuario, o nome de arquivo words.txt se referiria a \\Users\\\\usuario\\\\words.txt."
   ]
  },
  {
   "cell_type": "code",
   "execution_count": 17,
   "id": "a63dc8f8",
   "metadata": {},
   "outputs": [
    {
     "data": {
      "text/plain": [
       "'C:\\\\Users\\\\isado\\\\words.txt'"
      ]
     },
     "execution_count": 17,
     "metadata": {},
     "output_type": "execute_result"
    }
   ],
   "source": [
    "\"\"\"Um caminho que começa com / não depende do diretório atual; isso é chamado de\n",
    "caminho absoluto. Para encontrar o caminho absoluto para um arquivo, você pode usar\n",
    "os.path.abspath:\"\"\"\n",
    "os.path.abspath('words.txt')"
   ]
  },
  {
   "cell_type": "code",
   "execution_count": 18,
   "id": "5b3efa6b",
   "metadata": {},
   "outputs": [
    {
     "data": {
      "text/plain": [
       "False"
      ]
     },
     "execution_count": 18,
     "metadata": {},
     "output_type": "execute_result"
    }
   ],
   "source": [
    "\"\"\"os.path fornece outras funções para trabalhar com nomes de arquivo e caminhos. Por\n",
    "exemplo, os.path.exists que verifica se um arquivo ou diretório existe:\"\"\"\n",
    "os.path.exists('words.txt')"
   ]
  },
  {
   "cell_type": "code",
   "execution_count": 19,
   "id": "70bcd199",
   "metadata": {},
   "outputs": [
    {
     "data": {
      "text/plain": [
       "False"
      ]
     },
     "execution_count": 19,
     "metadata": {},
     "output_type": "execute_result"
    }
   ],
   "source": [
    "\"\"\"Se existir, os.path.isdir verifica se é um diretório:\"\"\"\n",
    "os.path.isdir('words.txt')"
   ]
  },
  {
   "cell_type": "code",
   "execution_count": 20,
   "id": "7d19530f",
   "metadata": {},
   "outputs": [
    {
     "data": {
      "text/plain": [
       "False"
      ]
     },
     "execution_count": 20,
     "metadata": {},
     "output_type": "execute_result"
    }
   ],
   "source": [
    "os.path.isdir('C:\\\\Users\\\\rafae\\\\Documents\\\\Python Scripts\\\\Repositorio_GitHub\\\\Python_Basics\\\\Class-Jupyter')"
   ]
  },
  {
   "cell_type": "code",
   "execution_count": 21,
   "id": "5dbb7d41",
   "metadata": {},
   "outputs": [
    {
     "data": {
      "text/plain": [
       "[' 11_Expressões Relacionais, Lógicas e Comandos Condicionais-Exercicios.ipynb',\n",
       " '.astropy',\n",
       " '.bash_history',\n",
       " '.cache',\n",
       " '.conda',\n",
       " '.config',\n",
       " '.eclipse',\n",
       " '.gitconfig',\n",
       " '.ipynb_checkpoints',\n",
       " '.ipython',\n",
       " '.jupyter',\n",
       " '.lesshst',\n",
       " '.matplotlib',\n",
       " '.p2',\n",
       " '.ssh',\n",
       " '.vscode',\n",
       " '20_Tuplas.ipynb',\n",
       " '21_Arquivos.ipynb',\n",
       " 'Ambiente de Impressão',\n",
       " 'Ambiente de Rede',\n",
       " 'anaconda3',\n",
       " 'AppData',\n",
       " 'Configurações Locais',\n",
       " 'Contacts',\n",
       " 'Cookies',\n",
       " 'Dados de Aplicativos',\n",
       " 'Documents',\n",
       " 'Downloads',\n",
       " 'eclipse',\n",
       " 'Exercício For.ipynb',\n",
       " 'Exercício While.ipynb',\n",
       " 'Exercícios String.ipynb',\n",
       " 'Exercícios Tuplas.ipynb',\n",
       " 'Favorites',\n",
       " 'IntelGraphicsProfiles',\n",
       " 'LimpMe (1).ipynb',\n",
       " 'LimpMe.ipynb',\n",
       " 'Links',\n",
       " 'LISTAS - EXERCICIOS.ipynb',\n",
       " 'Menu Iniciar',\n",
       " 'Meus Documentos',\n",
       " 'Modelos',\n",
       " 'Music',\n",
       " 'NTUSER.DAT',\n",
       " 'ntuser.dat.LOG1',\n",
       " 'ntuser.dat.LOG2',\n",
       " 'NTUSER.DAT{bc5099ea-403b-11ed-8760-14857f86aacd}.TM.blf',\n",
       " 'NTUSER.DAT{bc5099ea-403b-11ed-8760-14857f86aacd}.TMContainer00000000000000000001.regtrans-ms',\n",
       " 'NTUSER.DAT{bc5099ea-403b-11ed-8760-14857f86aacd}.TMContainer00000000000000000002.regtrans-ms',\n",
       " 'ntuser.ini',\n",
       " 'OneDrive',\n",
       " 'output.txt',\n",
       " 'Postman',\n",
       " 'PycharmProjects',\n",
       " 'Recent',\n",
       " 'Reconhecimento facial.ipynb',\n",
       " 'Revisão AV02.ipynb',\n",
       " 'Saved Games',\n",
       " 'Searches',\n",
       " 'SendTo',\n",
       " 'Teste limp me .py.ipynb',\n",
       " 'testes.ipynb',\n",
       " 'texto.txt',\n",
       " 'Untitled.ipynb',\n",
       " 'Untitled1.ipynb',\n",
       " 'Untitled2.ipynb',\n",
       " 'Untitled3.ipynb',\n",
       " 'Untitled4.ipynb',\n",
       " 'Untitled5.ipynb',\n",
       " 'Videos']"
      ]
     },
     "execution_count": 21,
     "metadata": {},
     "output_type": "execute_result"
    }
   ],
   "source": [
    "\"\"\"De forma similar, os.path.isfile verifica se é um arquivo.\n",
    "os.listdir retorna uma lista dos arquivos (e outros diretórios) no diretório dado:\"\"\"\n",
    "\n",
    "os.listdir(cwb)"
   ]
  },
  {
   "cell_type": "markdown",
   "id": "bd7878ba",
   "metadata": {},
   "source": [
    "<div style=\"text-align: center\"> <h2> \n",
    "Captura de exceções\n",
    "    </h2> </div>"
   ]
  },
  {
   "cell_type": "markdown",
   "id": "e0eafff3",
   "metadata": {},
   "source": [
    "Muitas coisas podem dar errado quando você tenta ler e escrever arquivos. Se tentar abrir\n",
    "um arquivo que não existe, você recebe um IOError:"
   ]
  },
  {
   "cell_type": "code",
   "execution_count": 22,
   "id": "fbf992fe",
   "metadata": {},
   "outputs": [
    {
     "ename": "FileNotFoundError",
     "evalue": "[Errno 2] No such file or directory: 'bad_file'",
     "output_type": "error",
     "traceback": [
      "\u001b[1;31m---------------------------------------------------------------------------\u001b[0m",
      "\u001b[1;31mFileNotFoundError\u001b[0m                         Traceback (most recent call last)",
      "Cell \u001b[1;32mIn[22], line 1\u001b[0m\n\u001b[1;32m----> 1\u001b[0m fin \u001b[38;5;241m=\u001b[39m \u001b[38;5;28mopen\u001b[39m(\u001b[38;5;124m'\u001b[39m\u001b[38;5;124mbad_file\u001b[39m\u001b[38;5;124m'\u001b[39m)\n",
      "File \u001b[1;32m~\\anaconda3\\Lib\\site-packages\\IPython\\core\\interactiveshell.py:284\u001b[0m, in \u001b[0;36m_modified_open\u001b[1;34m(file, *args, **kwargs)\u001b[0m\n\u001b[0;32m    277\u001b[0m \u001b[38;5;28;01mif\u001b[39;00m file \u001b[38;5;129;01min\u001b[39;00m {\u001b[38;5;241m0\u001b[39m, \u001b[38;5;241m1\u001b[39m, \u001b[38;5;241m2\u001b[39m}:\n\u001b[0;32m    278\u001b[0m     \u001b[38;5;28;01mraise\u001b[39;00m \u001b[38;5;167;01mValueError\u001b[39;00m(\n\u001b[0;32m    279\u001b[0m         \u001b[38;5;124mf\u001b[39m\u001b[38;5;124m\"\u001b[39m\u001b[38;5;124mIPython won\u001b[39m\u001b[38;5;124m'\u001b[39m\u001b[38;5;124mt let you open fd=\u001b[39m\u001b[38;5;132;01m{\u001b[39;00mfile\u001b[38;5;132;01m}\u001b[39;00m\u001b[38;5;124m by default \u001b[39m\u001b[38;5;124m\"\u001b[39m\n\u001b[0;32m    280\u001b[0m         \u001b[38;5;124m\"\u001b[39m\u001b[38;5;124mas it is likely to crash IPython. If you know what you are doing, \u001b[39m\u001b[38;5;124m\"\u001b[39m\n\u001b[0;32m    281\u001b[0m         \u001b[38;5;124m\"\u001b[39m\u001b[38;5;124myou can use builtins\u001b[39m\u001b[38;5;124m'\u001b[39m\u001b[38;5;124m open.\u001b[39m\u001b[38;5;124m\"\u001b[39m\n\u001b[0;32m    282\u001b[0m     )\n\u001b[1;32m--> 284\u001b[0m \u001b[38;5;28;01mreturn\u001b[39;00m io_open(file, \u001b[38;5;241m*\u001b[39margs, \u001b[38;5;241m*\u001b[39m\u001b[38;5;241m*\u001b[39mkwargs)\n",
      "\u001b[1;31mFileNotFoundError\u001b[0m: [Errno 2] No such file or directory: 'bad_file'"
     ]
    }
   ],
   "source": [
    "fin = open('bad_file')"
   ]
  },
  {
   "cell_type": "code",
   "execution_count": 23,
   "id": "cc8c4957",
   "metadata": {},
   "outputs": [
    {
     "name": "stdout",
     "output_type": "stream",
     "text": [
      "PermissionError: [Errno 13] Permission denied: /etc/passwd\n"
     ]
    }
   ],
   "source": [
    "\"\"\"Se não tiver permissão para acessar um arquivo:\n",
    "fout = open('/etc/passwd', 'w')\"\"\"\n",
    "\n",
    "print('PermissionError: [Errno 13] Permission denied: /etc/passwd')"
   ]
  },
  {
   "cell_type": "code",
   "execution_count": 24,
   "id": "51a29dde",
   "metadata": {},
   "outputs": [
    {
     "name": "stdout",
     "output_type": "stream",
     "text": [
      "IsADirectoryError: [Errno 21] Is a directory: /home\n"
     ]
    }
   ],
   "source": [
    "\"\"\"E se tentar abrir um diretório para leitura, recebe\n",
    "fin = open('/home')\"\"\"\n",
    "\n",
    "print('IsADirectoryError: [Errno 21] Is a directory: /home')"
   ]
  },
  {
   "cell_type": "markdown",
   "id": "168338f1",
   "metadata": {},
   "source": [
    "Para evitar esses erros, você pode usar funções como os.path.exists e os.path.isfile,\n",
    "mas levaria muito tempo e código para verificar todas as possibilidades (se “Errno 21”\n",
    "significa algo, pode ser que pelo menos 21 coisas podem dar errado)."
   ]
  },
  {
   "cell_type": "code",
   "execution_count": 25,
   "id": "aa16e75d",
   "metadata": {},
   "outputs": [
    {
     "name": "stdout",
     "output_type": "stream",
     "text": [
      "Something went wrong.\n"
     ]
    }
   ],
   "source": [
    "\"\"\"É melhor ir em frente e tentar, e lidar com problemas se eles surgirem, que é exatamente o\n",
    "que a instrução try faz. A sintaxe é semelhante à da instrução if…else:\n",
    "\"\"\"\n",
    "try:\n",
    "    fin = open('bad_file')\n",
    "except:\n",
    "    print('Something went wrong.')"
   ]
  },
  {
   "cell_type": "markdown",
   "id": "291ab955",
   "metadata": {},
   "source": [
    "O Python começa executando a cláusula try. Se tudo for bem, ele ignora a cláusula\n",
    "except e prossegue. Se ocorrer uma exceção, o programa sai da cláusula try e executa a\n",
    "cláusula except.\n",
    "\n",
    "Lidar com exceções usando uma instrução try chama-se capturar uma exceção. Neste\n",
    "exemplo, a cláusula except exibe uma mensagem de erro que não é muito útil. Em geral, a\n",
    "captura de uma exceção oferece a oportunidade de corrigir o problema ou tentar\n",
    "novamente, ou, ao menos, de terminar o programa adequadamente."
   ]
  },
  {
   "cell_type": "markdown",
   "id": "6b744b8f",
   "metadata": {},
   "source": [
    "<div style=\"text-align: center\"> <h2> \n",
    "Bancos de dados\n",
    "    </h2> </div>"
   ]
  },
  {
   "cell_type": "markdown",
   "id": "1427b413",
   "metadata": {},
   "source": [
    "Um banco de dados é um arquivo organizado para armazenar dados. Muitos bancos de\n",
    "dados são organizados como um dicionário, porque mapeiam chaves a valores. A maior\n",
    "diferença entre um banco de dados e um dicionário é que o banco de dados está em um\n",
    "disco (ou outro armazenamento permanente), portanto persiste depois que o programa\n",
    "termina."
   ]
  },
  {
   "cell_type": "code",
   "execution_count": 26,
   "id": "a2c95591",
   "metadata": {},
   "outputs": [],
   "source": [
    "\"\"\"O módulo dbm fornece uma interface para criar e atualizar arquivos de banco de dados.\n",
    "Como exemplo, criarei um banco de dados que contém legendas de arquivos de imagem.\n",
    "Abrir um banco de dados é semelhante à abertura de outros arquivos:\"\"\"\n",
    "import dbm\n",
    "db = dbm.open('captions', 'c')"
   ]
  },
  {
   "cell_type": "code",
   "execution_count": 27,
   "id": "1b1e6f7f",
   "metadata": {},
   "outputs": [],
   "source": [
    "\"\"\"O modo ‘c’ significa que o banco de dados deve ser criado, se ainda não existir. O\n",
    "resultado é um objeto de banco de dados que pode ser usado (para a maior parte das\n",
    "operações) como um dicionário.\n",
    "Quando você cria um novo item, dbm atualiza o arquivo de banco de dados:\"\"\"\n",
    "db['cleese.png'] = 'Photo of John Cleese.'"
   ]
  },
  {
   "cell_type": "code",
   "execution_count": 28,
   "id": "90c4698b",
   "metadata": {},
   "outputs": [
    {
     "data": {
      "text/plain": [
       "b'Photo of John Cleese.'"
      ]
     },
     "execution_count": 28,
     "metadata": {},
     "output_type": "execute_result"
    }
   ],
   "source": [
    "\"\"\"Quando você acessa um dos itens, dbm lê o arquivo:\"\"\"\n",
    "db['cleese.png']"
   ]
  },
  {
   "cell_type": "markdown",
   "id": "f10546e0",
   "metadata": {},
   "source": [
    "O resultado é um objeto bytes, o que explica o prefixo b. Um objeto bytes é semelhante a\n",
    "uma string, em muitos aspectos. Quando você avançar no Python, a diferença se tornará\n",
    "importante, mas, por enquanto, podemos ignorá-la."
   ]
  },
  {
   "cell_type": "code",
   "execution_count": 29,
   "id": "ce75bc35",
   "metadata": {},
   "outputs": [
    {
     "data": {
      "text/plain": [
       "b'Photo of John Cleese doing a silly walk.'"
      ]
     },
     "execution_count": 29,
     "metadata": {},
     "output_type": "execute_result"
    }
   ],
   "source": [
    "\"\"\"Se fizer outra atribuição a uma chave existente, o dbm substitui o valor antigo:\"\"\"\n",
    "db['cleese.png'] = 'Photo of John Cleese doing a silly walk.'\n",
    "db['cleese.png']"
   ]
  },
  {
   "cell_type": "code",
   "execution_count": 30,
   "id": "8e6f12de",
   "metadata": {},
   "outputs": [
    {
     "name": "stdout",
     "output_type": "stream",
     "text": [
      "b'cleese.png' b'Photo of John Cleese doing a silly walk.'\n"
     ]
    }
   ],
   "source": [
    "\"\"\"Alguns métodos de dicionário, como keys e items, não funcionam com objetos de banco\n",
    "de dados. No entanto, a iteração com um loop for, sim:\"\"\"\n",
    "for key in db:\n",
    "    print(key, db[key])"
   ]
  },
  {
   "cell_type": "code",
   "execution_count": 31,
   "id": "a9cd7272",
   "metadata": {},
   "outputs": [],
   "source": [
    "\"\"\"Como em outros arquivos, você deve fechar o banco de dados quando terminar:\"\"\"\n",
    "db.close()"
   ]
  },
  {
   "cell_type": "markdown",
   "id": "419f507c",
   "metadata": {},
   "source": [
    "<div style=\"text-align: center\"> <h2> \n",
    "Usando o Pickle\n",
    "    </h2> </div>"
   ]
  },
  {
   "cell_type": "markdown",
   "id": "e1c5afd6",
   "metadata": {},
   "source": [
    "Uma limitação de dbm é que as chaves e os valores têm que ser strings ou bytes. Se tentar\n",
    "usar algum outro tipo, vai receber um erro.\n",
    "O módulo pickle pode ajudar. Ele traduz quase qualquer tipo de objeto em uma string\n",
    "conveniente para o armazenamento em um banco de dados, e então traduz strings de volta\n",
    "em objetos."
   ]
  },
  {
   "cell_type": "code",
   "execution_count": 32,
   "id": "b0a55cc8",
   "metadata": {},
   "outputs": [
    {
     "data": {
      "text/plain": [
       "b'\\x80\\x04\\x95\\x0b\\x00\\x00\\x00\\x00\\x00\\x00\\x00]\\x94(K\\x01K\\x02K\\x03e.'"
      ]
     },
     "execution_count": 32,
     "metadata": {},
     "output_type": "execute_result"
    }
   ],
   "source": [
    "\"\"\"pickle.dumps recebe um objeto como parâmetro e retorna uma representação de string:\"\"\"\n",
    "import pickle\n",
    "t = [1,2,3]\n",
    "pickle.dumps(t)"
   ]
  },
  {
   "cell_type": "code",
   "execution_count": 33,
   "id": "c524a222",
   "metadata": {},
   "outputs": [
    {
     "data": {
      "text/plain": [
       "[1, 2, 3]"
      ]
     },
     "execution_count": 33,
     "metadata": {},
     "output_type": "execute_result"
    }
   ],
   "source": [
    "\"\"\"O formato não é óbvio para leitores humanos; o objetivo é que seja fácil para o pickle\n",
    "interpretar. pickle.loads reconstitui o objeto:\"\"\"\n",
    "t1 = [1,2,3]\n",
    "s = pickle.dumps(t1)\n",
    "t2 = pickle.loads(s)\n",
    "t2"
   ]
  },
  {
   "cell_type": "code",
   "execution_count": 34,
   "id": "619f504a",
   "metadata": {},
   "outputs": [
    {
     "data": {
      "text/plain": [
       "True"
      ]
     },
     "execution_count": 34,
     "metadata": {},
     "output_type": "execute_result"
    }
   ],
   "source": [
    "\"\"\"Embora o novo objeto tenha o mesmo valor que o antigo, não é (em geral) o mesmo\n",
    "objeto:\"\"\"\n",
    "t1 == t2"
   ]
  },
  {
   "cell_type": "code",
   "execution_count": 35,
   "id": "ba5ad7cb",
   "metadata": {},
   "outputs": [
    {
     "data": {
      "text/plain": [
       "False"
      ]
     },
     "execution_count": 35,
     "metadata": {},
     "output_type": "execute_result"
    }
   ],
   "source": [
    "t1 is t2"
   ]
  },
  {
   "cell_type": "markdown",
   "id": "5717dcb5",
   "metadata": {},
   "source": [
    "Em outras palavras, usar o pickle.dumps e pickle.loads tem o mesmo efeito que copiar\n",
    "o objeto.\n",
    "Você pode usar o pickle para guardar variáveis que não são strings em um banco de\n",
    "dados. Na verdade, esta combinação é tão comum que foi encapsulada em um módulo\n",
    "chamado shelve."
   ]
  },
  {
   "cell_type": "markdown",
   "id": "28b10474",
   "metadata": {},
   "source": [
    "<div style=\"text-align: center\"> <h2> \n",
    "Pipes\n",
    "    </h2> </div>"
   ]
  },
  {
   "cell_type": "markdown",
   "id": "d1ec6487",
   "metadata": {},
   "source": [
    "A maior parte dos sistemas operacionais fornece uma interface de linha de comando,\n",
    "conhecida como shell. Shells normalmente fornecem comandos para navegar nos sistemas\n",
    "de arquivos e executar programas. Por exemplo, em Unix você pode alterar diretórios com\n",
    "cd, exibir o conteúdo de um diretório com ls e abrir um navegador web digitando (por\n",
    "exemplo) firefox.\n",
    "\n",
    "Qualquer programa que possa ser aberto no shell também pode ser aberto no Python\n",
    "usando um objeto pipe, que representa um programa em execução."
   ]
  },
  {
   "cell_type": "code",
   "execution_count": 36,
   "id": "fddae6f8",
   "metadata": {},
   "outputs": [],
   "source": [
    "\"\"\"Por exemplo, o comando Unix ls -l normalmente exibe o conteúdo do diretório atual no\n",
    "formato longo. Você pode abrir ls com os.popen[1]:\"\"\"\n",
    "cmd = 'ls -1'\n",
    "fp = os.popen(cmd)"
   ]
  },
  {
   "cell_type": "code",
   "execution_count": 37,
   "id": "6756b1ed",
   "metadata": {},
   "outputs": [],
   "source": [
    "\"\"\"O argumento é uma string que contém um comando shell. O valor de retorno é um objeto\n",
    "que se comporta como um arquivo aberto. É possível ler a saída do processo ls uma linha\n",
    "por vez com readline ou receber tudo de uma vez com read:\"\"\"\n",
    "res = fp.read()"
   ]
  },
  {
   "cell_type": "code",
   "execution_count": 38,
   "id": "af77bddb",
   "metadata": {},
   "outputs": [
    {
     "name": "stdout",
     "output_type": "stream",
     "text": [
      "1\n"
     ]
    }
   ],
   "source": [
    "\"\"\"Ao terminar, feche o pipe como se fosse um arquivo:\"\"\"\n",
    "stat = fp.close()\n",
    "print(stat)"
   ]
  },
  {
   "cell_type": "markdown",
   "id": "e9786087",
   "metadata": {},
   "source": [
    "O valor de retorno é o status final do processo ls; None significa que terminou\n",
    "normalmente (sem erros).\n",
    "\n",
    "Por exemplo, a maior parte dos sistemas Unix oferece um comando chamado md5sum, que\n",
    "lê o conteúdo de um arquivo e calcula uma assinatura digital. Você pode ler sobre o MD5\n",
    "em http://en.wikipedia.org/wiki/Md5. Este comando fornece uma forma eficiente de\n",
    "verificar se dois arquivos têm o mesmo conteúdo. A probabilidade de dois conteúdos\n",
    "diferentes produzirem a mesma assinatura digital é muito pequena (isto é, muito pouco\n",
    "provável que aconteça antes do colapso do universo)."
   ]
  },
  {
   "cell_type": "code",
   "execution_count": 39,
   "id": "6eb0dddf",
   "metadata": {},
   "outputs": [
    {
     "name": "stdout",
     "output_type": "stream",
     "text": [
      "\n"
     ]
    }
   ],
   "source": [
    "\"\"\"Você pode usar um pipe para executar o md5sum do Python e receber o resultado:\"\"\"\n",
    "filename = 'book.tex'\n",
    "cmd = 'md5sum ' + filename\n",
    "fp = os.popen(cmd)\n",
    "res = fp.read()\n",
    "stat = fp.close()\n",
    "print(res)"
   ]
  },
  {
   "cell_type": "code",
   "execution_count": 40,
   "id": "de8a9add",
   "metadata": {},
   "outputs": [
    {
     "name": "stdout",
     "output_type": "stream",
     "text": [
      "1\n"
     ]
    }
   ],
   "source": [
    "print(stat)"
   ]
  },
  {
   "cell_type": "markdown",
   "id": "c63299f0",
   "metadata": {},
   "source": [
    "<div style=\"text-align: center\"> <h2> \n",
    "Escrevendo módulos\n",
    "    </h2> </div>"
   ]
  },
  {
   "cell_type": "code",
   "execution_count": 41,
   "id": "261c0060",
   "metadata": {},
   "outputs": [
    {
     "ename": "FileNotFoundError",
     "evalue": "[Errno 2] No such file or directory: 'wc.py'",
     "output_type": "error",
     "traceback": [
      "\u001b[1;31m---------------------------------------------------------------------------\u001b[0m",
      "\u001b[1;31mFileNotFoundError\u001b[0m                         Traceback (most recent call last)",
      "Cell \u001b[1;32mIn[41], line 9\u001b[0m\n\u001b[0;32m      7\u001b[0m         count \u001b[38;5;241m+\u001b[39m\u001b[38;5;241m=\u001b[39m \u001b[38;5;241m1\u001b[39m\n\u001b[0;32m      8\u001b[0m     \u001b[38;5;28;01mreturn\u001b[39;00m count\n\u001b[1;32m----> 9\u001b[0m \u001b[38;5;28mprint\u001b[39m(linecount(\u001b[38;5;124m'\u001b[39m\u001b[38;5;124mwc.py\u001b[39m\u001b[38;5;124m'\u001b[39m))\n",
      "Cell \u001b[1;32mIn[41], line 6\u001b[0m, in \u001b[0;36mlinecount\u001b[1;34m(filename)\u001b[0m\n\u001b[0;32m      4\u001b[0m \u001b[38;5;28;01mdef\u001b[39;00m \u001b[38;5;21mlinecount\u001b[39m(filename):\n\u001b[0;32m      5\u001b[0m     count \u001b[38;5;241m=\u001b[39m \u001b[38;5;241m0\u001b[39m\n\u001b[1;32m----> 6\u001b[0m     \u001b[38;5;28;01mfor\u001b[39;00m line \u001b[38;5;129;01min\u001b[39;00m \u001b[38;5;28mopen\u001b[39m(filename):\n\u001b[0;32m      7\u001b[0m         count \u001b[38;5;241m+\u001b[39m\u001b[38;5;241m=\u001b[39m \u001b[38;5;241m1\u001b[39m\n\u001b[0;32m      8\u001b[0m     \u001b[38;5;28;01mreturn\u001b[39;00m count\n",
      "File \u001b[1;32m~\\anaconda3\\Lib\\site-packages\\IPython\\core\\interactiveshell.py:284\u001b[0m, in \u001b[0;36m_modified_open\u001b[1;34m(file, *args, **kwargs)\u001b[0m\n\u001b[0;32m    277\u001b[0m \u001b[38;5;28;01mif\u001b[39;00m file \u001b[38;5;129;01min\u001b[39;00m {\u001b[38;5;241m0\u001b[39m, \u001b[38;5;241m1\u001b[39m, \u001b[38;5;241m2\u001b[39m}:\n\u001b[0;32m    278\u001b[0m     \u001b[38;5;28;01mraise\u001b[39;00m \u001b[38;5;167;01mValueError\u001b[39;00m(\n\u001b[0;32m    279\u001b[0m         \u001b[38;5;124mf\u001b[39m\u001b[38;5;124m\"\u001b[39m\u001b[38;5;124mIPython won\u001b[39m\u001b[38;5;124m'\u001b[39m\u001b[38;5;124mt let you open fd=\u001b[39m\u001b[38;5;132;01m{\u001b[39;00mfile\u001b[38;5;132;01m}\u001b[39;00m\u001b[38;5;124m by default \u001b[39m\u001b[38;5;124m\"\u001b[39m\n\u001b[0;32m    280\u001b[0m         \u001b[38;5;124m\"\u001b[39m\u001b[38;5;124mas it is likely to crash IPython. If you know what you are doing, \u001b[39m\u001b[38;5;124m\"\u001b[39m\n\u001b[0;32m    281\u001b[0m         \u001b[38;5;124m\"\u001b[39m\u001b[38;5;124myou can use builtins\u001b[39m\u001b[38;5;124m'\u001b[39m\u001b[38;5;124m open.\u001b[39m\u001b[38;5;124m\"\u001b[39m\n\u001b[0;32m    282\u001b[0m     )\n\u001b[1;32m--> 284\u001b[0m \u001b[38;5;28;01mreturn\u001b[39;00m io_open(file, \u001b[38;5;241m*\u001b[39margs, \u001b[38;5;241m*\u001b[39m\u001b[38;5;241m*\u001b[39mkwargs)\n",
      "\u001b[1;31mFileNotFoundError\u001b[0m: [Errno 2] No such file or directory: 'wc.py'"
     ]
    }
   ],
   "source": [
    "\"\"\"Qualquer arquivo que contenha código do Python pode ser importado como um módulo.\n",
    "Por exemplo, vamos supor que você tenha um arquivo chamado wc.py com o seguinte\n",
    "código:\"\"\"\n",
    "def linecount(filename):\n",
    "    count = 0\n",
    "    for line in open(filename):\n",
    "        count += 1\n",
    "    return count\n",
    "print(linecount('wc.py'))"
   ]
  },
  {
   "cell_type": "code",
   "execution_count": 42,
   "id": "126c5cb8",
   "metadata": {},
   "outputs": [
    {
     "ename": "ModuleNotFoundError",
     "evalue": "No module named 'wc'",
     "output_type": "error",
     "traceback": [
      "\u001b[1;31m---------------------------------------------------------------------------\u001b[0m",
      "\u001b[1;31mModuleNotFoundError\u001b[0m                       Traceback (most recent call last)",
      "Cell \u001b[1;32mIn[42], line 3\u001b[0m\n\u001b[0;32m      1\u001b[0m \u001b[38;5;124;03m\"\"\"Quando este programa é executado, ele lê a si mesmo e exibe o número de linhas no\u001b[39;00m\n\u001b[0;32m      2\u001b[0m \u001b[38;5;124;03marquivo, que é 6. Você também pode importá-lo desta forma:\"\"\"\u001b[39;00m\n\u001b[1;32m----> 3\u001b[0m \u001b[38;5;28;01mimport\u001b[39;00m \u001b[38;5;21;01mwc\u001b[39;00m\n",
      "\u001b[1;31mModuleNotFoundError\u001b[0m: No module named 'wc'"
     ]
    }
   ],
   "source": [
    "\"\"\"Quando este programa é executado, ele lê a si mesmo e exibe o número de linhas no\n",
    "arquivo, que é 6. Você também pode importá-lo desta forma:\"\"\"\n",
    "import wc"
   ]
  },
  {
   "cell_type": "code",
   "execution_count": 43,
   "id": "bdc03fc0",
   "metadata": {},
   "outputs": [
    {
     "ename": "NameError",
     "evalue": "name 'wc' is not defined",
     "output_type": "error",
     "traceback": [
      "\u001b[1;31m---------------------------------------------------------------------------\u001b[0m",
      "\u001b[1;31mNameError\u001b[0m                                 Traceback (most recent call last)",
      "Cell \u001b[1;32mIn[43], line 2\u001b[0m\n\u001b[0;32m      1\u001b[0m \u001b[38;5;124;03m\"\"\"Agora você tem um objeto de módulo wc:\"\"\"\u001b[39;00m\n\u001b[1;32m----> 2\u001b[0m wc\n",
      "\u001b[1;31mNameError\u001b[0m: name 'wc' is not defined"
     ]
    }
   ],
   "source": [
    "\"\"\"Agora você tem um objeto de módulo wc:\"\"\"\n",
    "wc"
   ]
  },
  {
   "cell_type": "code",
   "execution_count": 44,
   "id": "fc28a7ce",
   "metadata": {},
   "outputs": [
    {
     "ename": "NameError",
     "evalue": "name 'wc' is not defined",
     "output_type": "error",
     "traceback": [
      "\u001b[1;31m---------------------------------------------------------------------------\u001b[0m",
      "\u001b[1;31mNameError\u001b[0m                                 Traceback (most recent call last)",
      "Cell \u001b[1;32mIn[44], line 2\u001b[0m\n\u001b[0;32m      1\u001b[0m \u001b[38;5;124;03m\"\"\"O objeto de módulo fornece o linecount:\"\"\"\u001b[39;00m\n\u001b[1;32m----> 2\u001b[0m wc\u001b[38;5;241m.\u001b[39mlinecount(\u001b[38;5;124m'\u001b[39m\u001b[38;5;124mwc.py\u001b[39m\u001b[38;5;124m'\u001b[39m)\n",
      "\u001b[1;31mNameError\u001b[0m: name 'wc' is not defined"
     ]
    }
   ],
   "source": [
    "\"\"\"O objeto de módulo fornece o linecount:\"\"\"\n",
    "wc.linecount('wc.py')"
   ]
  },
  {
   "cell_type": "markdown",
   "id": "1d549a86",
   "metadata": {},
   "source": [
    "Então é assim que se escreve módulos no Python.\n",
    "\n",
    "O único problema com este exemplo é que quando você importa o módulo, ele executa o\n",
    "código de teste no final. Normalmente, quando se importa um módulo, ele define novas\n",
    "funções, mas não as executa."
   ]
  },
  {
   "cell_type": "code",
   "execution_count": 45,
   "id": "e0f8e753",
   "metadata": {},
   "outputs": [
    {
     "ename": "FileNotFoundError",
     "evalue": "[Errno 2] No such file or directory: 'wc.py'",
     "output_type": "error",
     "traceback": [
      "\u001b[1;31m---------------------------------------------------------------------------\u001b[0m",
      "\u001b[1;31mFileNotFoundError\u001b[0m                         Traceback (most recent call last)",
      "Cell \u001b[1;32mIn[45], line 4\u001b[0m\n\u001b[0;32m      1\u001b[0m \u001b[38;5;124;03m\"\"\"Os programas que serão importados como módulos muitas vezes usam a seguinte\u001b[39;00m\n\u001b[0;32m      2\u001b[0m \u001b[38;5;124;03mexpressão:\"\"\"\u001b[39;00m\n\u001b[0;32m      3\u001b[0m \u001b[38;5;28;01mif\u001b[39;00m \u001b[38;5;18m__name__\u001b[39m \u001b[38;5;241m==\u001b[39m \u001b[38;5;124m'\u001b[39m\u001b[38;5;124m__main__\u001b[39m\u001b[38;5;124m'\u001b[39m:\n\u001b[1;32m----> 4\u001b[0m     \u001b[38;5;28mprint\u001b[39m(linecount(\u001b[38;5;124m'\u001b[39m\u001b[38;5;124mwc.py\u001b[39m\u001b[38;5;124m'\u001b[39m))\n",
      "Cell \u001b[1;32mIn[41], line 6\u001b[0m, in \u001b[0;36mlinecount\u001b[1;34m(filename)\u001b[0m\n\u001b[0;32m      4\u001b[0m \u001b[38;5;28;01mdef\u001b[39;00m \u001b[38;5;21mlinecount\u001b[39m(filename):\n\u001b[0;32m      5\u001b[0m     count \u001b[38;5;241m=\u001b[39m \u001b[38;5;241m0\u001b[39m\n\u001b[1;32m----> 6\u001b[0m     \u001b[38;5;28;01mfor\u001b[39;00m line \u001b[38;5;129;01min\u001b[39;00m \u001b[38;5;28mopen\u001b[39m(filename):\n\u001b[0;32m      7\u001b[0m         count \u001b[38;5;241m+\u001b[39m\u001b[38;5;241m=\u001b[39m \u001b[38;5;241m1\u001b[39m\n\u001b[0;32m      8\u001b[0m     \u001b[38;5;28;01mreturn\u001b[39;00m count\n",
      "File \u001b[1;32m~\\anaconda3\\Lib\\site-packages\\IPython\\core\\interactiveshell.py:284\u001b[0m, in \u001b[0;36m_modified_open\u001b[1;34m(file, *args, **kwargs)\u001b[0m\n\u001b[0;32m    277\u001b[0m \u001b[38;5;28;01mif\u001b[39;00m file \u001b[38;5;129;01min\u001b[39;00m {\u001b[38;5;241m0\u001b[39m, \u001b[38;5;241m1\u001b[39m, \u001b[38;5;241m2\u001b[39m}:\n\u001b[0;32m    278\u001b[0m     \u001b[38;5;28;01mraise\u001b[39;00m \u001b[38;5;167;01mValueError\u001b[39;00m(\n\u001b[0;32m    279\u001b[0m         \u001b[38;5;124mf\u001b[39m\u001b[38;5;124m\"\u001b[39m\u001b[38;5;124mIPython won\u001b[39m\u001b[38;5;124m'\u001b[39m\u001b[38;5;124mt let you open fd=\u001b[39m\u001b[38;5;132;01m{\u001b[39;00mfile\u001b[38;5;132;01m}\u001b[39;00m\u001b[38;5;124m by default \u001b[39m\u001b[38;5;124m\"\u001b[39m\n\u001b[0;32m    280\u001b[0m         \u001b[38;5;124m\"\u001b[39m\u001b[38;5;124mas it is likely to crash IPython. If you know what you are doing, \u001b[39m\u001b[38;5;124m\"\u001b[39m\n\u001b[0;32m    281\u001b[0m         \u001b[38;5;124m\"\u001b[39m\u001b[38;5;124myou can use builtins\u001b[39m\u001b[38;5;124m'\u001b[39m\u001b[38;5;124m open.\u001b[39m\u001b[38;5;124m\"\u001b[39m\n\u001b[0;32m    282\u001b[0m     )\n\u001b[1;32m--> 284\u001b[0m \u001b[38;5;28;01mreturn\u001b[39;00m io_open(file, \u001b[38;5;241m*\u001b[39margs, \u001b[38;5;241m*\u001b[39m\u001b[38;5;241m*\u001b[39mkwargs)\n",
      "\u001b[1;31mFileNotFoundError\u001b[0m: [Errno 2] No such file or directory: 'wc.py'"
     ]
    }
   ],
   "source": [
    "\"\"\"Os programas que serão importados como módulos muitas vezes usam a seguinte\n",
    "expressão:\"\"\"\n",
    "if __name__ == '__main__':\n",
    "    print(linecount('wc.py'))"
   ]
  },
  {
   "cell_type": "markdown",
   "id": "eaf75c08",
   "metadata": {},
   "source": [
    "<div>__name__ é uma variável integrada, estabelecida quando o programa inicia. Se o programa\n",
    "estiver rodando como um script, __name__ tem o valor '__main__'; neste caso, o código\n",
    "de teste é executado. Do contrário, se o módulo está sendo importado, o código de teste é\n",
    "ignorado.\n",
    "Como exercício, digite este exemplo em um arquivo chamado wc.py e execute-o como um\n",
    "script. Então execute o interpretador do Python e import wc. Qual é o valor de __name__\n",
    "quando o módulo está sendo importado?\n",
    "Atenção: se você importar um módulo que já tenha sido importado, o Python não faz nada.\n",
    "Ele não relê o arquivo, mesmo se tiver sido alterado.\n",
    "Se quiser recarregar um módulo, você pode usar a função integrada reload, mas isso pode\n",
    "causar problemas, então o mais seguro é reiniciar o interpretador e importar o módulo\n",
    "novamente.</div>"
   ]
  },
  {
   "cell_type": "markdown",
   "id": "7e11acd7",
   "metadata": {},
   "source": [
    "<div style=\"text-align: center\"> <h2> \n",
    "Depuração\n",
    "    </h2> </div>"
   ]
  },
  {
   "cell_type": "code",
   "execution_count": 46,
   "id": "74e04781",
   "metadata": {},
   "outputs": [
    {
     "name": "stdout",
     "output_type": "stream",
     "text": [
      "1 2\t 3\n",
      " 4\n"
     ]
    }
   ],
   "source": [
    "\"\"\"Quando estiver lendo e escrevendo arquivos, você pode ter problemas com whitespace.\n",
    "Esses erros podem ser difíceis para depurar, porque os espaços, tabulações e quebras de\n",
    "linha normalmente são invisíveis:\"\"\"\n",
    "s = '1 2\\t 3\\n 4'\n",
    "print(s)"
   ]
  },
  {
   "cell_type": "code",
   "execution_count": 47,
   "id": "233d765f",
   "metadata": {},
   "outputs": [
    {
     "name": "stdout",
     "output_type": "stream",
     "text": [
      "'1 2\\t 3\\n 4'\n"
     ]
    }
   ],
   "source": [
    "\"\"\"A função integrada repr pode ajudar. Ela recebe qualquer objeto como argumento e\n",
    "retorna uma representação em string do objeto. Para strings, representa caracteres de\n",
    "whitespace com sequências de barras invertidas:\"\"\"\n",
    "print(repr(s))"
   ]
  },
  {
   "cell_type": "markdown",
   "id": "cc1dcafd",
   "metadata": {},
   "source": [
    "Isso pode ser útil para a depuração.\n",
    "\n",
    "Outro problema que você pode ter é que sistemas diferentes usam caracteres diferentes\n",
    "para indicar o fim de uma linha. Alguns sistemas usam newline, representado por \\n.\n",
    "Outros usam um caractere de retorno, representado por \\r. Alguns usam ambos. Se mover\n",
    "arquivos entre sistemas diferentes, essas inconsistências podem causar problemas.\n",
    "\n",
    "Para a maior parte dos sistemas há aplicações para converter de um formato a outro. Você\n",
    "pode encontrá-los (e ler mais sobre o assunto) em http://en.wikipedia.org/wiki/Newline.\n",
    "Ou, é claro, você pode escrever um por conta própria."
   ]
  },
  {
   "cell_type": "code",
   "execution_count": null,
   "id": "1c5896cd",
   "metadata": {},
   "outputs": [],
   "source": []
  }
 ],
 "metadata": {
  "kernelspec": {
   "display_name": "Python 3 (ipykernel)",
   "language": "python",
   "name": "python3"
  },
  "language_info": {
   "codemirror_mode": {
    "name": "ipython",
    "version": 3
   },
   "file_extension": ".py",
   "mimetype": "text/x-python",
   "name": "python",
   "nbconvert_exporter": "python",
   "pygments_lexer": "ipython3",
   "version": "3.11.3"
  }
 },
 "nbformat": 4,
 "nbformat_minor": 5
}
