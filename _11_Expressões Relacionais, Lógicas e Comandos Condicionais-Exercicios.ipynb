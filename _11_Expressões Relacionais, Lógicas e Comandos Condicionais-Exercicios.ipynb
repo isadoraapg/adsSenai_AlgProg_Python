{
 "cells": [
  {
   "cell_type": "code",
   "execution_count": 1,
   "id": "2f5df772",
   "metadata": {},
   "outputs": [
    {
     "name": "stdout",
     "output_type": "stream",
     "text": [
      "Digite a velocidade do carro em km/h: 100\n",
      "Você foi multado!\n",
      "O valor da multa é de R$100.00\n"
     ]
    }
   ],
   "source": [
    "velocidade = float(input(\"Digite a velocidade do carro em km/h: \"))\n",
    "if velocidade > 80 :\n",
    "    multa = (velocidade - 80) * 5\n",
    "    print(\"Você foi multado!\")\n",
    "    print(\"O valor da multa é de R$%.2f\" %multa)\n",
    "else:\n",
    "    print(\"Sua velocidade está dentro do permitido\")"
   ]
  },
  {
   "cell_type": "code",
   "execution_count": 14,
   "id": "941fc447",
   "metadata": {},
   "outputs": [
    {
     "name": "stdout",
     "output_type": "stream",
     "text": [
      "Digite o primeiro número: 30\n",
      "Digite o segundo número: 10\n",
      "Digite o terceiro número: 15\n",
      "O maior número é 30\n",
      "O menor número é 10\n"
     ]
    }
   ],
   "source": [
    "numero1 = int(input(\"Digite o primeiro número: \"))\n",
    "numero2 = int(input(\"Digite o segundo número: \"))\n",
    "numero3 = int(input(\"Digite o terceiro número: \"))\n",
    "\n",
    "maior = numero1\n",
    "if numero2 > maior:\n",
    "    maior = numero2\n",
    "if numero3 > maior:\n",
    "    maior = numero3\n",
    "    \n",
    "menor = numero1\n",
    "if numero2 < menor:\n",
    "    menor = numero2\n",
    "if numero3 < menor:\n",
    "    menor = numero3\n",
    "    \n",
    "print(\"O maior número é\", maior)\n",
    "print(\"O menor número é\", menor)"
   ]
  },
  {
   "cell_type": "code",
   "execution_count": 18,
   "id": "d98f5d55",
   "metadata": {},
   "outputs": [
    {
     "name": "stdout",
     "output_type": "stream",
     "text": [
      "Informe o salário do funcionário: 1100\n",
      "O funcionário teve um aumento de R$165.00\n",
      "Seu novo salário é R$1265.00\n"
     ]
    }
   ],
   "source": [
    "salario = float(input(\"Informe o salário do funcionário: \"))\n",
    "\n",
    "if salario > 1250.00:\n",
    "    aumento = salario * 0.10\n",
    "else:\n",
    "    aumento = salario * 0.15\n",
    "\n",
    "novoSalario = salario + aumento\n",
    "\n",
    "print(\"O funcionário teve um aumento de R$%.2f\" %aumento)\n",
    "print(\"Seu novo salário é R$%.2f\" %novoSalario)"
   ]
  },
  {
   "cell_type": "code",
   "execution_count": 19,
   "id": "2528d0c7",
   "metadata": {},
   "outputs": [
    {
     "name": "stdout",
     "output_type": "stream",
     "text": [
      "Digite a distância que deseja percorrer em km: 20\n",
      "O preço da passagem é R$10.00\n"
     ]
    }
   ],
   "source": [
    "distancia = float(input(\"Digite a distância que deseja percorrer em km: \"))\n",
    "\n",
    "if distancia <= 200:\n",
    "    preco = distancia * 0.50\n",
    "    \n",
    "else:\n",
    "    preco = distancia * 0.45\n",
    "\n",
    "print(\"O preço da passagem é R$%.2f\" % preco)"
   ]
  },
  {
   "cell_type": "code",
   "execution_count": 1,
   "id": "db656dcc",
   "metadata": {},
   "outputs": [
    {
     "name": "stdout",
     "output_type": "stream",
     "text": [
      "Digite o primeiro número: 10\n",
      "Digite o segundo número: 2\n",
      "\n",
      "Escolha a operação que deseja realizar:\n",
      "1 - Soma\n",
      "2 - Subtração\n",
      "3 - Multiplicação\n",
      "4 - Divisão\n",
      "Digite o número correspondente à operação desejada: 2\n",
      "A subtração de 10.0 - 2.0 é igual a 8.0\n"
     ]
    }
   ],
   "source": [
    "numero1 = float(input(\"Digite o primeiro número: \"))\n",
    "numero2 = float(input(\"Digite o segundo número: \"))\n",
    "\n",
    "print(\"\\nEscolha a operação que deseja realizar:\")\n",
    "print(\"1 - Soma\")\n",
    "print(\"2 - Subtração\")\n",
    "print(\"3 - Multiplicação\")\n",
    "print(\"4 - Divisão\")\n",
    "\n",
    "operacao = int(input(\"Digite o número correspondente à operação desejada: \"))\n",
    "\n",
    "if operacao == 1:\n",
    "    resultado = numero1 + numero2\n",
    "    print(f\"A soma de {numero1} + {numero2} é igual a {resultado}\")\n",
    "elif operacao == 2:\n",
    "    resultado = numero1 - numero2\n",
    "    print(f\"A subtração de {numero1} - {numero2} é igual a {resultado}\")\n",
    "elif operacao == 3:\n",
    "    resultado = numero1 * numero2\n",
    "    print(f\"A multiplicação de {numero1} * {numero2} é igual a {resultado}\")\n",
    "elif operacao == 4:\n",
    "    if numero2 == 0:\n",
    "        print(\"Não é possível dividir por zero.\")\n",
    "    else:\n",
    "        resultado = numero1 / numero2\n",
    "        print(f\"A divisão de {numero1} / {numero2} é igual a {resultado}\")\n",
    "else:\n",
    "    print(\"Operação inválida. Escolha uma das opções disponíveis.\")"
   ]
  },
  {
   "cell_type": "code",
   "execution_count": 5,
   "id": "10261da3",
   "metadata": {},
   "outputs": [
    {
     "name": "stdout",
     "output_type": "stream",
     "text": [
      "Digite o valor da casa a comprar: 250000\n",
      "Digite o valor do salário: 3000\n",
      "Digite a quantidade de anos a pagar: 35\n",
      "Empréstimo aprovado. Valor da prestação: R$595.24\n"
     ]
    }
   ],
   "source": [
    "valorCasa = float(input(\"Digite o valor da casa a comprar: \"))\n",
    "salario = float(input(\"Digite o valor do salário: \"))\n",
    "anosPagar = int(input(\"Digite a quantidade de anos a pagar: \"))\n",
    "\n",
    "mesesPagar = anosPagar * 12\n",
    "valorPrestacao = valorCasa / mesesPagar\n",
    "\n",
    "if valorPrestacao > salario * 0.3:\n",
    "    print(\"Empréstimo negado. Valor da prestação excede 30% do salário.\")\n",
    "else:\n",
    "    print(\"Empréstimo aprovado. Valor da prestação: R$%.2f\" %valorPrestacao)"
   ]
  }
 ],
 "metadata": {
  "kernelspec": {
   "display_name": "Python 3 (ipykernel)",
   "language": "python",
   "name": "python3"
  },
  "language_info": {
   "codemirror_mode": {
    "name": "ipython",
    "version": 3
   },
   "file_extension": ".py",
   "mimetype": "text/x-python",
   "name": "python",
   "nbconvert_exporter": "python",
   "pygments_lexer": "ipython3",
   "version": "3.11.3"
  }
 },
 "nbformat": 4,
 "nbformat_minor": 5
}
